{
 "cells": [
  {
   "cell_type": "code",
   "execution_count": 5,
   "metadata": {},
   "outputs": [],
   "source": [
    "import numpy as np\n",
    "import pandas as pd\n",
    "from ast import literal_eval"
   ]
  },
  {
   "cell_type": "code",
   "execution_count": 8,
   "metadata": {},
   "outputs": [],
   "source": [
    "df = pd.read_csv('fatal_only.txt', sep = '\\t')"
   ]
  },
  {
   "cell_type": "code",
   "execution_count": 9,
   "metadata": {
    "scrolled": true
   },
   "outputs": [
    {
     "data": {
      "text/plain": [
       "762"
      ]
     },
     "execution_count": 9,
     "metadata": {},
     "output_type": "execute_result"
    }
   ],
   "source": [
    "df['Incident'].nunique()"
   ]
  },
  {
   "cell_type": "markdown",
   "metadata": {},
   "source": [
    "FITM- Freeway Incident Traffic Management Plans (FITM) \n",
    "\n",
    "SHA- State Highway Administration\n",
    "\n",
    "CHART- Coordinated Highways Action Response Team."
   ]
  },
  {
   "cell_type": "code",
   "execution_count": 10,
   "metadata": {
    "scrolled": true
   },
   "outputs": [
    {
     "data": {
      "text/html": [
       "<div>\n",
       "<style scoped>\n",
       "    .dataframe tbody tr th:only-of-type {\n",
       "        vertical-align: middle;\n",
       "    }\n",
       "\n",
       "    .dataframe tbody tr th {\n",
       "        vertical-align: top;\n",
       "    }\n",
       "\n",
       "    .dataframe thead th {\n",
       "        text-align: right;\n",
       "    }\n",
       "</style>\n",
       "<table border=\"1\" class=\"dataframe\">\n",
       "  <thead>\n",
       "    <tr style=\"text-align: right;\">\n",
       "      <th></th>\n",
       "      <th>Incident</th>\n",
       "      <th>Event</th>\n",
       "      <th>Time</th>\n",
       "    </tr>\n",
       "  </thead>\n",
       "  <tbody>\n",
       "    <tr>\n",
       "      <th>0</th>\n",
       "      <td>MDOT_CHART_00000000000000000000000000000006</td>\n",
       "      <td>Incident start</td>\n",
       "      <td>2010-07-21 16:35:20-04</td>\n",
       "    </tr>\n",
       "    <tr>\n",
       "      <th>1</th>\n",
       "      <td>MDOT_CHART_00000000000000000000000000000006</td>\n",
       "      <td>CHART Unit 9306 responded</td>\n",
       "      <td>2010-07-21 16:35:30-04</td>\n",
       "    </tr>\n",
       "    <tr>\n",
       "      <th>2</th>\n",
       "      <td>MDOT_CHART_00000000000000000000000000000006</td>\n",
       "      <td>CHART Unit 9300 responded</td>\n",
       "      <td>2010-07-21 16:44:10-04</td>\n",
       "    </tr>\n",
       "    <tr>\n",
       "      <th>3</th>\n",
       "      <td>MDOT_CHART_00000000000000000000000000000006</td>\n",
       "      <td>Arrow Board responded</td>\n",
       "      <td>2010-07-21 16:44:39-04</td>\n",
       "    </tr>\n",
       "    <tr>\n",
       "      <th>4</th>\n",
       "      <td>MDOT_CHART_00000000000000000000000000000006</td>\n",
       "      <td>State Police responded</td>\n",
       "      <td>2010-07-21 16:44:39-04</td>\n",
       "    </tr>\n",
       "    <tr>\n",
       "      <th>...</th>\n",
       "      <td>...</td>\n",
       "      <td>...</td>\n",
       "      <td>...</td>\n",
       "    </tr>\n",
       "    <tr>\n",
       "      <th>16759</th>\n",
       "      <td>MDOT_CHART_ffff9e3aac3105eb004d822e33235daa</td>\n",
       "      <td>Investigation-accident notified</td>\n",
       "      <td>2011-06-05 04:44:29-04</td>\n",
       "    </tr>\n",
       "    <tr>\n",
       "      <th>16760</th>\n",
       "      <td>MDOT_CHART_ffff9e3aac3105eb004d822e33235daa</td>\n",
       "      <td>Arrow Board arrived</td>\n",
       "      <td>2011-06-05 04:44:36-04</td>\n",
       "    </tr>\n",
       "    <tr>\n",
       "      <th>16761</th>\n",
       "      <td>MDOT_CHART_ffff9e3aac3105eb004d822e33235daa</td>\n",
       "      <td>Medical Examiner arrived</td>\n",
       "      <td>2011-06-05 04:44:36-04</td>\n",
       "    </tr>\n",
       "    <tr>\n",
       "      <th>16762</th>\n",
       "      <td>MDOT_CHART_ffff9e3aac3105eb004d822e33235daa</td>\n",
       "      <td>SHA 3404 departed</td>\n",
       "      <td>2011-06-05 08:30:45-04</td>\n",
       "    </tr>\n",
       "    <tr>\n",
       "      <th>16763</th>\n",
       "      <td>MDOT_CHART_ffff9e3aac3105eb004d822e33235daa</td>\n",
       "      <td>Incident closed</td>\n",
       "      <td>2011-06-05 08:31:56-04</td>\n",
       "    </tr>\n",
       "  </tbody>\n",
       "</table>\n",
       "<p>16764 rows × 3 columns</p>\n",
       "</div>"
      ],
      "text/plain": [
       "                                          Incident  \\\n",
       "0      MDOT_CHART_00000000000000000000000000000006   \n",
       "1      MDOT_CHART_00000000000000000000000000000006   \n",
       "2      MDOT_CHART_00000000000000000000000000000006   \n",
       "3      MDOT_CHART_00000000000000000000000000000006   \n",
       "4      MDOT_CHART_00000000000000000000000000000006   \n",
       "...                                            ...   \n",
       "16759  MDOT_CHART_ffff9e3aac3105eb004d822e33235daa   \n",
       "16760  MDOT_CHART_ffff9e3aac3105eb004d822e33235daa   \n",
       "16761  MDOT_CHART_ffff9e3aac3105eb004d822e33235daa   \n",
       "16762  MDOT_CHART_ffff9e3aac3105eb004d822e33235daa   \n",
       "16763  MDOT_CHART_ffff9e3aac3105eb004d822e33235daa   \n",
       "\n",
       "                                 Event                    Time  \n",
       "0                       Incident start  2010-07-21 16:35:20-04  \n",
       "1            CHART Unit 9306 responded  2010-07-21 16:35:30-04  \n",
       "2            CHART Unit 9300 responded  2010-07-21 16:44:10-04  \n",
       "3                Arrow Board responded  2010-07-21 16:44:39-04  \n",
       "4               State Police responded  2010-07-21 16:44:39-04  \n",
       "...                                ...                     ...  \n",
       "16759  Investigation-accident notified  2011-06-05 04:44:29-04  \n",
       "16760              Arrow Board arrived  2011-06-05 04:44:36-04  \n",
       "16761         Medical Examiner arrived  2011-06-05 04:44:36-04  \n",
       "16762                SHA 3404 departed  2011-06-05 08:30:45-04  \n",
       "16763                  Incident closed  2011-06-05 08:31:56-04  \n",
       "\n",
       "[16764 rows x 3 columns]"
      ]
     },
     "execution_count": 10,
     "metadata": {},
     "output_type": "execute_result"
    }
   ],
   "source": [
    "df"
   ]
  },
  {
   "cell_type": "code",
   "execution_count": 11,
   "metadata": {},
   "outputs": [],
   "source": [
    "df['Time']= pd.to_datetime(df['Time'])"
   ]
  },
  {
   "cell_type": "code",
   "execution_count": null,
   "metadata": {},
   "outputs": [],
   "source": [
    "df.to_csv('high',index=False)"
   ]
  },
  {
   "cell_type": "code",
   "execution_count": null,
   "metadata": {
    "scrolled": true
   },
   "outputs": [],
   "source": [
    "a= df['Event'].value_counts()\n",
    "x = pd.DataFrame(a)\n",
    "y = x.loc[x['Event'] <100]"
   ]
  },
  {
   "cell_type": "code",
   "execution_count": null,
   "metadata": {
    "scrolled": true
   },
   "outputs": [],
   "source": [
    "y"
   ]
  },
  {
   "cell_type": "markdown",
   "metadata": {},
   "source": [
    "Aggregating CHART actions by removing specefic unit number. "
   ]
  },
  {
   "cell_type": "code",
   "execution_count": 24,
   "metadata": {},
   "outputs": [],
   "source": [
    "df.Event.replace(r'(CHART.+responded)' , 'CHART Unit responded', regex=True, inplace=True)\n",
    "df.Event.replace(r'(CHART.+notified)' , 'CHART Unit notified', regex=True, inplace=True)\n",
    "df.Event.replace(r'(CHART.+departed)' , 'CHART Unit departed', regex=True, inplace=True)\n",
    "df.Event.replace(r'(CHART.+arrived)' , 'CHART Unit arrived', regex=True, inplace=True)\n",
    "df.Event.replace(r'(CHART.+removed)' , 'CHART Unit removed', regex=True, inplace=True)\n",
    "df.Event.replace(r'(SHA.+departed)' , 'SHA departed', regex=True, inplace=True)\n",
    "df.Event.replace(r'(SHA.+notified)' , 'SHA notified', regex=True, inplace=True)\n",
    "df.Event.replace(r'(SHA.+responded)' , 'SHA responded', regex=True, inplace=True)\n",
    "df.Event.replace(r'(SHA.+arrived)' , 'SHA arrived', regex=True, inplace=True)\n",
    "df.Event.replace(r'(.+Arrowboard.+notified)' , 'Arrow board notified', regex=True, inplace=True)\n",
    "df.Event.replace(r'(.+Arrowboard.+responded)' , 'Arrow board responded', regex=True, inplace=True)\n",
    "df.Event.replace(r'(.+Arrowboard.+departed)' , 'Arrow board departed', regex=True, inplace=True)\n",
    "df.Event.replace(r'(\\d{4}.+departed)' , 'SHA departed', regex=True, inplace=True)\n",
    "df.Event.replace(r'(\\d{4}.+notified)' , 'SHA notified', regex=True, inplace=True)\n",
    "df.Event.replace(r'(\\d{4}.+arrived)' , 'SHA arrived', regex=True, inplace=True)\n",
    "df.Event.replace(r'(Cones.+arrived)' , 'Cones arrived', regex=True, inplace=True)\n",
    "df.Event.replace(r'(Cones.+departed)' , 'Cones departed', regex=True, inplace=True)\n",
    "df.Event.replace(r'(Cones.+notified)' , 'Cones notified', regex=True, inplace=True)"
   ]
  },
  {
   "cell_type": "markdown",
   "metadata": {},
   "source": [
    "Removing any Incident that happened just once."
   ]
  },
  {
   "cell_type": "code",
   "execution_count": 25,
   "metadata": {
    "scrolled": true
   },
   "outputs": [],
   "source": [
    "df = df[df.duplicated('Event', keep=False)]"
   ]
  },
  {
   "cell_type": "code",
   "execution_count": 26,
   "metadata": {
    "scrolled": false
   },
   "outputs": [
    {
     "data": {
      "text/html": [
       "<div>\n",
       "<style scoped>\n",
       "    .dataframe tbody tr th:only-of-type {\n",
       "        vertical-align: middle;\n",
       "    }\n",
       "\n",
       "    .dataframe tbody tr th {\n",
       "        vertical-align: top;\n",
       "    }\n",
       "\n",
       "    .dataframe thead th {\n",
       "        text-align: right;\n",
       "    }\n",
       "</style>\n",
       "<table border=\"1\" class=\"dataframe\">\n",
       "  <thead>\n",
       "    <tr style=\"text-align: right;\">\n",
       "      <th></th>\n",
       "      <th>Incident</th>\n",
       "      <th>Event</th>\n",
       "      <th>Time</th>\n",
       "    </tr>\n",
       "  </thead>\n",
       "  <tbody>\n",
       "    <tr>\n",
       "      <th>0</th>\n",
       "      <td>MDOT_CHART_00000000000000000000000000000006</td>\n",
       "      <td>Incident start</td>\n",
       "      <td>2010-07-21 16:35:20-04:00</td>\n",
       "    </tr>\n",
       "    <tr>\n",
       "      <th>1</th>\n",
       "      <td>MDOT_CHART_00000000000000000000000000000006</td>\n",
       "      <td>CHART Unit responded</td>\n",
       "      <td>2010-07-21 16:35:30-04:00</td>\n",
       "    </tr>\n",
       "    <tr>\n",
       "      <th>2</th>\n",
       "      <td>MDOT_CHART_00000000000000000000000000000006</td>\n",
       "      <td>CHART Unit responded</td>\n",
       "      <td>2010-07-21 16:44:10-04:00</td>\n",
       "    </tr>\n",
       "    <tr>\n",
       "      <th>3</th>\n",
       "      <td>MDOT_CHART_00000000000000000000000000000006</td>\n",
       "      <td>Arrow Board responded</td>\n",
       "      <td>2010-07-21 16:44:39-04:00</td>\n",
       "    </tr>\n",
       "    <tr>\n",
       "      <th>4</th>\n",
       "      <td>MDOT_CHART_00000000000000000000000000000006</td>\n",
       "      <td>State Police responded</td>\n",
       "      <td>2010-07-21 16:44:39-04:00</td>\n",
       "    </tr>\n",
       "    <tr>\n",
       "      <th>...</th>\n",
       "      <td>...</td>\n",
       "      <td>...</td>\n",
       "      <td>...</td>\n",
       "    </tr>\n",
       "    <tr>\n",
       "      <th>16759</th>\n",
       "      <td>MDOT_CHART_ffff9e3aac3105eb004d822e33235daa</td>\n",
       "      <td>Investigation-accident notified</td>\n",
       "      <td>2011-06-05 04:44:29-04:00</td>\n",
       "    </tr>\n",
       "    <tr>\n",
       "      <th>16760</th>\n",
       "      <td>MDOT_CHART_ffff9e3aac3105eb004d822e33235daa</td>\n",
       "      <td>Arrow Board arrived</td>\n",
       "      <td>2011-06-05 04:44:36-04:00</td>\n",
       "    </tr>\n",
       "    <tr>\n",
       "      <th>16761</th>\n",
       "      <td>MDOT_CHART_ffff9e3aac3105eb004d822e33235daa</td>\n",
       "      <td>Medical Examiner arrived</td>\n",
       "      <td>2011-06-05 04:44:36-04:00</td>\n",
       "    </tr>\n",
       "    <tr>\n",
       "      <th>16762</th>\n",
       "      <td>MDOT_CHART_ffff9e3aac3105eb004d822e33235daa</td>\n",
       "      <td>SHA departed</td>\n",
       "      <td>2011-06-05 08:30:45-04:00</td>\n",
       "    </tr>\n",
       "    <tr>\n",
       "      <th>16763</th>\n",
       "      <td>MDOT_CHART_ffff9e3aac3105eb004d822e33235daa</td>\n",
       "      <td>Incident closed</td>\n",
       "      <td>2011-06-05 08:31:56-04:00</td>\n",
       "    </tr>\n",
       "  </tbody>\n",
       "</table>\n",
       "<p>15553 rows × 3 columns</p>\n",
       "</div>"
      ],
      "text/plain": [
       "                                          Incident  \\\n",
       "0      MDOT_CHART_00000000000000000000000000000006   \n",
       "1      MDOT_CHART_00000000000000000000000000000006   \n",
       "2      MDOT_CHART_00000000000000000000000000000006   \n",
       "3      MDOT_CHART_00000000000000000000000000000006   \n",
       "4      MDOT_CHART_00000000000000000000000000000006   \n",
       "...                                            ...   \n",
       "16759  MDOT_CHART_ffff9e3aac3105eb004d822e33235daa   \n",
       "16760  MDOT_CHART_ffff9e3aac3105eb004d822e33235daa   \n",
       "16761  MDOT_CHART_ffff9e3aac3105eb004d822e33235daa   \n",
       "16762  MDOT_CHART_ffff9e3aac3105eb004d822e33235daa   \n",
       "16763  MDOT_CHART_ffff9e3aac3105eb004d822e33235daa   \n",
       "\n",
       "                                 Event                       Time  \n",
       "0                       Incident start  2010-07-21 16:35:20-04:00  \n",
       "1                 CHART Unit responded  2010-07-21 16:35:30-04:00  \n",
       "2                 CHART Unit responded  2010-07-21 16:44:10-04:00  \n",
       "3                Arrow Board responded  2010-07-21 16:44:39-04:00  \n",
       "4               State Police responded  2010-07-21 16:44:39-04:00  \n",
       "...                                ...                        ...  \n",
       "16759  Investigation-accident notified  2011-06-05 04:44:29-04:00  \n",
       "16760              Arrow Board arrived  2011-06-05 04:44:36-04:00  \n",
       "16761         Medical Examiner arrived  2011-06-05 04:44:36-04:00  \n",
       "16762                     SHA departed  2011-06-05 08:30:45-04:00  \n",
       "16763                  Incident closed  2011-06-05 08:31:56-04:00  \n",
       "\n",
       "[15553 rows x 3 columns]"
      ]
     },
     "execution_count": 26,
     "metadata": {},
     "output_type": "execute_result"
    }
   ],
   "source": [
    "df"
   ]
  },
  {
   "cell_type": "code",
   "execution_count": 27,
   "metadata": {},
   "outputs": [],
   "source": [
    "df.to_csv('cleaned.txt',index=False,header=False,sep=\"\\t\")"
   ]
  },
  {
   "cell_type": "markdown",
   "metadata": {},
   "source": [
    "Looking at the most commonly occuring events"
   ]
  },
  {
   "cell_type": "code",
   "execution_count": null,
   "metadata": {},
   "outputs": [],
   "source": [
    "a= df['Event'].value_counts()\n",
    "x = pd.DataFrame(a)\n",
    "y = x.loc[x['Event'] >200] #Change number of instances two see occurence of events"
   ]
  },
  {
   "cell_type": "code",
   "execution_count": null,
   "metadata": {},
   "outputs": [],
   "source": [
    "y.reset_index(level=0, inplace=True)\n",
    "x.reset_index(level=0, inplace=True)"
   ]
  },
  {
   "cell_type": "code",
   "execution_count": null,
   "metadata": {
    "scrolled": true
   },
   "outputs": [],
   "source": [
    "y.plot(kind='bar',x= 'index',y='Event')"
   ]
  },
  {
   "cell_type": "markdown",
   "metadata": {},
   "source": [
    "Making a Data Frame with just the time taken to deal with an incident"
   ]
  },
  {
   "cell_type": "code",
   "execution_count": null,
   "metadata": {},
   "outputs": [],
   "source": [
    "df1 = df[(df['Event'] == 'Incident start') | (df['Event'] == 'Incident closed')]\n",
    "df1 = df1.groupby('Incident').apply(\n",
    "        lambda g: pd.Series(g['Time'].values))\n",
    "df1['Time'] = (pd.to_datetime(df1[1]) - pd.to_datetime(df1[0]))\n",
    "df1.reset_index(level=0, inplace=True)\n",
    "df1.columns = ['Incident', 'Start', 'Close', 'Time']"
   ]
  },
  {
   "cell_type": "code",
   "execution_count": null,
   "metadata": {
    "scrolled": true
   },
   "outputs": [],
   "source": [
    "df1.head(1)"
   ]
  },
  {
   "cell_type": "markdown",
   "metadata": {},
   "source": [
    "The following dataset has the count of unique events for each incident. Will use this to count average occurence of any event in an incident."
   ]
  },
  {
   "cell_type": "code",
   "execution_count": null,
   "metadata": {},
   "outputs": [],
   "source": [
    "df_avg= pd.DataFrame()\n",
    "for g, temp in df.groupby('Incident'):\n",
    "    et= temp['Event'].value_counts()\n",
    "    df2= pd.DataFrame(et)\n",
    "    df2['I']=g\n",
    "    df_avg = df_avg.append(df2)\n",
    "    a=a+1\n",
    "    \n",
    "df_avg.reset_index(level=0, inplace=True)"
   ]
  },
  {
   "cell_type": "code",
   "execution_count": null,
   "metadata": {},
   "outputs": [],
   "source": [
    "df_avg= df_avg.groupby('index', as_index=False)['Event'].sum()\n",
    "df_avg = pd.DataFrame(df_avg)\n",
    "df_avg = df_avg.sort_values(by=['Event'], ascending=False)"
   ]
  },
  {
   "cell_type": "code",
   "execution_count": null,
   "metadata": {},
   "outputs": [],
   "source": [
    "df_avg['Event']= df_avg['Event']/762"
   ]
  },
  {
   "cell_type": "code",
   "execution_count": null,
   "metadata": {},
   "outputs": [],
   "source": [
    "df_avg.head(5)"
   ]
  },
  {
   "cell_type": "code",
   "execution_count": null,
   "metadata": {},
   "outputs": [],
   "source": [
    "freq_100 = df_avg.loc[df_avg['Event'] >0.2]"
   ]
  },
  {
   "cell_type": "code",
   "execution_count": null,
   "metadata": {},
   "outputs": [],
   "source": [
    "freq_100"
   ]
  },
  {
   "cell_type": "code",
   "execution_count": null,
   "metadata": {},
   "outputs": [],
   "source": []
  },
  {
   "cell_type": "code",
   "execution_count": null,
   "metadata": {},
   "outputs": [],
   "source": []
  }
 ],
 "metadata": {
  "kernelspec": {
   "display_name": "Python 3",
   "language": "python",
   "name": "python3"
  },
  "language_info": {
   "codemirror_mode": {
    "name": "ipython",
    "version": 3
   },
   "file_extension": ".py",
   "mimetype": "text/x-python",
   "name": "python",
   "nbconvert_exporter": "python",
   "pygments_lexer": "ipython3",
   "version": "3.8.3"
  }
 },
 "nbformat": 4,
 "nbformat_minor": 4
}
