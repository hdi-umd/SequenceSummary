{
 "cells": [
  {
   "cell_type": "code",
   "execution_count": null,
   "metadata": {},
   "outputs": [],
   "source": [
    "import numpy as np\n",
    "import pandas as pd\n",
    "from ast import literal_eval"
   ]
  },
  {
   "cell_type": "code",
   "execution_count": null,
   "metadata": {},
   "outputs": [],
   "source": [
    "df = pd.read_csv('Fatal-Highway.txt', sep = '\\t')"
   ]
  },
  {
   "cell_type": "code",
   "execution_count": null,
   "metadata": {
    "scrolled": true
   },
   "outputs": [],
   "source": [
    "df['Incident'].nunique()"
   ]
  },
  {
   "cell_type": "markdown",
   "metadata": {},
   "source": [
    "FITM- Freeway Incident Traffic Management Plans (FITM) \n",
    "\n",
    "SHA- State Highway Administration\n",
    "\n",
    "CHART- Coordinated Highways Action Response Team."
   ]
  },
  {
   "cell_type": "code",
   "execution_count": null,
   "metadata": {
    "scrolled": true
   },
   "outputs": [],
   "source": [
    "df"
   ]
  },
  {
   "cell_type": "code",
   "execution_count": null,
   "metadata": {},
   "outputs": [],
   "source": [
    "df['Time']= pd.to_datetime(df['Time'])"
   ]
  },
  {
   "cell_type": "code",
   "execution_count": null,
   "metadata": {},
   "outputs": [],
   "source": [
    "df.to_csv('high',index=False)"
   ]
  },
  {
   "cell_type": "code",
   "execution_count": null,
   "metadata": {
    "scrolled": true
   },
   "outputs": [],
   "source": [
    "a= df['Event'].value_counts()\n",
    "x = pd.DataFrame(a)\n",
    "y = x.loc[x['Event'] <100]"
   ]
  },
  {
   "cell_type": "code",
   "execution_count": null,
   "metadata": {
    "scrolled": true
   },
   "outputs": [],
   "source": [
    "y"
   ]
  },
  {
   "cell_type": "markdown",
   "metadata": {},
   "source": [
    "Aggregating CHART actions by removing specefic unit number. "
   ]
  },
  {
   "cell_type": "code",
   "execution_count": null,
   "metadata": {},
   "outputs": [],
   "source": [
    "df.Event.replace(r'(CHART.+responded)' , 'CHART Unit responded', \n",
    "                           regex=True, inplace=True)\n",
    "df.Event.replace(r'(CHART.+notified)' , 'CHART Unit notified', \n",
    "                           regex=True, inplace=True)\n",
    "df.Event.replace(r'(CHART.+departed)' , 'CHART Unit departed', \n",
    "                           regex=True, inplace=True)\n",
    "df.Event.replace(r'(CHART.+arrived)' , 'CHART Unit arrived', \n",
    "                           regex=True, inplace=True)\n",
    "df.Event.replace(r'(CHART.+removed)' , 'CHART Unit removed', \n",
    "                           regex=True, inplace=True)"
   ]
  },
  {
   "cell_type": "markdown",
   "metadata": {},
   "source": [
    "Removing any Incident that happened just once."
   ]
  },
  {
   "cell_type": "code",
   "execution_count": null,
   "metadata": {
    "scrolled": true
   },
   "outputs": [],
   "source": [
    "df = df[df.duplicated('Event', keep=False)]"
   ]
  },
  {
   "cell_type": "code",
   "execution_count": null,
   "metadata": {
    "scrolled": true
   },
   "outputs": [],
   "source": [
    "df.head(5)"
   ]
  },
  {
   "cell_type": "markdown",
   "metadata": {},
   "source": [
    "Looking at the most commonly occuring events"
   ]
  },
  {
   "cell_type": "code",
   "execution_count": null,
   "metadata": {},
   "outputs": [],
   "source": [
    "a= df['Event'].value_counts()\n",
    "x = pd.DataFrame(a)\n",
    "y = x.loc[x['Event'] >200] #Change number of instances two see occurence of events"
   ]
  },
  {
   "cell_type": "code",
   "execution_count": null,
   "metadata": {},
   "outputs": [],
   "source": [
    "y.reset_index(level=0, inplace=True)\n",
    "x.reset_index(level=0, inplace=True)"
   ]
  },
  {
   "cell_type": "code",
   "execution_count": null,
   "metadata": {
    "scrolled": true
   },
   "outputs": [],
   "source": [
    "y.plot(kind='bar',x= 'index',y='Event')"
   ]
  },
  {
   "cell_type": "markdown",
   "metadata": {},
   "source": [
    "Making a Data Frame with just the time taken to deal with an incident"
   ]
  },
  {
   "cell_type": "code",
   "execution_count": null,
   "metadata": {},
   "outputs": [],
   "source": [
    "df1 = df[(df['Event'] == 'Incident start') | (df['Event'] == 'Incident closed')]\n",
    "df1 = df1.groupby('Incident').apply(\n",
    "        lambda g: pd.Series(g['Time'].values))\n",
    "df1['Time'] = (pd.to_datetime(df1[1]) - pd.to_datetime(df1[0]))\n",
    "df1.reset_index(level=0, inplace=True)\n",
    "df1.columns = ['Incident', 'Start', 'Close', 'Time']"
   ]
  },
  {
   "cell_type": "code",
   "execution_count": null,
   "metadata": {
    "scrolled": true
   },
   "outputs": [],
   "source": [
    "df1.head(1)"
   ]
  },
  {
   "cell_type": "markdown",
   "metadata": {},
   "source": [
    "The following dataset has the count of unique events for each incident. Will use this to count average occurence of any event in an incident."
   ]
  },
  {
   "cell_type": "code",
   "execution_count": null,
   "metadata": {},
   "outputs": [],
   "source": [
    "df_avg= pd.DataFrame()\n",
    "for g, temp in df.groupby('Incident'):\n",
    "    et= temp['Event'].value_counts()\n",
    "    df2= pd.DataFrame(et)\n",
    "    df2['I']=g\n",
    "    df_avg = df_avg.append(df2)\n",
    "    a=a+1\n",
    "    \n",
    "df_avg.reset_index(level=0, inplace=True)"
   ]
  },
  {
   "cell_type": "code",
   "execution_count": null,
   "metadata": {},
   "outputs": [],
   "source": [
    "df_avg= df_avg.groupby('index', as_index=False)['Event'].sum()\n",
    "df_avg = pd.DataFrame(df_avg)\n",
    "df_avg = df_avg.sort_values(by=['Event'], ascending=False)"
   ]
  },
  {
   "cell_type": "code",
   "execution_count": null,
   "metadata": {},
   "outputs": [],
   "source": [
    "df_avg['Event']= df_avg['Event']/762"
   ]
  },
  {
   "cell_type": "code",
   "execution_count": null,
   "metadata": {},
   "outputs": [],
   "source": [
    "df_avg.head(5)"
   ]
  },
  {
   "cell_type": "code",
   "execution_count": null,
   "metadata": {},
   "outputs": [],
   "source": [
    "freq_100 = df_avg.loc[df_avg['Event'] >0.2]"
   ]
  },
  {
   "cell_type": "code",
   "execution_count": null,
   "metadata": {},
   "outputs": [],
   "source": [
    "freq_100"
   ]
  },
  {
   "cell_type": "code",
   "execution_count": null,
   "metadata": {},
   "outputs": [],
   "source": []
  },
  {
   "cell_type": "code",
   "execution_count": null,
   "metadata": {},
   "outputs": [],
   "source": []
  }
 ],
 "metadata": {
  "kernelspec": {
   "display_name": "Python 3",
   "language": "python",
   "name": "python3"
  },
  "language_info": {
   "codemirror_mode": {
    "name": "ipython",
    "version": 3
   },
   "file_extension": ".py",
   "mimetype": "text/x-python",
   "name": "python",
   "nbconvert_exporter": "python",
   "pygments_lexer": "ipython3",
   "version": "3.7.4"
  }
 },
 "nbformat": 4,
 "nbformat_minor": 4
}
