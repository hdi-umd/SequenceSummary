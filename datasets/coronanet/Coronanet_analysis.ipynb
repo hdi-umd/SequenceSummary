{
 "cells": [
  {
   "cell_type": "code",
   "execution_count": null,
   "metadata": {},
   "outputs": [],
   "source": [
    "import pandas as pd\n",
    "import numpy as np\n",
    "import re"
   ]
  },
  {
   "cell_type": "code",
   "execution_count": null,
   "metadata": {},
   "outputs": [],
   "source": [
    "pd.set_option('display.max_rows', None)"
   ]
  },
  {
   "cell_type": "code",
   "execution_count": null,
   "metadata": {},
   "outputs": [],
   "source": [
    "#df=pd.read_csv(\"./coronanet_release.csv\", sep=\",\",usecols=[0,1,2,3,4,5,7,8,9,10,13,18,19])"
   ]
  },
  {
   "cell_type": "code",
   "execution_count": null,
   "metadata": {},
   "outputs": [],
   "source": [
    "df=pd.read_csv(\"./coronanet_release.csv\", sep=\",\",usecols=[1,2,3,4,5,7,8,9,10,13,18,19])"
   ]
  },
  {
   "cell_type": "code",
   "execution_count": null,
   "metadata": {},
   "outputs": [],
   "source": [
    "df.head(50)\n"
   ]
  },
  {
   "cell_type": "code",
   "execution_count": null,
   "metadata": {},
   "outputs": [],
   "source": []
  },
  {
   "cell_type": "code",
   "execution_count": null,
   "metadata": {},
   "outputs": [],
   "source": [
    "df.columns"
   ]
  },
  {
   "cell_type": "markdown",
   "metadata": {},
   "source": [
    "# ANalysis Part"
   ]
  },
  {
   "cell_type": "code",
   "execution_count": null,
   "metadata": {},
   "outputs": [],
   "source": [
    "#Number of unique events\n",
    "print(df[\"type\"].unique())\n",
    "print(df[\"type\"].nunique())"
   ]
  },
  {
   "cell_type": "code",
   "execution_count": null,
   "metadata": {},
   "outputs": [],
   "source": [
    "#Number of uniique countries\n",
    "print(df[\"country\"].unique())\n",
    "#df[df[\"Event name\"].isin(['airwaytime'])]"
   ]
  },
  {
   "cell_type": "markdown",
   "metadata": {},
   "source": [
    "#Asia\n",
    "India, Pakistan, Bangladesh, China, South Korea, Japan, Singapore\n",
    "#Europe\n",
    "Germany, Farnce, Italy, UK, Russia\n",
    "#North America\n",
    "Canada, US, Mexico\n",
    "#South America\n",
    "Brazil, Chili\n",
    "#Australia\n",
    "Australia\n",
    "#Africa\n",
    "Sudan, Ghana, Ethiopia, Nigeria"
   ]
  },
  {
   "cell_type": "code",
   "execution_count": null,
   "metadata": {},
   "outputs": [],
   "source": [
    "#Number of uniique countries\n",
    "print(df[\"policy_id\"].nunique())\n",
    "#df[df[\"Event name\"].isin(['airwaytime'])]"
   ]
  },
  {
   "cell_type": "code",
   "execution_count": null,
   "metadata": {},
   "outputs": [],
   "source": [
    "temp=(df[['policy_id',\"country\"]].groupby('country').count())\n",
    "print(temp)\n",
    "print(temp.iloc[[temp[\"policy_id\"].argmax()]])\n",
    "\n",
    "print(temp.iloc[[temp[\"policy_id\"].argmin()]])\n",
    "\n",
    "print(temp[\"policy_id\"].median())"
   ]
  },
  {
   "cell_type": "code",
   "execution_count": null,
   "metadata": {},
   "outputs": [],
   "source": [
    "# for time interval\n",
    "temp=df.dropna(subset=[\"date_end\"])\n",
    "temp.shape\n",
    "temp['date_start']=pd.to_datetime(temp['date_start'], infer_datetime_format=True)\n",
    "temp['date_end']=pd.to_datetime(temp['date_end'], infer_datetime_format=True)"
   ]
  },
  {
   "cell_type": "code",
   "execution_count": null,
   "metadata": {},
   "outputs": [],
   "source": [
    "temp.dtypes"
   ]
  },
  {
   "cell_type": "code",
   "execution_count": null,
   "metadata": {},
   "outputs": [],
   "source": [
    "temp['diff']=(temp['date_end']-temp['date_start']).dt.days\n",
    "#print(temp.iloc[[temp['diff'].max()]])\n",
    "#print(temp.iloc[[temp['diff'].min()]])\n",
    "#print(temp['diff'].median())\n",
    "display(temp.head())\n",
    "print(temp['diff'].max())\n",
    "print(temp['diff'].min())\n",
    "print(temp['diff'].median())\n"
   ]
  },
  {
   "cell_type": "markdown",
   "metadata": {},
   "source": [
    "# Conversion Part"
   ]
  },
  {
   "cell_type": "markdown",
   "metadata": {},
   "source": [
    "## Creating Subset"
   ]
  },
  {
   "cell_type": "code",
   "execution_count": null,
   "metadata": {},
   "outputs": [],
   "source": [
    "df['date_start']=pd.to_datetime(df['date_start'], infer_datetime_format=True)\n",
    "df['date_end']=pd.to_datetime(df['date_end'], infer_datetime_format=True)"
   ]
  },
  {
   "cell_type": "code",
   "execution_count": null,
   "metadata": {},
   "outputs": [],
   "source": [
    "df.dropna(subset=[\"date_end\"],inplace=True)"
   ]
  },
  {
   "cell_type": "code",
   "execution_count": null,
   "metadata": {},
   "outputs": [],
   "source": [
    "countries=[\"India\", \"Pakistan\", \"Bangladesh\", \"China\", \"South Korea\", \"Japan\", \"Singapore\", \"Germany\", \"France\", \"Italy\", \"United Kingdom\",  \"Canada\", \"United States of America\", \"Mexico\", \"Brazil\", \"Chile\", \"Australia\", \"Sudan\", \"Ghana\", \"Ethiopia\", \"Nigeria\"]"
   ]
  },
  {
   "cell_type": "code",
   "execution_count": null,
   "metadata": {},
   "outputs": [],
   "source": [
    "df.fillna('', inplace=True)"
   ]
  },
  {
   "cell_type": "code",
   "execution_count": null,
   "metadata": {},
   "outputs": [],
   "source": [
    "# keeping only original entries for now, need to discuss\n",
    "\n",
    "df.drop(df.loc[df['correct_type']==\"correction\"].index, inplace=True)"
   ]
  },
  {
   "cell_type": "code",
   "execution_count": null,
   "metadata": {},
   "outputs": [],
   "source": [
    "# Dropping erroneous entries\n",
    "\n",
    "df.drop(df.loc[df[\"date_end\"]<=df[\"date_start\"]].index, inplace=True)"
   ]
  },
  {
   "cell_type": "code",
   "execution_count": null,
   "metadata": {},
   "outputs": [],
   "source": [
    "# Dropping entries before and after 2020\n",
    "\n",
    "df.drop(df.loc[df[\"date_end\"]>'2021-04-01'].index, inplace=True)"
   ]
  },
  {
   "cell_type": "code",
   "execution_count": null,
   "metadata": {},
   "outputs": [],
   "source": [
    "df.drop(df.loc[df[\"date_start\"]>='2020-04-01'].index, inplace=True)"
   ]
  },
  {
   "cell_type": "code",
   "execution_count": null,
   "metadata": {},
   "outputs": [],
   "source": [
    "#subsetting Countries\n",
    "subset_df=df[df[\"country\"].isin(countries)]"
   ]
  },
  {
   "cell_type": "code",
   "execution_count": null,
   "metadata": {},
   "outputs": [],
   "source": [
    "subset_df.to_csv(\"coronanet_subset_shortened_Feb.csv\",index=False)"
   ]
  },
  {
   "cell_type": "code",
   "execution_count": null,
   "metadata": {},
   "outputs": [],
   "source": [
    "len(subset_df)"
   ]
  },
  {
   "cell_type": "code",
   "execution_count": null,
   "metadata": {},
   "outputs": [],
   "source": [
    "min(df[\"date_end\"])"
   ]
  },
  {
   "cell_type": "markdown",
   "metadata": {},
   "source": [
    "## OTher attempts to tweak the data"
   ]
  },
  {
   "cell_type": "code",
   "execution_count": null,
   "metadata": {},
   "outputs": [],
   "source": [
    "df.groupby([\"policy_id\",\"entry_type\",\"update_type\"]).groups"
   ]
  },
  {
   "cell_type": "code",
   "execution_count": null,
   "metadata": {},
   "outputs": [],
   "source": [
    "temp=df.groupby([\"policy_id\",\"entry_type\",\"update_type\"]).tail(1)#.sort_values([\"country\",\"policy_id\",\"update_type\"])"
   ]
  },
  {
   "cell_type": "code",
   "execution_count": null,
   "metadata": {},
   "outputs": [],
   "source": [
    "df[\"record_id\"].nunique()"
   ]
  },
  {
   "cell_type": "code",
   "execution_count": null,
   "metadata": {},
   "outputs": [],
   "source": [
    "temp.head(50)"
   ]
  },
  {
   "cell_type": "code",
   "execution_count": null,
   "metadata": {},
   "outputs": [],
   "source": [
    "for policies in temp[\"policy_id\"].unique():\n",
    "    temp_df=temp.loc[temp[\"policy_id\"]==policies]\n",
    "    end=temp_df.loc[temp[\"update_type\"]==\"End of Policy\"]\n",
    "    if not end.empty:\n",
    "        if(end['date_end']==\"\"):\n",
    "            temp_df.head(1)[\"date_end\"]=end['date_start']\n",
    "        else:\n",
    "            temp_df.head(1)[\"date_end\"]=end['date_start']\n",
    "        print(end['date_start'])\n",
    "        print(end['date_end'])"
   ]
  },
  {
   "cell_type": "code",
   "execution_count": null,
   "metadata": {},
   "outputs": [],
   "source": [
    "len(temp[temp.update_type==\"End of Policy\"])"
   ]
  },
  {
   "cell_type": "code",
   "execution_count": null,
   "metadata": {},
   "outputs": [],
   "source": [
    "len(temp)"
   ]
  },
  {
   "cell_type": "code",
   "execution_count": null,
   "metadata": {},
   "outputs": [],
   "source": [
    "len(df[df.update_type==\"End of Policy\"])"
   ]
  },
  {
   "cell_type": "code",
   "execution_count": null,
   "metadata": {},
   "outputs": [],
   "source": [
    "#rearrange columns so country is at first\n",
    "cols = ['country','type','date_start','date_end']  + [col for col in df if col not in  ['country','type','date_start','date_end']]\n",
    "df=df[cols]\n"
   ]
  },
  {
   "cell_type": "code",
   "execution_count": null,
   "metadata": {},
   "outputs": [],
   "source": [
    "df[\"date_start\"]=pd.to_datetime(df[\"date_start\"], infer_datetime_format=True)\n",
    "df[\"date_end\"]=pd.to_datetime(df[\"date_end\"], infer_datetime_format=True)"
   ]
  },
  {
   "cell_type": "code",
   "execution_count": null,
   "metadata": {},
   "outputs": [],
   "source": [
    "df.shape"
   ]
  },
  {
   "cell_type": "code",
   "execution_count": null,
   "metadata": {},
   "outputs": [],
   "source": [
    "df[df[\"country\"]==\"Bangladesh\"].sort_values(\"date_start\").groupby(\"policy_id\").apply(display)"
   ]
  },
  {
   "cell_type": "code",
   "execution_count": null,
   "metadata": {},
   "outputs": [],
   "source": [
    "df[df[\"country\"]==\"Afghanistan\"]"
   ]
  },
  {
   "cell_type": "code",
   "execution_count": null,
   "metadata": {},
   "outputs": [],
   "source": [
    "df.head(100)"
   ]
  },
  {
   "cell_type": "code",
   "execution_count": null,
   "metadata": {},
   "outputs": [],
   "source": [
    "df[\"date_end\"]=df[\"date_end\"].dt.strftime(\"%Y-%m-%d\")"
   ]
  },
  {
   "cell_type": "code",
   "execution_count": null,
   "metadata": {},
   "outputs": [],
   "source": [
    "df[\"date_end\"].fillna('', inplace=True)"
   ]
  },
  {
   "cell_type": "code",
   "execution_count": null,
   "metadata": {},
   "outputs": [],
   "source": [
    "df.dtypes"
   ]
  },
  {
   "cell_type": "code",
   "execution_count": null,
   "metadata": {},
   "outputs": [],
   "source": [
    "df[\"date_end\"].replace(\"NaT\",\"\",inplace=True)"
   ]
  },
  {
   "cell_type": "code",
   "execution_count": null,
   "metadata": {},
   "outputs": [],
   "source": [
    "df.to_csv(\"coronanet_shortened.csv\",index=False)"
   ]
  },
  {
   "cell_type": "code",
   "execution_count": null,
   "metadata": {},
   "outputs": [],
   "source": []
  }
 ],
 "metadata": {
  "kernelspec": {
   "display_name": "Python 3.8.5 64-bit",
   "language": "python",
   "name": "python38564bit8e74114c351544819777b51aa88f0aa0"
  },
  "language_info": {
   "codemirror_mode": {
    "name": "ipython",
    "version": 3
   },
   "file_extension": ".py",
   "mimetype": "text/x-python",
   "name": "python",
   "nbconvert_exporter": "python",
   "pygments_lexer": "ipython3",
   "version": "3.8.11"
  }
 },
 "nbformat": 4,
 "nbformat_minor": 2
}
