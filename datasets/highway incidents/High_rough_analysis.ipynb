{
 "cells": [
  {
   "cell_type": "code",
   "execution_count": 349,
   "metadata": {},
   "outputs": [],
   "source": [
    "import numpy as np\n",
    "import pandas as pd\n",
    "from ast import literal_eval"
   ]
  },
  {
   "cell_type": "code",
   "execution_count": 350,
   "metadata": {},
   "outputs": [],
   "source": [
    "df = pd.read_csv('Fatal-Highway.txt', sep = '\\t')"
   ]
  },
  {
   "cell_type": "code",
   "execution_count": 351,
   "metadata": {
    "scrolled": true
   },
   "outputs": [
    {
     "data": {
      "text/plain": [
       "762"
      ]
     },
     "execution_count": 351,
     "metadata": {},
     "output_type": "execute_result"
    }
   ],
   "source": [
    "df['Incident'].nunique()"
   ]
  },
  {
   "cell_type": "markdown",
   "metadata": {},
   "source": [
    "FITM- Freeway Incident Traffic Management Plans (FITM) \n",
    "\n",
    "SHA- State Highway Administration\n",
    "\n",
    "CHART- Coordinated Highways Action Response Team."
   ]
  },
  {
   "cell_type": "code",
   "execution_count": 371,
   "metadata": {
    "scrolled": true
   },
   "outputs": [
    {
     "data": {
      "text/html": [
       "<div>\n",
       "<style scoped>\n",
       "    .dataframe tbody tr th:only-of-type {\n",
       "        vertical-align: middle;\n",
       "    }\n",
       "\n",
       "    .dataframe tbody tr th {\n",
       "        vertical-align: top;\n",
       "    }\n",
       "\n",
       "    .dataframe thead th {\n",
       "        text-align: right;\n",
       "    }\n",
       "</style>\n",
       "<table border=\"1\" class=\"dataframe\">\n",
       "  <thead>\n",
       "    <tr style=\"text-align: right;\">\n",
       "      <th></th>\n",
       "      <th>Incident</th>\n",
       "      <th>Event</th>\n",
       "      <th>Time</th>\n",
       "    </tr>\n",
       "  </thead>\n",
       "  <tbody>\n",
       "    <tr>\n",
       "      <th>0</th>\n",
       "      <td>MDOT_CHART_00000000000000000000000000000006</td>\n",
       "      <td>Incident start</td>\n",
       "      <td>2010-07-21 16:35:20-04</td>\n",
       "    </tr>\n",
       "    <tr>\n",
       "      <th>1</th>\n",
       "      <td>MDOT_CHART_00000000000000000000000000000006</td>\n",
       "      <td>CHART Unit responded</td>\n",
       "      <td>2010-07-21 16:35:30-04</td>\n",
       "    </tr>\n",
       "    <tr>\n",
       "      <th>2</th>\n",
       "      <td>MDOT_CHART_00000000000000000000000000000006</td>\n",
       "      <td>CHART Unit responded</td>\n",
       "      <td>2010-07-21 16:44:10-04</td>\n",
       "    </tr>\n",
       "    <tr>\n",
       "      <th>3</th>\n",
       "      <td>MDOT_CHART_00000000000000000000000000000006</td>\n",
       "      <td>Arrow Board responded</td>\n",
       "      <td>2010-07-21 16:44:39-04</td>\n",
       "    </tr>\n",
       "    <tr>\n",
       "      <th>4</th>\n",
       "      <td>MDOT_CHART_00000000000000000000000000000006</td>\n",
       "      <td>State Police responded</td>\n",
       "      <td>2010-07-21 16:44:39-04</td>\n",
       "    </tr>\n",
       "    <tr>\n",
       "      <th>...</th>\n",
       "      <td>...</td>\n",
       "      <td>...</td>\n",
       "      <td>...</td>\n",
       "    </tr>\n",
       "    <tr>\n",
       "      <th>16759</th>\n",
       "      <td>MDOT_CHART_ffff9e3aac3105eb004d822e33235daa</td>\n",
       "      <td>Investigation-accident notified</td>\n",
       "      <td>2011-06-05 04:44:29-04</td>\n",
       "    </tr>\n",
       "    <tr>\n",
       "      <th>16760</th>\n",
       "      <td>MDOT_CHART_ffff9e3aac3105eb004d822e33235daa</td>\n",
       "      <td>Arrow Board arrived</td>\n",
       "      <td>2011-06-05 04:44:36-04</td>\n",
       "    </tr>\n",
       "    <tr>\n",
       "      <th>16761</th>\n",
       "      <td>MDOT_CHART_ffff9e3aac3105eb004d822e33235daa</td>\n",
       "      <td>Medical Examiner arrived</td>\n",
       "      <td>2011-06-05 04:44:36-04</td>\n",
       "    </tr>\n",
       "    <tr>\n",
       "      <th>16762</th>\n",
       "      <td>MDOT_CHART_ffff9e3aac3105eb004d822e33235daa</td>\n",
       "      <td>SHA 3404 departed</td>\n",
       "      <td>2011-06-05 08:30:45-04</td>\n",
       "    </tr>\n",
       "    <tr>\n",
       "      <th>16763</th>\n",
       "      <td>MDOT_CHART_ffff9e3aac3105eb004d822e33235daa</td>\n",
       "      <td>Incident closed</td>\n",
       "      <td>2011-06-05 08:31:56-04</td>\n",
       "    </tr>\n",
       "  </tbody>\n",
       "</table>\n",
       "<p>15553 rows × 3 columns</p>\n",
       "</div>"
      ],
      "text/plain": [
       "                                          Incident  \\\n",
       "0      MDOT_CHART_00000000000000000000000000000006   \n",
       "1      MDOT_CHART_00000000000000000000000000000006   \n",
       "2      MDOT_CHART_00000000000000000000000000000006   \n",
       "3      MDOT_CHART_00000000000000000000000000000006   \n",
       "4      MDOT_CHART_00000000000000000000000000000006   \n",
       "...                                            ...   \n",
       "16759  MDOT_CHART_ffff9e3aac3105eb004d822e33235daa   \n",
       "16760  MDOT_CHART_ffff9e3aac3105eb004d822e33235daa   \n",
       "16761  MDOT_CHART_ffff9e3aac3105eb004d822e33235daa   \n",
       "16762  MDOT_CHART_ffff9e3aac3105eb004d822e33235daa   \n",
       "16763  MDOT_CHART_ffff9e3aac3105eb004d822e33235daa   \n",
       "\n",
       "                                 Event                    Time  \n",
       "0                       Incident start  2010-07-21 16:35:20-04  \n",
       "1                 CHART Unit responded  2010-07-21 16:35:30-04  \n",
       "2                 CHART Unit responded  2010-07-21 16:44:10-04  \n",
       "3                Arrow Board responded  2010-07-21 16:44:39-04  \n",
       "4               State Police responded  2010-07-21 16:44:39-04  \n",
       "...                                ...                     ...  \n",
       "16759  Investigation-accident notified  2011-06-05 04:44:29-04  \n",
       "16760              Arrow Board arrived  2011-06-05 04:44:36-04  \n",
       "16761         Medical Examiner arrived  2011-06-05 04:44:36-04  \n",
       "16762                SHA 3404 departed  2011-06-05 08:30:45-04  \n",
       "16763                  Incident closed  2011-06-05 08:31:56-04  \n",
       "\n",
       "[15553 rows x 3 columns]"
      ]
     },
     "execution_count": 371,
     "metadata": {},
     "output_type": "execute_result"
    }
   ],
   "source": [
    "df"
   ]
  },
  {
   "cell_type": "code",
   "execution_count": 373,
   "metadata": {},
   "outputs": [],
   "source": [
    "df['Time']= pd.to_datetime(df['Time'])"
   ]
  },
  {
   "cell_type": "code",
   "execution_count": 375,
   "metadata": {},
   "outputs": [],
   "source": [
    "df.to_csv('high',index=False)"
   ]
  },
  {
   "cell_type": "code",
   "execution_count": 352,
   "metadata": {
    "scrolled": true
   },
   "outputs": [],
   "source": [
    "a= df['Event'].value_counts()\n",
    "x = pd.DataFrame(a)\n",
    "y = x.loc[x['Event'] <100]"
   ]
  },
  {
   "cell_type": "code",
   "execution_count": 353,
   "metadata": {
    "scrolled": true
   },
   "outputs": [
    {
     "data": {
      "text/html": [
       "<div>\n",
       "<style scoped>\n",
       "    .dataframe tbody tr th:only-of-type {\n",
       "        vertical-align: middle;\n",
       "    }\n",
       "\n",
       "    .dataframe tbody tr th {\n",
       "        vertical-align: top;\n",
       "    }\n",
       "\n",
       "    .dataframe thead th {\n",
       "        text-align: right;\n",
       "    }\n",
       "</style>\n",
       "<table border=\"1\" class=\"dataframe\">\n",
       "  <thead>\n",
       "    <tr style=\"text-align: right;\">\n",
       "      <th></th>\n",
       "      <th>Event</th>\n",
       "    </tr>\n",
       "  </thead>\n",
       "  <tbody>\n",
       "    <tr>\n",
       "      <th>CHART Unit 9001 notified</th>\n",
       "      <td>95</td>\n",
       "    </tr>\n",
       "    <tr>\n",
       "      <th>Investigation-accident responded</th>\n",
       "      <td>93</td>\n",
       "    </tr>\n",
       "    <tr>\n",
       "      <th>CHART Unit 9700 notified</th>\n",
       "      <td>90</td>\n",
       "    </tr>\n",
       "    <tr>\n",
       "      <th>Arrow Board responded</th>\n",
       "      <td>90</td>\n",
       "    </tr>\n",
       "    <tr>\n",
       "      <th>CHART Unit 9300 departed</th>\n",
       "      <td>83</td>\n",
       "    </tr>\n",
       "    <tr>\n",
       "      <th>...</th>\n",
       "      <td>...</td>\n",
       "    </tr>\n",
       "    <tr>\n",
       "      <th>2500/MICHAEL LEWIS notified</th>\n",
       "      <td>1</td>\n",
       "    </tr>\n",
       "    <tr>\n",
       "      <th>7330/JEFF DALTON 240 674-0561 notified</th>\n",
       "      <td>1</td>\n",
       "    </tr>\n",
       "    <tr>\n",
       "      <th>9403/BRYAN WALKER departed</th>\n",
       "      <td>1</td>\n",
       "    </tr>\n",
       "    <tr>\n",
       "      <th>BROWNING'S ROLLBACK arrived</th>\n",
       "      <td>1</td>\n",
       "    </tr>\n",
       "    <tr>\n",
       "      <th>9320 removed</th>\n",
       "      <td>1</td>\n",
       "    </tr>\n",
       "  </tbody>\n",
       "</table>\n",
       "<p>2012 rows × 1 columns</p>\n",
       "</div>"
      ],
      "text/plain": [
       "                                        Event\n",
       "CHART Unit 9001 notified                   95\n",
       "Investigation-accident responded           93\n",
       "CHART Unit 9700 notified                   90\n",
       "Arrow Board responded                      90\n",
       "CHART Unit 9300 departed                   83\n",
       "...                                       ...\n",
       "2500/MICHAEL LEWIS notified                 1\n",
       "7330/JEFF DALTON 240 674-0561 notified      1\n",
       "9403/BRYAN WALKER departed                  1\n",
       "BROWNING'S ROLLBACK arrived                 1\n",
       "9320 removed                                1\n",
       "\n",
       "[2012 rows x 1 columns]"
      ]
     },
     "execution_count": 353,
     "metadata": {},
     "output_type": "execute_result"
    }
   ],
   "source": [
    "y"
   ]
  },
  {
   "cell_type": "markdown",
   "metadata": {},
   "source": [
    "Aggregating CHART actions by removing specefic unit number. "
   ]
  },
  {
   "cell_type": "code",
   "execution_count": 354,
   "metadata": {},
   "outputs": [],
   "source": [
    "df.Event.replace(r'(CHART.+responded)' , 'CHART Unit responded', \n",
    "                           regex=True, inplace=True)\n",
    "df.Event.replace(r'(CHART.+notified)' , 'CHART Unit notified', \n",
    "                           regex=True, inplace=True)\n",
    "df.Event.replace(r'(CHART.+departed)' , 'CHART Unit departed', \n",
    "                           regex=True, inplace=True)\n",
    "df.Event.replace(r'(CHART.+arrived)' , 'CHART Unit arrived', \n",
    "                           regex=True, inplace=True)\n",
    "df.Event.replace(r'(CHART.+removed)' , 'CHART Unit removed', \n",
    "                           regex=True, inplace=True)"
   ]
  },
  {
   "cell_type": "markdown",
   "metadata": {},
   "source": [
    "Removing any Incident that happened just once."
   ]
  },
  {
   "cell_type": "code",
   "execution_count": 355,
   "metadata": {
    "scrolled": true
   },
   "outputs": [],
   "source": [
    "df = df[df.duplicated('Event', keep=False)]"
   ]
  },
  {
   "cell_type": "code",
   "execution_count": 356,
   "metadata": {
    "scrolled": true
   },
   "outputs": [
    {
     "data": {
      "text/html": [
       "<div>\n",
       "<style scoped>\n",
       "    .dataframe tbody tr th:only-of-type {\n",
       "        vertical-align: middle;\n",
       "    }\n",
       "\n",
       "    .dataframe tbody tr th {\n",
       "        vertical-align: top;\n",
       "    }\n",
       "\n",
       "    .dataframe thead th {\n",
       "        text-align: right;\n",
       "    }\n",
       "</style>\n",
       "<table border=\"1\" class=\"dataframe\">\n",
       "  <thead>\n",
       "    <tr style=\"text-align: right;\">\n",
       "      <th></th>\n",
       "      <th>Incident</th>\n",
       "      <th>Event</th>\n",
       "      <th>Time</th>\n",
       "    </tr>\n",
       "  </thead>\n",
       "  <tbody>\n",
       "    <tr>\n",
       "      <th>0</th>\n",
       "      <td>MDOT_CHART_00000000000000000000000000000006</td>\n",
       "      <td>Incident start</td>\n",
       "      <td>2010-07-21 16:35:20-04</td>\n",
       "    </tr>\n",
       "    <tr>\n",
       "      <th>1</th>\n",
       "      <td>MDOT_CHART_00000000000000000000000000000006</td>\n",
       "      <td>CHART Unit responded</td>\n",
       "      <td>2010-07-21 16:35:30-04</td>\n",
       "    </tr>\n",
       "    <tr>\n",
       "      <th>2</th>\n",
       "      <td>MDOT_CHART_00000000000000000000000000000006</td>\n",
       "      <td>CHART Unit responded</td>\n",
       "      <td>2010-07-21 16:44:10-04</td>\n",
       "    </tr>\n",
       "    <tr>\n",
       "      <th>3</th>\n",
       "      <td>MDOT_CHART_00000000000000000000000000000006</td>\n",
       "      <td>Arrow Board responded</td>\n",
       "      <td>2010-07-21 16:44:39-04</td>\n",
       "    </tr>\n",
       "    <tr>\n",
       "      <th>4</th>\n",
       "      <td>MDOT_CHART_00000000000000000000000000000006</td>\n",
       "      <td>State Police responded</td>\n",
       "      <td>2010-07-21 16:44:39-04</td>\n",
       "    </tr>\n",
       "  </tbody>\n",
       "</table>\n",
       "</div>"
      ],
      "text/plain": [
       "                                      Incident                   Event  \\\n",
       "0  MDOT_CHART_00000000000000000000000000000006          Incident start   \n",
       "1  MDOT_CHART_00000000000000000000000000000006    CHART Unit responded   \n",
       "2  MDOT_CHART_00000000000000000000000000000006    CHART Unit responded   \n",
       "3  MDOT_CHART_00000000000000000000000000000006   Arrow Board responded   \n",
       "4  MDOT_CHART_00000000000000000000000000000006  State Police responded   \n",
       "\n",
       "                     Time  \n",
       "0  2010-07-21 16:35:20-04  \n",
       "1  2010-07-21 16:35:30-04  \n",
       "2  2010-07-21 16:44:10-04  \n",
       "3  2010-07-21 16:44:39-04  \n",
       "4  2010-07-21 16:44:39-04  "
      ]
     },
     "execution_count": 356,
     "metadata": {},
     "output_type": "execute_result"
    }
   ],
   "source": [
    "df.head(5)"
   ]
  },
  {
   "cell_type": "markdown",
   "metadata": {},
   "source": [
    "Looking at the most commonly occuring events"
   ]
  },
  {
   "cell_type": "code",
   "execution_count": 357,
   "metadata": {},
   "outputs": [],
   "source": [
    "a= df['Event'].value_counts()\n",
    "x = pd.DataFrame(a)\n",
    "y = x.loc[x['Event'] >200] #Change number of instances two see occurence of events"
   ]
  },
  {
   "cell_type": "code",
   "execution_count": 358,
   "metadata": {},
   "outputs": [],
   "source": [
    "y.reset_index(level=0, inplace=True)\n",
    "x.reset_index(level=0, inplace=True)"
   ]
  },
  {
   "cell_type": "code",
   "execution_count": 359,
   "metadata": {
    "scrolled": true
   },
   "outputs": [
    {
     "data": {
      "text/plain": [
       "<matplotlib.axes._subplots.AxesSubplot at 0x173b9857580>"
      ]
     },
     "execution_count": 359,
     "metadata": {},
     "output_type": "execute_result"
    },
    {
     "data": {
      "image/png": "[encoded data removed]",
      "text/plain": [
       "<Figure size 432x288 with 1 Axes>"
      ]
     },
     "metadata": {
      "needs_background": "light"
     },
     "output_type": "display_data"
    }
   ],
   "source": [
    "y.plot(kind='bar',x= 'index',y='Event')"
   ]
  },
  {
   "cell_type": "markdown",
   "metadata": {},
   "source": [
    "Making a Data Frame with just the time taken to deal with an incident"
   ]
  },
  {
   "cell_type": "code",
   "execution_count": 360,
   "metadata": {},
   "outputs": [],
   "source": [
    "df1 = df[(df['Event'] == 'Incident start') | (df['Event'] == 'Incident closed')]\n",
    "df1 = df1.groupby('Incident').apply(\n",
    "        lambda g: pd.Series(g['Time'].values))\n",
    "df1['Time'] = (pd.to_datetime(df1[1]) - pd.to_datetime(df1[0]))\n",
    "df1.reset_index(level=0, inplace=True)\n",
    "df1.columns = ['Incident', 'Start', 'Close', 'Time']"
   ]
  },
  {
   "cell_type": "code",
   "execution_count": 361,
   "metadata": {
    "scrolled": true
   },
   "outputs": [
    {
     "data": {
      "text/html": [
       "<div>\n",
       "<style scoped>\n",
       "    .dataframe tbody tr th:only-of-type {\n",
       "        vertical-align: middle;\n",
       "    }\n",
       "\n",
       "    .dataframe tbody tr th {\n",
       "        vertical-align: top;\n",
       "    }\n",
       "\n",
       "    .dataframe thead th {\n",
       "        text-align: right;\n",
       "    }\n",
       "</style>\n",
       "<table border=\"1\" class=\"dataframe\">\n",
       "  <thead>\n",
       "    <tr style=\"text-align: right;\">\n",
       "      <th></th>\n",
       "      <th>Incident</th>\n",
       "      <th>Start</th>\n",
       "      <th>Close</th>\n",
       "      <th>Time</th>\n",
       "    </tr>\n",
       "  </thead>\n",
       "  <tbody>\n",
       "    <tr>\n",
       "      <th>0</th>\n",
       "      <td>MDOT_CHART_00000000000000000000000000000006</td>\n",
       "      <td>2010-07-21 16:35:20-04</td>\n",
       "      <td>2010-07-21 19:24:52-04</td>\n",
       "      <td>02:49:32</td>\n",
       "    </tr>\n",
       "  </tbody>\n",
       "</table>\n",
       "</div>"
      ],
      "text/plain": [
       "                                      Incident                   Start  \\\n",
       "0  MDOT_CHART_00000000000000000000000000000006  2010-07-21 16:35:20-04   \n",
       "\n",
       "                    Close     Time  \n",
       "0  2010-07-21 19:24:52-04 02:49:32  "
      ]
     },
     "execution_count": 361,
     "metadata": {},
     "output_type": "execute_result"
    }
   ],
   "source": [
    "df1.head(1)"
   ]
  },
  {
   "cell_type": "markdown",
   "metadata": {},
   "source": [
    "The following dataset has the count of unique events for each incident. Will use this to count average occurence of any event in an incident."
   ]
  },
  {
   "cell_type": "code",
   "execution_count": 362,
   "metadata": {},
   "outputs": [],
   "source": [
    "df_avg= pd.DataFrame()\n",
    "for g, temp in df.groupby('Incident'):\n",
    "    et= temp['Event'].value_counts()\n",
    "    df2= pd.DataFrame(et)\n",
    "    df2['I']=g\n",
    "    df_avg = df_avg.append(df2)\n",
    "    a=a+1\n",
    "    \n",
    "df_avg.reset_index(level=0, inplace=True)"
   ]
  },
  {
   "cell_type": "code",
   "execution_count": 363,
   "metadata": {},
   "outputs": [],
   "source": [
    "df_avg= df_avg.groupby('index', as_index=False)['Event'].sum()\n",
    "df_avg = pd.DataFrame(df_avg)\n",
    "df_avg = df_avg.sort_values(by=['Event'], ascending=False)"
   ]
  },
  {
   "cell_type": "code",
   "execution_count": 364,
   "metadata": {},
   "outputs": [],
   "source": [
    "df_avg['Event']= df_avg['Event']/762"
   ]
  },
  {
   "cell_type": "code",
   "execution_count": 368,
   "metadata": {},
   "outputs": [
    {
     "data": {
      "text/html": [
       "<div>\n",
       "<style scoped>\n",
       "    .dataframe tbody tr th:only-of-type {\n",
       "        vertical-align: middle;\n",
       "    }\n",
       "\n",
       "    .dataframe tbody tr th {\n",
       "        vertical-align: top;\n",
       "    }\n",
       "\n",
       "    .dataframe thead th {\n",
       "        text-align: right;\n",
       "    }\n",
       "</style>\n",
       "<table border=\"1\" class=\"dataframe\">\n",
       "  <thead>\n",
       "    <tr style=\"text-align: right;\">\n",
       "      <th></th>\n",
       "      <th>index</th>\n",
       "      <th>Event</th>\n",
       "    </tr>\n",
       "  </thead>\n",
       "  <tbody>\n",
       "    <tr>\n",
       "      <th>232</th>\n",
       "      <td>CHART Unit notified</td>\n",
       "      <td>1.690289</td>\n",
       "    </tr>\n",
       "    <tr>\n",
       "      <th>297</th>\n",
       "      <td>Incident start</td>\n",
       "      <td>1.000000</td>\n",
       "    </tr>\n",
       "    <tr>\n",
       "      <th>296</th>\n",
       "      <td>Incident closed</td>\n",
       "      <td>1.000000</td>\n",
       "    </tr>\n",
       "    <tr>\n",
       "      <th>295</th>\n",
       "      <td>Incident cleared</td>\n",
       "      <td>0.863517</td>\n",
       "    </tr>\n",
       "    <tr>\n",
       "      <th>231</th>\n",
       "      <td>CHART Unit departed</td>\n",
       "      <td>0.755906</td>\n",
       "    </tr>\n",
       "  </tbody>\n",
       "</table>\n",
       "</div>"
      ],
      "text/plain": [
       "                   index     Event\n",
       "232  CHART Unit notified  1.690289\n",
       "297       Incident start  1.000000\n",
       "296      Incident closed  1.000000\n",
       "295     Incident cleared  0.863517\n",
       "231  CHART Unit departed  0.755906"
      ]
     },
     "execution_count": 368,
     "metadata": {},
     "output_type": "execute_result"
    }
   ],
   "source": [
    "df_avg.head(5)"
   ]
  },
  {
   "cell_type": "code",
   "execution_count": 369,
   "metadata": {},
   "outputs": [],
   "source": [
    "freq_100 = df_avg.loc[df_avg['Event'] >0.2]"
   ]
  },
  {
   "cell_type": "code",
   "execution_count": 370,
   "metadata": {},
   "outputs": [
    {
     "data": {
      "text/html": [
       "<div>\n",
       "<style scoped>\n",
       "    .dataframe tbody tr th:only-of-type {\n",
       "        vertical-align: middle;\n",
       "    }\n",
       "\n",
       "    .dataframe tbody tr th {\n",
       "        vertical-align: top;\n",
       "    }\n",
       "\n",
       "    .dataframe thead th {\n",
       "        text-align: right;\n",
       "    }\n",
       "</style>\n",
       "<table border=\"1\" class=\"dataframe\">\n",
       "  <thead>\n",
       "    <tr style=\"text-align: right;\">\n",
       "      <th></th>\n",
       "      <th>index</th>\n",
       "      <th>Event</th>\n",
       "    </tr>\n",
       "  </thead>\n",
       "  <tbody>\n",
       "    <tr>\n",
       "      <th>232</th>\n",
       "      <td>CHART Unit notified</td>\n",
       "      <td>1.690289</td>\n",
       "    </tr>\n",
       "    <tr>\n",
       "      <th>297</th>\n",
       "      <td>Incident start</td>\n",
       "      <td>1.000000</td>\n",
       "    </tr>\n",
       "    <tr>\n",
       "      <th>296</th>\n",
       "      <td>Incident closed</td>\n",
       "      <td>1.000000</td>\n",
       "    </tr>\n",
       "    <tr>\n",
       "      <th>295</th>\n",
       "      <td>Incident cleared</td>\n",
       "      <td>0.863517</td>\n",
       "    </tr>\n",
       "    <tr>\n",
       "      <th>231</th>\n",
       "      <td>CHART Unit departed</td>\n",
       "      <td>0.755906</td>\n",
       "    </tr>\n",
       "    <tr>\n",
       "      <th>283</th>\n",
       "      <td>Fireboard departed</td>\n",
       "      <td>0.740157</td>\n",
       "    </tr>\n",
       "    <tr>\n",
       "      <th>215</th>\n",
       "      <td>Arrow Board notified</td>\n",
       "      <td>0.674541</td>\n",
       "    </tr>\n",
       "    <tr>\n",
       "      <th>282</th>\n",
       "      <td>Fireboard arrived</td>\n",
       "      <td>0.661417</td>\n",
       "    </tr>\n",
       "    <tr>\n",
       "      <th>305</th>\n",
       "      <td>Investigation-accident notified</td>\n",
       "      <td>0.578740</td>\n",
       "    </tr>\n",
       "    <tr>\n",
       "      <th>230</th>\n",
       "      <td>CHART Unit arrived</td>\n",
       "      <td>0.566929</td>\n",
       "    </tr>\n",
       "    <tr>\n",
       "      <th>214</th>\n",
       "      <td>Arrow Board departed</td>\n",
       "      <td>0.513123</td>\n",
       "    </tr>\n",
       "    <tr>\n",
       "      <th>304</th>\n",
       "      <td>Investigation-accident departed</td>\n",
       "      <td>0.500000</td>\n",
       "    </tr>\n",
       "    <tr>\n",
       "      <th>620</th>\n",
       "      <td>State Police departed</td>\n",
       "      <td>0.450131</td>\n",
       "    </tr>\n",
       "    <tr>\n",
       "      <th>619</th>\n",
       "      <td>State Police arrived</td>\n",
       "      <td>0.440945</td>\n",
       "    </tr>\n",
       "    <tr>\n",
       "      <th>213</th>\n",
       "      <td>Arrow Board arrived</td>\n",
       "      <td>0.433071</td>\n",
       "    </tr>\n",
       "    <tr>\n",
       "      <th>399</th>\n",
       "      <td>Medical Examiner notified</td>\n",
       "      <td>0.422572</td>\n",
       "    </tr>\n",
       "    <tr>\n",
       "      <th>398</th>\n",
       "      <td>Medical Examiner departed</td>\n",
       "      <td>0.385827</td>\n",
       "    </tr>\n",
       "    <tr>\n",
       "      <th>303</th>\n",
       "      <td>Investigation-accident arrived</td>\n",
       "      <td>0.360892</td>\n",
       "    </tr>\n",
       "    <tr>\n",
       "      <th>341</th>\n",
       "      <td>Local Police arrived</td>\n",
       "      <td>0.335958</td>\n",
       "    </tr>\n",
       "    <tr>\n",
       "      <th>425</th>\n",
       "      <td>Priv. Tow Light Duty departed</td>\n",
       "      <td>0.309711</td>\n",
       "    </tr>\n",
       "    <tr>\n",
       "      <th>342</th>\n",
       "      <td>Local Police departed</td>\n",
       "      <td>0.297900</td>\n",
       "    </tr>\n",
       "    <tr>\n",
       "      <th>397</th>\n",
       "      <td>Medical Examiner arrived</td>\n",
       "      <td>0.261155</td>\n",
       "    </tr>\n",
       "    <tr>\n",
       "      <th>424</th>\n",
       "      <td>Priv. Tow Light Duty arrived</td>\n",
       "      <td>0.241470</td>\n",
       "    </tr>\n",
       "    <tr>\n",
       "      <th>286</th>\n",
       "      <td>Fireboard responded</td>\n",
       "      <td>0.237533</td>\n",
       "    </tr>\n",
       "    <tr>\n",
       "      <th>496</th>\n",
       "      <td>SHA - OCRI notified</td>\n",
       "      <td>0.202100</td>\n",
       "    </tr>\n",
       "    <tr>\n",
       "      <th>426</th>\n",
       "      <td>Priv. Tow Light Duty notified</td>\n",
       "      <td>0.202100</td>\n",
       "    </tr>\n",
       "  </tbody>\n",
       "</table>\n",
       "</div>"
      ],
      "text/plain": [
       "                               index     Event\n",
       "232              CHART Unit notified  1.690289\n",
       "297                   Incident start  1.000000\n",
       "296                  Incident closed  1.000000\n",
       "295                 Incident cleared  0.863517\n",
       "231              CHART Unit departed  0.755906\n",
       "283               Fireboard departed  0.740157\n",
       "215             Arrow Board notified  0.674541\n",
       "282                Fireboard arrived  0.661417\n",
       "305  Investigation-accident notified  0.578740\n",
       "230               CHART Unit arrived  0.566929\n",
       "214             Arrow Board departed  0.513123\n",
       "304  Investigation-accident departed  0.500000\n",
       "620            State Police departed  0.450131\n",
       "619             State Police arrived  0.440945\n",
       "213              Arrow Board arrived  0.433071\n",
       "399        Medical Examiner notified  0.422572\n",
       "398        Medical Examiner departed  0.385827\n",
       "303   Investigation-accident arrived  0.360892\n",
       "341             Local Police arrived  0.335958\n",
       "425    Priv. Tow Light Duty departed  0.309711\n",
       "342            Local Police departed  0.297900\n",
       "397         Medical Examiner arrived  0.261155\n",
       "424     Priv. Tow Light Duty arrived  0.241470\n",
       "286              Fireboard responded  0.237533\n",
       "496              SHA - OCRI notified  0.202100\n",
       "426    Priv. Tow Light Duty notified  0.202100"
      ]
     },
     "execution_count": 370,
     "metadata": {},
     "output_type": "execute_result"
    }
   ],
   "source": [
    "freq_100"
   ]
  },
  {
   "cell_type": "code",
   "execution_count": null,
   "metadata": {},
   "outputs": [],
   "source": []
  },
  {
   "cell_type": "code",
   "execution_count": null,
   "metadata": {},
   "outputs": [],
   "source": []
  }
 ],
 "metadata": {
  "kernelspec": {
   "display_name": "Python 3",
   "language": "python",
   "name": "python3"
  },
  "language_info": {
   "codemirror_mode": {
    "name": "ipython",
    "version": 3
   },
   "file_extension": ".py",
   "mimetype": "text/x-python",
   "name": "python",
   "nbconvert_exporter": "python",
   "pygments_lexer": "ipython3",
   "version": "3.8.3"
  }
 },
 "nbformat": 4,
 "nbformat_minor": 4
}
