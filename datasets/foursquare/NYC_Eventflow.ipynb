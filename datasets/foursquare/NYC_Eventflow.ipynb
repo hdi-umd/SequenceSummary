{
 "cells": [
  {
   "cell_type": "code",
   "execution_count": null,
   "metadata": {},
   "outputs": [],
   "source": [
    "import pandas as pd\n",
    "import os\n",
    "import numpy as np\n",
    "from datetime import datetime, timedelta"
   ]
  },
  {
   "cell_type": "code",
   "execution_count": null,
   "metadata": {},
   "outputs": [],
   "source": [
    "#making pandas dataframe from text with added headers/\n",
    "#home/zinat/Documents/Research/code/dataset_tsmc2014\n",
    "#df = pd.read_csv(\"dataset_tsmc2014\\\\dataset_TMSC2014_NYC.txt\", delimiter = \"\\t\", header=None)#, names=[\"Case\", \"Event name\", \"Time\", \"unknown text\"])\n",
    "\n",
    "df = pd.read_csv(\"dataset_tsmc2014/dataset_TSMC2014_NYC.txt\", encoding='latin1',delimiter = \"\\t\", header=None, names=[\"User ID\", \"Venue ID\", \"Venue category ID\", \"Venue category name\",\"Latitude\",\"Longitude\", \"Timezone offset\",\"UTC Time\"])"
   ]
  },
  {
   "cell_type": "code",
   "execution_count": null,
   "metadata": {},
   "outputs": [],
   "source": [
    "df"
   ]
  },
  {
   "cell_type": "code",
   "execution_count": null,
   "metadata": {},
   "outputs": [],
   "source": [
    "df.assign(End_Time=\"\")"
   ]
  },
  {
   "cell_type": "code",
   "execution_count": null,
   "metadata": {},
   "outputs": [],
   "source": [
    "#df['EndDate'] = pd.to_datetime(df['StartDate']) + pd.to_timedelta(df['duration'], unit='s')\n",
    "#df.drop('StartDate,'duration', axis = 1, inplace = True)\n",
    "\n",
    "df[\"Start Time\"]=pd.to_datetime(df[\"UTC Time\"])+pd.to_timedelta(df[\"Timezone offset\"], unit='m')"
   ]
  },
  {
   "cell_type": "code",
   "execution_count": null,
   "metadata": {},
   "outputs": [],
   "source": [
    "df[\"Venue ID\"]=\"Venue_ID=\"+df[\"Venue ID\"].astype(str)"
   ]
  },
  {
   "cell_type": "code",
   "execution_count": null,
   "metadata": {},
   "outputs": [],
   "source": [
    "df[\"Venue category ID\"]=\"Venue category ID=\"+df[\"Venue category ID\"].astype(str)"
   ]
  },
  {
   "cell_type": "code",
   "execution_count": null,
   "metadata": {},
   "outputs": [],
   "source": [
    "df[\"Event attributes\"]=df[\"Venue ID\"].astype(str) +\";\"+ df[\"Venue category ID\"].astype(str)"
   ]
  },
  {
   "cell_type": "code",
   "execution_count": null,
   "metadata": {},
   "outputs": [],
   "source": [
    "df[\"Event attributes\"]"
   ]
  },
  {
   "cell_type": "code",
   "execution_count": null,
   "metadata": {},
   "outputs": [],
   "source": [
    "df=df.drop(columns=[\"Venue ID\", \"Venue category ID\", \"Latitude\",\"Longitude\", \"Timezone offset\",\"UTC Time\"])"
   ]
  },
  {
   "cell_type": "code",
   "execution_count": null,
   "metadata": {},
   "outputs": [],
   "source": [
    "df[\"End Time\"]=\"\""
   ]
  },
  {
   "cell_type": "code",
   "execution_count": null,
   "metadata": {},
   "outputs": [],
   "source": [
    "df"
   ]
  },
  {
   "cell_type": "code",
   "execution_count": null,
   "metadata": {},
   "outputs": [],
   "source": [
    "order=[0,1,2,4,3]\n",
    "df[df.columns[order]]"
   ]
  },
  {
   "cell_type": "code",
   "execution_count": null,
   "metadata": {},
   "outputs": [],
   "source": [
    "df.to_csv(\"NYC.txt\",sep='\\t', index=False, header=False)"
   ]
  },
  {
   "cell_type": "code",
   "execution_count": null,
   "metadata": {},
   "outputs": [],
   "source": [
    "df[\"Venue category name\"]=\"Venue category name=\"+df[\"Venue category name\"].astype(str)"
   ]
  }
 ],
 "metadata": {
  "kernelspec": {
   "display_name": "Python 3.8.5 64-bit",
   "language": "python",
   "name": "python38564bit8e74114c351544819777b51aa88f0aa0"
  },
  "language_info": {
   "codemirror_mode": {
    "name": "ipython",
    "version": 3
   },
   "file_extension": ".py",
   "mimetype": "text/x-python",
   "name": "python",
   "nbconvert_exporter": "python",
   "pygments_lexer": "ipython3",
   "version": "3.8.12"
  }
 },
 "nbformat": 4,
 "nbformat_minor": 2
}
