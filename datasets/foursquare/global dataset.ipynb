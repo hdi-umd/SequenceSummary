{
 "cells": [
  {
   "cell_type": "code",
   "execution_count": null,
   "metadata": {},
   "outputs": [],
   "source": [
    "import pandas as pd\n",
    "import os\n",
    "import numpy as np"
   ]
  },
  {
   "cell_type": "code",
   "execution_count": null,
   "metadata": {},
   "outputs": [],
   "source": [
    "df = pd.read_csv(\"dataset_TIST2015/dataset_TIST2015_Checkins.txt\", encoding='latin1',delimiter = \"\\t\", header=None, names=[\"User ID\", \"Venue ID\", \"UTC Time\", \"Timezone offset\"])"
   ]
  },
  {
   "cell_type": "code",
   "execution_count": null,
   "metadata": {},
   "outputs": [],
   "source": [
    "df"
   ]
  },
  {
   "cell_type": "code",
   "execution_count": null,
   "metadata": {},
   "outputs": [],
   "source": [
    "df.dtypes"
   ]
  },
  {
   "cell_type": "code",
   "execution_count": null,
   "metadata": {},
   "outputs": [],
   "source": [
    "print(df[\"Venue ID\"].unique())\n",
    "print(df[\"Venue ID\"].nunique())"
   ]
  },
  {
   "cell_type": "code",
   "execution_count": null,
   "metadata": {},
   "outputs": [],
   "source": [
    "print(df[\"User ID\"].nunique())"
   ]
  },
  {
   "cell_type": "code",
   "execution_count": null,
   "metadata": {},
   "outputs": [],
   "source": [
    "df['UTC Time']=pd.to_datetime(df['UTC Time'], errors=\"coerce\", infer_datetime_format=True)"
   ]
  },
  {
   "cell_type": "code",
   "execution_count": null,
   "metadata": {},
   "outputs": [],
   "source": [
    "np.sort(df['User ID'].unique())"
   ]
  },
  {
   "cell_type": "code",
   "execution_count": null,
   "metadata": {},
   "outputs": [],
   "source": [
    "df['User ID']"
   ]
  },
  {
   "cell_type": "code",
   "execution_count": null,
   "metadata": {},
   "outputs": [],
   "source": [
    "pd.set_option('display.max_rows', None)\n",
    "temp=(df[['User ID',\"Venue ID\"]].groupby('User ID').count())\n",
    "print(temp.head())\n",
    "print(temp.iloc[[temp[\"Venue ID\"].argmax()]])\n",
    "\n",
    "print(temp.iloc[[temp[\"Venue ID\"].argmin()]])\n",
    "\n",
    "print(temp[\"Venue ID\"].median())"
   ]
  },
  {
   "cell_type": "code",
   "execution_count": null,
   "metadata": {},
   "outputs": [],
   "source": [
    "temp=df[['User ID','UTC Time']]\n",
    "temp['diff']=temp.sort_values(['UTC Time']).groupby('User ID')['UTC Time'].diff()\n",
    "#diff=temp.sort_values(['UTC Time']).groupby('User ID')['UTC Time'].diff()\n",
    "#print(temp.sort_values(['UTC Time']).groupby('User ID')['UTC Time'].diff().head())\n",
    "#temp=temp['UTC Time'].diff()\n",
    "#temp.apply(print)\n",
    "#temp['UTC Time'].diff()\n",
    "temp = temp.dropna(subset=['diff'])\n",
    "#print(temp.head())\n",
    "#print(temp.shape)\n",
    "print(temp['diff'].argmin())\n",
    "print(temp['diff'].min())\n",
    "print(temp['diff'].argmax())\n",
    "print(temp['diff'].max())\n",
    "print(temp['diff'].median())\n"
   ]
  },
  {
   "cell_type": "code",
   "execution_count": null,
   "metadata": {},
   "outputs": [],
   "source": [
    "for i in df[\"User ID\"].unique():\n",
    "    #print(df.loc[df.Case==i])\n",
    "    print(df.loc[df[\"User ID\"]==i][[\"Venue ID\"]].duplicated().any())"
   ]
  },
  {
   "cell_type": "code",
   "execution_count": null,
   "metadata": {},
   "outputs": [],
   "source": []
  },
  {
   "cell_type": "code",
   "execution_count": null,
   "metadata": {},
   "outputs": [],
   "source": []
  }
 ],
 "metadata": {
  "kernelspec": {
   "display_name": "Python 3.8.5 64-bit",
   "language": "python",
   "name": "python38564bit8e74114c351544819777b51aa88f0aa0"
  },
  "language_info": {
   "codemirror_mode": {
    "name": "ipython",
    "version": 3
   },
   "file_extension": ".py",
   "mimetype": "text/x-python",
   "name": "python",
   "nbconvert_exporter": "python",
   "pygments_lexer": "ipython3",
   "version": "3.8.11"
  }
 },
 "nbformat": 4,
 "nbformat_minor": 2
}
