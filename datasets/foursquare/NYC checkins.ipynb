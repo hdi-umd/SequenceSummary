{
 "cells": [
  {
   "cell_type": "code",
   "execution_count": null,
   "metadata": {},
   "outputs": [],
   "source": [
    "import pandas as pd\n",
    "import os\n",
    "import numpy as np"
   ]
  },
  {
   "cell_type": "code",
   "execution_count": null,
   "metadata": {},
   "outputs": [],
   "source": [
    "#making pandas dataframe from text with added headers/\n",
    "#home/zinat/Documents/Research/code/dataset_tsmc2014\n",
    "#df = pd.read_csv(\"dataset_tsmc2014\\\\dataset_TMSC2014_NYC.txt\", delimiter = \"\\t\", header=None)#, names=[\"Case\", \"Event name\", \"Time\", \"unknown text\"])\n",
    "\n",
    "df = pd.read_csv(\"../../dataset_tsmc2014/dataset_TSMC2014_NYC.txt\", encoding='latin1',delimiter = \"\\t\", header=None, names=[\"User ID\", \"Venue ID\", \"Venue category ID\", \"Venue category name\",\"Latitude\",\"Longitude\", \"Timezone offset\",\"UTC Time\"])"
   ]
  },
  {
   "cell_type": "code",
   "execution_count": null,
   "metadata": {},
   "outputs": [],
   "source": [
    "df"
   ]
  },
  {
   "cell_type": "code",
   "execution_count": null,
   "metadata": {},
   "outputs": [],
   "source": [
    "df.dtypes"
   ]
  },
  {
   "cell_type": "code",
   "execution_count": null,
   "metadata": {
    "scrolled": true
   },
   "outputs": [],
   "source": [
    "print(df[\"Venue category name\"].unique())\n",
    "print(df[\"Venue category name\"].nunique())"
   ]
  },
  {
   "cell_type": "code",
   "execution_count": null,
   "metadata": {},
   "outputs": [],
   "source": [
    "print(df[\"Venue category ID\"].unique())\n",
    "print(df[\"Venue category ID\"].nunique())"
   ]
  },
  {
   "cell_type": "code",
   "execution_count": null,
   "metadata": {},
   "outputs": [],
   "source": [
    "print(df[\"Venue ID\"].unique())\n",
    "print(df[\"Venue ID\"].nunique())"
   ]
  },
  {
   "cell_type": "code",
   "execution_count": null,
   "metadata": {},
   "outputs": [],
   "source": [
    "np.mean(df[\"User ID\",'UTC Time'].groupby([\"User ID\",'UTC Time']).count().reset_index())"
   ]
  },
  {
   "cell_type": "code",
   "execution_count": null,
   "metadata": {},
   "outputs": [],
   "source": [
    "df.groupby([\"User ID\",'week']).count().reset_index().describe()"
   ]
  },
  {
   "cell_type": "code",
   "execution_count": null,
   "metadata": {},
   "outputs": [],
   "source": [
    "print(df[\"User ID\"].nunique())"
   ]
  },
  {
   "cell_type": "code",
   "execution_count": null,
   "metadata": {},
   "outputs": [],
   "source": [
    "user_arr=np.sort(df['User ID'].unique())"
   ]
  },
  {
   "cell_type": "code",
   "execution_count": null,
   "metadata": {},
   "outputs": [],
   "source": [
    "user_arr[:100]"
   ]
  },
  {
   "cell_type": "code",
   "execution_count": null,
   "metadata": {},
   "outputs": [],
   "source": [
    "df2=df[df[\"User ID\"].isin(user_arr[:50])]"
   ]
  },
  {
   "cell_type": "code",
   "execution_count": null,
   "metadata": {},
   "outputs": [],
   "source": [
    "df['UTC Time']=pd.to_datetime(df['UTC Time'], infer_datetime_format=True)"
   ]
  },
  {
   "cell_type": "code",
   "execution_count": null,
   "metadata": {},
   "outputs": [],
   "source": [
    "df['WEEKDAY'] = pandas.to_datetime(df['DATE']).dt.dayofweek\n"
   ]
  },
  {
   "cell_type": "code",
   "execution_count": null,
   "metadata": {},
   "outputs": [],
   "source": [
    "df['day']=df['UTC Time'].dt.day"
   ]
  },
  {
   "cell_type": "code",
   "execution_count": null,
   "metadata": {},
   "outputs": [],
   "source": [
    "df['week']=df['UTC Time'].dt.week"
   ]
  },
  {
   "cell_type": "code",
   "execution_count": null,
   "metadata": {},
   "outputs": [],
   "source": [
    "df = df[~(df['UTC Time'] < '2012-04-01')]"
   ]
  },
  {
   "cell_type": "code",
   "execution_count": null,
   "metadata": {},
   "outputs": [],
   "source": [
    "df = df[~(df['UTC Time'] > '2012-04-30')]"
   ]
  },
  {
   "cell_type": "code",
   "execution_count": null,
   "metadata": {},
   "outputs": [],
   "source": [
    "df['WEEKDAY'] = pd.to_datetime(df['UTC Time']).dt.dayofweek"
   ]
  },
  {
   "cell_type": "code",
   "execution_count": null,
   "metadata": {},
   "outputs": [],
   "source": [
    "df[\"WEEKDAY\"] = df[\"WEEKDAY\"] < 5"
   ]
  },
  {
   "cell_type": "code",
   "execution_count": null,
   "metadata": {},
   "outputs": [],
   "source": [
    "df['WEEKDAY'] = ((pd.DatetimeIndex(df.index).dayofweek) // 5 == 1).astype(float)"
   ]
  },
  {
   "cell_type": "code",
   "execution_count": null,
   "metadata": {},
   "outputs": [],
   "source": []
  },
  {
   "cell_type": "code",
   "execution_count": null,
   "metadata": {},
   "outputs": [],
   "source": [
    "df.to_csv(\"NYC_Apr_16.csv\",index=False)"
   ]
  },
  {
   "cell_type": "code",
   "execution_count": null,
   "metadata": {},
   "outputs": [],
   "source": [
    "len(df)"
   ]
  },
  {
   "cell_type": "code",
   "execution_count": null,
   "metadata": {},
   "outputs": [],
   "source": [
    "df['User ID']"
   ]
  },
  {
   "cell_type": "code",
   "execution_count": null,
   "metadata": {},
   "outputs": [],
   "source": [
    "pd.set_option('display.max_rows', None)\n",
    "temp=(df[['User ID',\"Venue ID\"]].groupby('User ID').count())\n",
    "print(temp)\n",
    "print(temp.iloc[[temp[\"Venue ID\"].argmax()]])\n",
    "\n",
    "print(temp.iloc[[temp[\"Venue ID\"].argmin()]])\n",
    "\n",
    "print(temp[\"Venue ID\"].median())"
   ]
  },
  {
   "cell_type": "code",
   "execution_count": null,
   "metadata": {},
   "outputs": [],
   "source": [
    "#temp=(df.groupby('User ID')['UTC Time'].diff())#transform(lambda x: x.diff()))\n",
    "#print(temp)\n",
    "temp=df[['User ID','UTC Time']]\n",
    "temp['diff']=temp.sort_values(['UTC Time']).groupby('User ID')['UTC Time'].diff()\n",
    "#diff=temp.sort_values(['UTC Time']).groupby('User ID')['UTC Time'].diff()\n",
    "print(temp.sort_values(['UTC Time']).groupby('User ID')['UTC Time'].diff().head())\n",
    "#temp=temp['UTC Time'].diff()\n",
    "#temp.apply(print)\n",
    "#temp['UTC Time'].diff()\n",
    "temp = temp.dropna(subset=['diff'])\n",
    "print(temp.head())\n",
    "print(temp.shape)\n",
    "print(temp['diff'].argmin())\n",
    "print(temp['diff'].min())\n",
    "print(temp['diff'].argmax())\n",
    "print(temp['diff'].max())\n",
    "print(temp['diff'].median())\n"
   ]
  },
  {
   "cell_type": "code",
   "execution_count": null,
   "metadata": {},
   "outputs": [],
   "source": [
    "for i in df[\"User ID\"].unique():\n",
    "    #print(df.loc[df.Case==i])\n",
    "    print(df.loc[df[\"User ID\"]==i][[\"Venue ID\"]].duplicated().any())"
   ]
  }
 ],
 "metadata": {
  "kernelspec": {
   "display_name": "Python 3.8.5 64-bit",
   "language": "python",
   "name": "python38564bit8e74114c351544819777b51aa88f0aa0"
  },
  "language_info": {
   "codemirror_mode": {
    "name": "ipython",
    "version": 3
   },
   "file_extension": ".py",
   "mimetype": "text/x-python",
   "name": "python",
   "nbconvert_exporter": "python",
   "pygments_lexer": "ipython3",
   "version": "3.8.12"
  }
 },
 "nbformat": 4,
 "nbformat_minor": 2
}
