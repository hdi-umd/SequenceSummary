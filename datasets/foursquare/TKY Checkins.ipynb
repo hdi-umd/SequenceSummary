{
 "cells": [
  {
   "cell_type": "code",
   "execution_count": null,
   "metadata": {},
   "outputs": [],
   "source": [
    "import pandas as pd\n",
    "import os\n",
    "import numpy as np"
   ]
  },
  {
   "cell_type": "code",
   "execution_count": null,
   "metadata": {},
   "outputs": [],
   "source": [
    "df = pd.read_csv(\"../../dataset_tsmc2014/dataset_TSMC2014_TKY.txt\", encoding='latin1',delimiter = \"\\t\", header=None, names=[\"User ID\", \"Venue ID\", \"Venue category ID\", \"Venue category name\",\"Latitude\",\"Longitude\", \"Timezone offset\",\"UTC Time\"])"
   ]
  },
  {
   "cell_type": "code",
   "execution_count": null,
   "metadata": {},
   "outputs": [],
   "source": [
    "df"
   ]
  },
  {
   "cell_type": "code",
   "execution_count": null,
   "metadata": {},
   "outputs": [],
   "source": [
    "df.dtypes"
   ]
  },
  {
   "cell_type": "code",
   "execution_count": null,
   "metadata": {},
   "outputs": [],
   "source": [
    "print(df[\"Venue category ID\"].unique())\n",
    "print(df[\"Venue category ID\"].nunique())"
   ]
  },
  {
   "cell_type": "code",
   "execution_count": null,
   "metadata": {},
   "outputs": [],
   "source": [
    "print(df[\"Venue category name\"].unique())\n",
    "print(df[\"Venue category name\"].nunique())"
   ]
  },
  {
   "cell_type": "code",
   "execution_count": null,
   "metadata": {},
   "outputs": [],
   "source": [
    "print(df[\"Venue ID\"].unique())\n",
    "print(df[\"Venue ID\"].nunique())"
   ]
  },
  {
   "cell_type": "code",
   "execution_count": null,
   "metadata": {},
   "outputs": [],
   "source": [
    "df['UTC Time']=pd.to_datetime(df['UTC Time'],  infer_datetime_format=True)"
   ]
  },
  {
   "cell_type": "code",
   "execution_count": null,
   "metadata": {},
   "outputs": [],
   "source": [
    "df = df[~(df['UTC Time'] < '2012-04-01')]\n",
    "\n",
    "df = df[~(df['UTC Time'] > '2012-04-30')]"
   ]
  },
  {
   "cell_type": "code",
   "execution_count": null,
   "metadata": {},
   "outputs": [],
   "source": [
    "df['day']=df['UTC Time'].dt.day\n",
    "\n",
    "df['week']=df['UTC Time'].dt.week"
   ]
  },
  {
   "cell_type": "code",
   "execution_count": null,
   "metadata": {},
   "outputs": [],
   "source": [
    "df.groupby([\"User ID\",'week']).count().reset_index().describe()"
   ]
  },
  {
   "cell_type": "code",
   "execution_count": null,
   "metadata": {},
   "outputs": [],
   "source": [
    "df.to_csv(\"TKY_Apr_15.csv\",index=False)"
   ]
  },
  {
   "cell_type": "code",
   "execution_count": null,
   "metadata": {},
   "outputs": [],
   "source": [
    "len(df)"
   ]
  },
  {
   "cell_type": "code",
   "execution_count": null,
   "metadata": {},
   "outputs": [],
   "source": [
    "print(df[\"User ID\"].nunique())"
   ]
  },
  {
   "cell_type": "code",
   "execution_count": null,
   "metadata": {},
   "outputs": [],
   "source": [
    "user_arr=np.sort(df['User ID'].unique())"
   ]
  },
  {
   "cell_type": "code",
   "execution_count": null,
   "metadata": {},
   "outputs": [],
   "source": [
    "df2=df[df[\"User ID\"].isin(user_arr[:50])]"
   ]
  },
  {
   "cell_type": "code",
   "execution_count": null,
   "metadata": {},
   "outputs": [],
   "source": []
  },
  {
   "cell_type": "code",
   "execution_count": null,
   "metadata": {},
   "outputs": [],
   "source": []
  },
  {
   "cell_type": "code",
   "execution_count": null,
   "metadata": {},
   "outputs": [],
   "source": []
  },
  {
   "cell_type": "code",
   "execution_count": null,
   "metadata": {},
   "outputs": [],
   "source": []
  },
  {
   "cell_type": "code",
   "execution_count": null,
   "metadata": {},
   "outputs": [],
   "source": []
  },
  {
   "cell_type": "code",
   "execution_count": null,
   "metadata": {},
   "outputs": [],
   "source": [
    "np.sort(df['User ID'].unique())"
   ]
  },
  {
   "cell_type": "code",
   "execution_count": null,
   "metadata": {},
   "outputs": [],
   "source": [
    "df['User ID']"
   ]
  },
  {
   "cell_type": "code",
   "execution_count": null,
   "metadata": {},
   "outputs": [],
   "source": [
    "pd.set_option('display.max_rows', None)\n",
    "temp=(df[['User ID',\"Venue ID\"]].groupby('User ID').count())\n",
    "print(temp)\n",
    "print(temp.iloc[[temp[\"Venue ID\"].argmax()]])\n",
    "\n",
    "print(temp.iloc[[temp[\"Venue ID\"].argmin()]])\n",
    "\n",
    "print(temp[\"Venue ID\"].median())"
   ]
  },
  {
   "cell_type": "code",
   "execution_count": null,
   "metadata": {
    "scrolled": true
   },
   "outputs": [],
   "source": [
    "temp=df[['User ID','UTC Time']]\n",
    "temp['diff']=temp.sort_values(['UTC Time']).groupby('User ID')['UTC Time'].diff()\n",
    "#diff=temp.sort_values(['UTC Time']).groupby('User ID')['UTC Time'].diff()\n",
    "print(temp.sort_values(['UTC Time']).groupby('User ID')['UTC Time'].diff().head())\n",
    "#temp=temp['UTC Time'].diff()\n",
    "#temp.apply(print)\n",
    "#temp['UTC Time'].diff()\n",
    "temp = temp.dropna(subset=['diff'])\n",
    "print(temp.head())\n",
    "print(temp.shape)\n",
    "print(temp['diff'].argmin())\n",
    "print(temp['diff'].min())\n",
    "print(temp['diff'].argmax())\n",
    "print(temp['diff'].max())\n",
    "print(temp['diff'].median())"
   ]
  },
  {
   "cell_type": "code",
   "execution_count": null,
   "metadata": {},
   "outputs": [],
   "source": [
    "for i in df[\"User ID\"].unique():\n",
    "    #print(df.loc[df.Case==i])\n",
    "    print(df.loc[df[\"User ID\"]==i][[\"Venue ID\"]].duplicated().any())"
   ]
  },
  {
   "cell_type": "code",
   "execution_count": null,
   "metadata": {},
   "outputs": [],
   "source": [
    "df[df.duplicated(subset=['User ID','Venue ID'], keep=False)]"
   ]
  },
  {
   "cell_type": "code",
   "execution_count": null,
   "metadata": {},
   "outputs": [],
   "source": [
    "df.groupby('User ID').filter(lambda x: len(x['Venue ID'].unique()) > 1)"
   ]
  },
  {
   "cell_type": "code",
   "execution_count": null,
   "metadata": {},
   "outputs": [],
   "source": [
    "df.groupby('User ID').filter(lambda x: len(x['Venue ID'].duplicated()))"
   ]
  },
  {
   "cell_type": "code",
   "execution_count": null,
   "metadata": {},
   "outputs": [],
   "source": [
    "pd.concat(g for _, g in df.groupby(\"ID\") if len(g) > 1)"
   ]
  },
  {
   "cell_type": "markdown",
   "metadata": {},
   "source": [
    "'Cosmetics Shop' 'Ramen /  Noodle House' 'Convenience Store'\n",
    " 'Food & Drink Shop' 'Housing Development' 'Furniture / Home Store'\n",
    " 'Train Station' 'Other Great Outdoors' 'Airport' 'Bus Station' 'Bridge'\n",
    " 'Road' 'Subway' 'Park' 'Post Office' 'Light Rail' 'Shrine'\n",
    " 'Fast Food Restaurant' 'University' 'Government Building' 'Restaurant'\n",
    " 'Café' 'Gym / Fitness Center' 'Candy Store' 'Mall' 'Home (private)'\n",
    " 'Other Nightlife' 'Coffee Shop' 'Office' 'Japanese Restaurant'\n",
    " 'Fried Chicken Joint' 'Bar' 'Toy / Game Store' 'Building'\n",
    " 'Scenic Lookout' 'Flower Shop' 'Miscellaneous Shop' 'Video Store'\n",
    " 'College Academic Building' 'Student Center' 'Internet Cafe'\n",
    " 'Medical Center' 'Event Space' 'Smoke Shop' 'History Museum'\n",
    " 'Movie Theater' 'School' 'Parking' 'Bakery' 'Pool'\n",
    " 'General College & University' 'Temple' 'Burger Joint' 'Historic Site'\n",
    " 'Electronics Store' 'Garden' 'Department Store' 'Spiritual Center'\n",
    " 'Art Gallery' 'Sandwich Place' 'Convention Center' 'Automotive Shop'\n",
    " 'Plaza' 'Mobile Phone Shop' 'Taxi' 'General Entertainment' 'Playground'\n",
    " 'Sculpture Garden' 'Arts & Crafts Store' 'Stadium' 'High School'\n",
    " 'Shop & Service' 'Bookstore' 'Music Venue' 'French Restaurant'\n",
    " 'Clothing Store' 'Chinese Restaurant' 'Korean Restaurant' 'Museum'\n",
    " 'Asian Restaurant' 'Italian Restaurant' 'Steakhouse' 'Indian Restaurant'\n",
    " 'Factory' 'Neighborhood' 'Library' 'Bank' 'Sushi Restaurant'\n",
    " 'Deli / Bodega' 'Dumpling Restaurant' 'Hobby Shop' 'BBQ Joint' 'Food'\n",
    " 'Church' 'Thai Restaurant' 'Trade School' 'Salon / Barbershop' 'Tea Room'\n",
    " 'Food Truck' 'Diner' 'Arcade' 'Drugstore / Pharmacy' 'Hotel' 'Gift Shop'\n",
    " 'Bike Shop' 'Concert Hall' 'Art Museum' 'General Travel' 'Spa / Massage'\n",
    " 'Camera Store' 'Soup Place' 'Music Store' 'Recycling Facility'\n",
    " 'Bowling Alley' 'Record Shop' 'Donut Shop' 'Cemetery' 'Ferry'\n",
    " 'Dessert Shop' 'Sporting Goods Shop' 'Snack Place' 'Gas Station / Garage'\n",
    " 'Hardware Store' 'Outdoors & Recreation' 'Laundry Service'\n",
    " 'Residential Building (Apartment / Condo)' 'Science Museum'\n",
    " 'Seafood Restaurant' 'Gaming Cafe' 'Paper / Office Supplies Store'\n",
    " 'Aquarium' 'Community College' 'River' 'American Restaurant'\n",
    " 'Video Game Store' 'Beer Garden' 'Theater' 'Eastern European Restaurant'\n",
    " 'Athletic & Sport' 'Financial or Legal Service' 'Caribbean Restaurant'\n",
    " 'Spanish Restaurant' 'Pet Store' 'Nursery School' 'Military Base'\n",
    " 'Garden Center' 'Comedy Club' 'Pizza Place' 'Nightlife Spot' 'Pool Hall'\n",
    " 'Elementary School' 'Brewery' 'Vegetarian / Vegan Restaurant'\n",
    " 'German Restaurant' 'Travel & Transport' 'Rest Area'\n",
    " 'Vietnamese Restaurant' 'Embassy / Consulate' 'Performing Arts Venue'\n",
    " 'Zoo' 'Racetrack' 'Funeral Home' 'Car Dealership' 'Harbor / Marina'\n",
    " 'Thrift / Vintage Store' 'Casino' 'Swiss Restaurant' 'College Stadium'\n",
    " 'Campground' 'Antique Shop' 'Professional & Other Places'\n",
    " 'College Theater' 'Ice Cream Shop' 'Wings Joint' 'Rental Car Location'\n",
    " 'Dim Sum Restaurant' 'Tapas Restaurant' 'Bike Rental / Bike Share'\n",
    " 'Bagel Shop' 'Board Shop' 'Design Studio' 'Middle School' 'Cupcake Shop'\n",
    " 'Mexican Restaurant' 'Turkish Restaurant' 'Mediterranean Restaurant'\n",
    " 'Jewelry Store' 'Sorority House' 'Latin American Restaurant' 'Gastropub'\n",
    " 'Arts & Entertainment' 'Travel Lounge' 'Flea Market' 'Winery'\n",
    " 'Law School' 'Brazilian Restaurant' 'Breakfast Spot' 'Hot Dog Joint'\n",
    " 'College & University' 'Motorcycle Shop' 'Beach' 'Bridal Shop'\n",
    " 'Ethiopian Restaurant' 'Middle Eastern Restaurant' 'Mosque'\n",
    " 'Medical School' 'Salad Place' 'Moving Target' 'Australian Restaurant'\n",
    " 'Taco Place' 'Nail Salon' 'Peruvian Restaurant' 'Car Wash' 'Planetarium'\n",
    " 'Synagogue' 'Moroccan Restaurant' 'Storage Facility' 'Fish & Chips Shop'\n",
    " 'Cuban Restaurant' 'Newsstand' 'Photography Lab' 'Mac & Cheese Joint'\n",
    " 'Distillery' 'Fair' 'Burrito Place' 'Animal Shelter'\n",
    " 'Portuguese Restaurant' 'Scandinavian Restaurant' 'Public Art'\n",
    " 'Fraternity House' 'Castle' 'African Restaurant' 'Malaysian Restaurant'\n",
    " 'City' 'Music School' 'Southern / Soul Food Restaurant' 'Ski Area'\n",
    " 'Argentinian Restaurant' 'Cajun / Creole Restaurant'\n",
    " 'South American Restaurant' 'Tanning Salon' 'Arepa Restaurant'\n",
    " 'Gluten-free Restaurant' 'Pet Service' 'Afghan Restaurant' 'Market'\n",
    " 'Falafel Restaurant'"
   ]
  }
 ],
 "metadata": {
  "kernelspec": {
   "display_name": "Python 3.8.5 64-bit",
   "language": "python",
   "name": "python38564bit8e74114c351544819777b51aa88f0aa0"
  },
  "language_info": {
   "codemirror_mode": {
    "name": "ipython",
    "version": 3
   },
   "file_extension": ".py",
   "mimetype": "text/x-python",
   "name": "python",
   "nbconvert_exporter": "python",
   "pygments_lexer": "ipython3",
   "version": "3.8.12"
  }
 },
 "nbformat": 4,
 "nbformat_minor": 2
}
