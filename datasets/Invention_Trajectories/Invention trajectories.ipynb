{
 "cells": [
  {
   "cell_type": "code",
   "execution_count": null,
   "metadata": {},
   "outputs": [],
   "source": [
    "import pandas as pd\n",
    "import numpy as np"
   ]
  },
  {
   "cell_type": "code",
   "execution_count": null,
   "metadata": {},
   "outputs": [],
   "source": [
    "pd.set_option('display.max_rows', None)"
   ]
  },
  {
   "cell_type": "code",
   "execution_count": null,
   "metadata": {},
   "outputs": [],
   "source": [
    "#making pandas dataframe from text with added headers\n",
    "\n",
    "df = pd.read_csv('illinois03.txt', delimiter = \"\\t\", header=None, names=[\"Record ID\", \"Event Category\", \"Start Date\", \"End Date\",\"Attributes\"])"
   ]
  },
  {
   "cell_type": "code",
   "execution_count": null,
   "metadata": {
    "scrolled": true
   },
   "outputs": [],
   "source": [
    "df\n"
   ]
  },
  {
   "cell_type": "code",
   "execution_count": null,
   "metadata": {},
   "outputs": [],
   "source": [
    "df1 = df['Attributes'].str.split(';',expand=True)\n",
    "df=df.join(df1.add_prefix('val'))\n"
   ]
  },
  {
   "cell_type": "code",
   "execution_count": null,
   "metadata": {},
   "outputs": [],
   "source": [
    "df=df.drop(columns=[\"Attributes\"])"
   ]
  },
  {
   "cell_type": "code",
   "execution_count": null,
   "metadata": {},
   "outputs": [],
   "source": [
    "#rename columns\n",
    "lst=[]\n",
    "lst.append(df.iloc[0][4:].apply(lambda x:x.split(\"=\")))"
   ]
  },
  {
   "cell_type": "code",
   "execution_count": null,
   "metadata": {},
   "outputs": [],
   "source": [
    "lst1=[x[0] for i,x in enumerate(lst[0])]"
   ]
  },
  {
   "cell_type": "code",
   "execution_count": null,
   "metadata": {},
   "outputs": [],
   "source": [
    "lst1"
   ]
  },
  {
   "cell_type": "code",
   "execution_count": null,
   "metadata": {},
   "outputs": [],
   "source": [
    "df.columns.values[4:]=lst1"
   ]
  },
  {
   "cell_type": "code",
   "execution_count": null,
   "metadata": {},
   "outputs": [],
   "source": [
    "def split_fun(String):\n",
    "    val=[x[1] for x in String.str.split(\"=\")]\n",
    "    #print(val)\n",
    "    #[:,1]\n",
    "    #print(val[0][1]+\"x\")\n",
    "    return(val)"
   ]
  },
  {
   "cell_type": "code",
   "execution_count": null,
   "metadata": {},
   "outputs": [],
   "source": [
    "df.iloc[:,4:].apply(lambda y: [x[1] for x in y.str.split(\"=\")])"
   ]
  },
  {
   "cell_type": "code",
   "execution_count": null,
   "metadata": {},
   "outputs": [],
   "source": [
    "df=pd.concat([df.iloc[:,0:4],df.iloc[:,4:].apply(lambda y: [x[1] for x in y.str.split(\"=\")])], axis=1)"
   ]
  },
  {
   "cell_type": "code",
   "execution_count": null,
   "metadata": {},
   "outputs": [],
   "source": [
    "df.head(100)"
   ]
  },
  {
   "cell_type": "code",
   "execution_count": null,
   "metadata": {},
   "outputs": [],
   "source": [
    "print(df[\"apptype\"].unique())\n",
    "print(df[\"apptype\"].nunique())"
   ]
  },
  {
   "cell_type": "code",
   "execution_count": null,
   "metadata": {},
   "outputs": [],
   "source": [
    "print(df[\"srcdocnum\"].unique())\n",
    "print(df[\"srcdocnum\"].nunique())"
   ]
  },
  {
   "cell_type": "code",
   "execution_count": null,
   "metadata": {},
   "outputs": [],
   "source": [
    "print(df[\"docsource\"].unique())\n",
    "print(df[\"docsource\"].nunique())"
   ]
  },
  {
   "cell_type": "code",
   "execution_count": null,
   "metadata": {},
   "outputs": [],
   "source": [
    "print(df[\"mainclass\"].unique())\n",
    "print(df[\"mainclass\"].nunique())"
   ]
  },
  {
   "cell_type": "code",
   "execution_count": null,
   "metadata": {},
   "outputs": [],
   "source": [
    "df[df[\"docval\"]=='\"\"']"
   ]
  },
  {
   "cell_type": "code",
   "execution_count": null,
   "metadata": {},
   "outputs": [],
   "source": [
    "df.to_csv(\"invention_expanded.csv\",index=False)"
   ]
  },
  {
   "cell_type": "code",
   "execution_count": null,
   "metadata": {},
   "outputs": [],
   "source": [
    "df[1:2,1:2]"
   ]
  },
  {
   "cell_type": "code",
   "execution_count": null,
   "metadata": {},
   "outputs": [],
   "source": [
    "df.iloc[1:3,4:].apply(lambda x:x.str.split(\"=\",expand=True))"
   ]
  },
  {
   "cell_type": "code",
   "execution_count": null,
   "metadata": {},
   "outputs": [],
   "source": [
    "df[[4]].apply(lambda x:x.split(\"=\")[1])"
   ]
  },
  {
   "cell_type": "code",
   "execution_count": null,
   "metadata": {},
   "outputs": [],
   "source": [
    "print(df[\"Event Category\"].unique())\n",
    "print(df[\"Event Category\"].nunique())"
   ]
  },
  {
   "cell_type": "code",
   "execution_count": null,
   "metadata": {},
   "outputs": [],
   "source": [
    "print(df[\"Record ID\"].unique())\n",
    "print(df[\"Record ID\"].nunique())"
   ]
  },
  {
   "cell_type": "markdown",
   "metadata": {},
   "source": [
    "sbir- small business innovation research"
   ]
  },
  {
   "cell_type": "code",
   "execution_count": null,
   "metadata": {},
   "outputs": [],
   "source": [
    "df.dtypes"
   ]
  },
  {
   "cell_type": "code",
   "execution_count": null,
   "metadata": {},
   "outputs": [],
   "source": [
    "print(df[\"Record ID\"].nunique())"
   ]
  },
  {
   "cell_type": "code",
   "execution_count": null,
   "metadata": {},
   "outputs": [],
   "source": [
    "#count max min and median seq len\n",
    "pd.set_option('display.max_rows', None)\n",
    "temp=(df[['Record ID',\"Event Category\"]].groupby('Record ID').count())\n",
    "print(temp)\n",
    "print(temp.iloc[[temp[\"Event Category\"].argmax()]])\n",
    "\n",
    "print(temp.iloc[[temp[\"Event Category\"].argmin()]])\n",
    "\n",
    "print(temp[\"Event Category\"].median())"
   ]
  },
  {
   "cell_type": "code",
   "execution_count": null,
   "metadata": {},
   "outputs": [],
   "source": [
    "# for time interval\n",
    "temp=df.dropna(axis=\"rows\", how=\"any\")\n",
    "temp.shape\n",
    "temp['Start Date']=pd.to_datetime(temp['Start Date'])\n",
    "temp['End Date']=pd.to_datetime(temp['End Date'])"
   ]
  },
  {
   "cell_type": "code",
   "execution_count": null,
   "metadata": {},
   "outputs": [],
   "source": [
    "temp"
   ]
  },
  {
   "cell_type": "code",
   "execution_count": null,
   "metadata": {},
   "outputs": [],
   "source": [
    "temp['diff']=(temp['End Date']-temp['Start Date']).dt.days\n",
    "print(temp.iloc[[temp['diff'].argmax()]])\n",
    "print(temp.iloc[[temp['diff'].argmin()]])\n",
    "print(temp['diff'].median())"
   ]
  },
  {
   "cell_type": "code",
   "execution_count": null,
   "metadata": {},
   "outputs": [],
   "source": [
    "for i in df[\"Record ID\"].unique():\n",
    "    #df.loc[df.Case==i]\n",
    "    #print(df.loc[df['Record ID']==i])\n",
    "    print(df.loc[df['Record ID']==i][[\"Event Category\"]].duplicated().any())"
   ]
  }
 ],
 "metadata": {
  "kernelspec": {
   "display_name": "Python 3.8.5 64-bit",
   "language": "python",
   "name": "python38564bit8e74114c351544819777b51aa88f0aa0"
  },
  "language_info": {
   "codemirror_mode": {
    "name": "ipython",
    "version": 3
   },
   "file_extension": ".py",
   "mimetype": "text/x-python",
   "name": "python",
   "nbconvert_exporter": "python",
   "pygments_lexer": "ipython3",
   "version": "3.8.11"
  }
 },
 "nbformat": 4,
 "nbformat_minor": 2
}
