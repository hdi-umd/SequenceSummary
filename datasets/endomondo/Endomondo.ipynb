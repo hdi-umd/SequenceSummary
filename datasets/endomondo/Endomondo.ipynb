{
 "cells": [
  {
   "cell_type": "code",
   "execution_count": 113,
   "metadata": {},
   "outputs": [],
   "source": [
    "import pandas as pd\n",
    "import os\n",
    "import numpy as np\n",
    "import json\n",
    "import ast"
   ]
  },
  {
   "cell_type": "code",
   "execution_count": 114,
   "metadata": {},
   "outputs": [],
   "source": [
    "import io\n",
    "import ijson"
   ]
  },
  {
   "cell_type": "code",
   "execution_count": 115,
   "metadata": {},
   "outputs": [],
   "source": [
    "unique_user_values = set()\n",
    "unique_sport_values= set()\n",
    "unique_id_values=set()\n",
    "unique_url_values=set()\n",
    "\n",
    "user_list=[]\n",
    "workout_list=[]\n",
    "workout_details_list=None\n",
    "#device_data = [{k: v for k, v in x.items() if k in ['type','id']}"
   ]
  },
  {
   "cell_type": "code",
   "execution_count": 116,
   "metadata": {},
   "outputs": [],
   "source": [
    "def get_attribute(data, attribute, default_value):\n",
    "    return data.get(attribute) or default_value"
   ]
  },
  {
   "cell_type": "code",
   "execution_count": 117,
   "metadata": {},
   "outputs": [
    {
     "ename": "KeyboardInterrupt",
     "evalue": "",
     "output_type": "error",
     "traceback": [
      "\u001b[0;31m---------------------------------------------------------------------------\u001b[0m",
      "\u001b[0;31mKeyboardInterrupt\u001b[0m                         Traceback (most recent call last)",
      "\u001b[0;32m<ipython-input-117-e2b1500c4e8f>\u001b[0m in \u001b[0;36m<module>\u001b[0;34m\u001b[0m\n\u001b[1;32m     26\u001b[0m             \u001b[0mworkout_details_list\u001b[0m\u001b[0;34m=\u001b[0m\u001b[0mworkout_details\u001b[0m\u001b[0;34m\u001b[0m\u001b[0;34m\u001b[0m\u001b[0m\n\u001b[1;32m     27\u001b[0m         \u001b[0;32melse\u001b[0m\u001b[0;34m:\u001b[0m\u001b[0;34m\u001b[0m\u001b[0;34m\u001b[0m\u001b[0m\n\u001b[0;32m---> 28\u001b[0;31m             \u001b[0mworkout_details_list\u001b[0m\u001b[0;34m=\u001b[0m\u001b[0mnp\u001b[0m\u001b[0;34m.\u001b[0m\u001b[0mvstack\u001b[0m\u001b[0;34m(\u001b[0m\u001b[0;34m(\u001b[0m\u001b[0mworkout_details_list\u001b[0m\u001b[0;34m,\u001b[0m\u001b[0mworkout_details\u001b[0m\u001b[0;34m)\u001b[0m\u001b[0;34m)\u001b[0m\u001b[0;34m\u001b[0m\u001b[0;34m\u001b[0m\u001b[0m\n\u001b[0m\u001b[1;32m     29\u001b[0m         \u001b[0;31m#print(workout_details)\u001b[0m\u001b[0;34m\u001b[0m\u001b[0;34m\u001b[0m\u001b[0;34m\u001b[0m\u001b[0m\n\u001b[1;32m     30\u001b[0m \u001b[0mprint\u001b[0m\u001b[0;34m(\u001b[0m\u001b[0munique_sport_values\u001b[0m\u001b[0;34m)\u001b[0m\u001b[0;34m\u001b[0m\u001b[0;34m\u001b[0m\u001b[0m\n",
      "\u001b[0;32m<__array_function__ internals>\u001b[0m in \u001b[0;36mvstack\u001b[0;34m(*args, **kwargs)\u001b[0m\n",
      "\u001b[0;32m~/.local/lib/python3.8/site-packages/numpy/core/shape_base.py\u001b[0m in \u001b[0;36mvstack\u001b[0;34m(tup)\u001b[0m\n\u001b[1;32m    281\u001b[0m     \u001b[0;32mif\u001b[0m \u001b[0;32mnot\u001b[0m \u001b[0misinstance\u001b[0m\u001b[0;34m(\u001b[0m\u001b[0marrs\u001b[0m\u001b[0;34m,\u001b[0m \u001b[0mlist\u001b[0m\u001b[0;34m)\u001b[0m\u001b[0;34m:\u001b[0m\u001b[0;34m\u001b[0m\u001b[0;34m\u001b[0m\u001b[0m\n\u001b[1;32m    282\u001b[0m         \u001b[0marrs\u001b[0m \u001b[0;34m=\u001b[0m \u001b[0;34m[\u001b[0m\u001b[0marrs\u001b[0m\u001b[0;34m]\u001b[0m\u001b[0;34m\u001b[0m\u001b[0;34m\u001b[0m\u001b[0m\n\u001b[0;32m--> 283\u001b[0;31m     \u001b[0;32mreturn\u001b[0m \u001b[0m_nx\u001b[0m\u001b[0;34m.\u001b[0m\u001b[0mconcatenate\u001b[0m\u001b[0;34m(\u001b[0m\u001b[0marrs\u001b[0m\u001b[0;34m,\u001b[0m \u001b[0;36m0\u001b[0m\u001b[0;34m)\u001b[0m\u001b[0;34m\u001b[0m\u001b[0;34m\u001b[0m\u001b[0m\n\u001b[0m\u001b[1;32m    284\u001b[0m \u001b[0;34m\u001b[0m\u001b[0m\n\u001b[1;32m    285\u001b[0m \u001b[0;34m\u001b[0m\u001b[0m\n",
      "\u001b[0;32m<__array_function__ internals>\u001b[0m in \u001b[0;36mconcatenate\u001b[0;34m(*args, **kwargs)\u001b[0m\n",
      "\u001b[0;31mKeyboardInterrupt\u001b[0m: "
     ]
    }
   ],
   "source": [
    "with open(\"Endomodo/endomondoHR_proper.json\", encoding='latin1') as json_file:\n",
    "    count=0\n",
    "    for line_number, line in enumerate(json_file):\n",
    "        \n",
    "        #print (\"Processing line\", line_number + 1,\"at cursor index:\", cursor)\n",
    "        #line=ast.literal_eval(line)\n",
    "        line = line.replace(\"\\'\", \"\\\"\")\n",
    "        data = json.loads(line)\n",
    "        unique_sport_values.add(data['sport'])\n",
    "        unique_url_values.add(data['url'])\n",
    "        \n",
    "        if(data['userId']) not in unique_user_values:\n",
    "            user_list.append({k: v for k, v in data.items() if k in ['userId','gender']})\n",
    "        if(data['id']) not in unique_id_values:\n",
    "            workout_list.append({k: v for k, v in data.items() if k in ['id','userId','sport','url']})\n",
    "        #count=line_number    \n",
    "        unique_user_values.add(data['userId'])\n",
    "        unique_id_values.add(data['id'])\n",
    "        #print(len(data['timestamp']))\n",
    "        #print(data['speed'])\n",
    "        workout_id=np.repeat(data['id'],len(data['timestamp']))\n",
    "        speed = get_attribute(data, 'speed', np.repeat(0,len(data['timestamp'])))\n",
    "        #print(speed)\n",
    "        workout_details=np.column_stack((workout_id,data['timestamp'],data['altitude'],data['longitude'],data['latitude'],data['heart_rate'],speed))\n",
    "        if workout_details_list is None:\n",
    "            workout_details_list=workout_details\n",
    "        else:\n",
    "            workout_details_list=np.vstack((workout_details_list,workout_details))\n",
    "        #print(workout_details)\n",
    "print(unique_sport_values)\n",
    "print(count)\n",
    "user_df=pd.DataFrame(user_list)\n",
    "work_out_df=pd.DataFrame(workout_list)\n",
    "        #print(data)\n",
    "        #print(data.keys())\n",
    "        #line_as_file = io.StringIO(line)\n",
    "        # Use a new parser for each line\n",
    "        #json_parser = ijson.parse(line_as_file)\n",
    "        #for prefix, type, value in json_parser:\n",
    "        #    print (\"prefix=\",prefix, \"type=\",type, \"value=\",value)\n",
    "        #cursor += len(line)\n"
   ]
  },
  {
   "cell_type": "code",
   "execution_count": 87,
   "metadata": {},
   "outputs": [
    {
     "data": {
      "text/html": [
       "<div>\n",
       "<style scoped>\n",
       "    .dataframe tbody tr th:only-of-type {\n",
       "        vertical-align: middle;\n",
       "    }\n",
       "\n",
       "    .dataframe tbody tr th {\n",
       "        vertical-align: top;\n",
       "    }\n",
       "\n",
       "    .dataframe thead th {\n",
       "        text-align: right;\n",
       "    }\n",
       "</style>\n",
       "<table border=\"1\" class=\"dataframe\">\n",
       "  <thead>\n",
       "    <tr style=\"text-align: right;\">\n",
       "      <th></th>\n",
       "      <th>gender</th>\n",
       "      <th>userId</th>\n",
       "    </tr>\n",
       "  </thead>\n",
       "  <tbody>\n",
       "    <tr>\n",
       "      <th>0</th>\n",
       "      <td>male</td>\n",
       "      <td>10921915</td>\n",
       "    </tr>\n",
       "    <tr>\n",
       "      <th>1</th>\n",
       "      <td>male</td>\n",
       "      <td>4969375</td>\n",
       "    </tr>\n",
       "    <tr>\n",
       "      <th>2</th>\n",
       "      <td>male</td>\n",
       "      <td>430859</td>\n",
       "    </tr>\n",
       "    <tr>\n",
       "      <th>3</th>\n",
       "      <td>female</td>\n",
       "      <td>279317</td>\n",
       "    </tr>\n",
       "    <tr>\n",
       "      <th>4</th>\n",
       "      <td>male</td>\n",
       "      <td>3905196</td>\n",
       "    </tr>\n",
       "    <tr>\n",
       "      <th>...</th>\n",
       "      <td>...</td>\n",
       "      <td>...</td>\n",
       "    </tr>\n",
       "    <tr>\n",
       "      <th>1054</th>\n",
       "      <td>male</td>\n",
       "      <td>4101</td>\n",
       "    </tr>\n",
       "    <tr>\n",
       "      <th>1055</th>\n",
       "      <td>male</td>\n",
       "      <td>1875839</td>\n",
       "    </tr>\n",
       "    <tr>\n",
       "      <th>1056</th>\n",
       "      <td>male</td>\n",
       "      <td>3743021</td>\n",
       "    </tr>\n",
       "    <tr>\n",
       "      <th>1057</th>\n",
       "      <td>male</td>\n",
       "      <td>431375</td>\n",
       "    </tr>\n",
       "    <tr>\n",
       "      <th>1058</th>\n",
       "      <td>male</td>\n",
       "      <td>69</td>\n",
       "    </tr>\n",
       "  </tbody>\n",
       "</table>\n",
       "<p>1059 rows × 2 columns</p>\n",
       "</div>"
      ],
      "text/plain": [
       "      gender    userId\n",
       "0       male  10921915\n",
       "1       male   4969375\n",
       "2       male    430859\n",
       "3     female    279317\n",
       "4       male   3905196\n",
       "...      ...       ...\n",
       "1054    male      4101\n",
       "1055    male   1875839\n",
       "1056    male   3743021\n",
       "1057    male    431375\n",
       "1058    male        69\n",
       "\n",
       "[1059 rows x 2 columns]"
      ]
     },
     "execution_count": 87,
     "metadata": {},
     "output_type": "execute_result"
    }
   ],
   "source": [
    "user_df"
   ]
  },
  {
   "cell_type": "code",
   "execution_count": 79,
   "metadata": {
    "scrolled": true
   },
   "outputs": [
    {
     "data": {
      "text/html": [
       "<div>\n",
       "<style scoped>\n",
       "    .dataframe tbody tr th:only-of-type {\n",
       "        vertical-align: middle;\n",
       "    }\n",
       "\n",
       "    .dataframe tbody tr th {\n",
       "        vertical-align: top;\n",
       "    }\n",
       "\n",
       "    .dataframe thead th {\n",
       "        text-align: right;\n",
       "    }\n",
       "</style>\n",
       "<table border=\"1\" class=\"dataframe\">\n",
       "  <thead>\n",
       "    <tr style=\"text-align: right;\">\n",
       "      <th></th>\n",
       "      <th>sport</th>\n",
       "      <th>id</th>\n",
       "      <th>url</th>\n",
       "      <th>userId</th>\n",
       "    </tr>\n",
       "  </thead>\n",
       "  <tbody>\n",
       "    <tr>\n",
       "      <th>0</th>\n",
       "      <td>bike</td>\n",
       "      <td>396826535</td>\n",
       "      <td>https://www.endomondo.com/users/10921915/worko...</td>\n",
       "      <td>10921915</td>\n",
       "    </tr>\n",
       "    <tr>\n",
       "      <th>1</th>\n",
       "      <td>bike</td>\n",
       "      <td>392337038</td>\n",
       "      <td>https://www.endomondo.com/users/10921915/worko...</td>\n",
       "      <td>10921915</td>\n",
       "    </tr>\n",
       "    <tr>\n",
       "      <th>2</th>\n",
       "      <td>bike</td>\n",
       "      <td>389643739</td>\n",
       "      <td>https://www.endomondo.com/users/10921915/worko...</td>\n",
       "      <td>10921915</td>\n",
       "    </tr>\n",
       "    <tr>\n",
       "      <th>3</th>\n",
       "      <td>bike</td>\n",
       "      <td>386729739</td>\n",
       "      <td>https://www.endomondo.com/users/10921915/worko...</td>\n",
       "      <td>10921915</td>\n",
       "    </tr>\n",
       "    <tr>\n",
       "      <th>4</th>\n",
       "      <td>bike (transport)</td>\n",
       "      <td>383186560</td>\n",
       "      <td>https://www.endomondo.com/users/10921915/worko...</td>\n",
       "      <td>10921915</td>\n",
       "    </tr>\n",
       "    <tr>\n",
       "      <th>...</th>\n",
       "      <td>...</td>\n",
       "      <td>...</td>\n",
       "      <td>...</td>\n",
       "      <td>...</td>\n",
       "    </tr>\n",
       "    <tr>\n",
       "      <th>503344</th>\n",
       "      <td>run</td>\n",
       "      <td>30369221</td>\n",
       "      <td>https://www.endomondo.com/users/69/workouts/30...</td>\n",
       "      <td>69</td>\n",
       "    </tr>\n",
       "    <tr>\n",
       "      <th>503345</th>\n",
       "      <td>bike</td>\n",
       "      <td>596955589</td>\n",
       "      <td>https://www.endomondo.com/users/69/workouts/59...</td>\n",
       "      <td>69</td>\n",
       "    </tr>\n",
       "    <tr>\n",
       "      <th>503346</th>\n",
       "      <td>run</td>\n",
       "      <td>24888434</td>\n",
       "      <td>https://www.endomondo.com/users/69/workouts/24...</td>\n",
       "      <td>69</td>\n",
       "    </tr>\n",
       "    <tr>\n",
       "      <th>503347</th>\n",
       "      <td>bike</td>\n",
       "      <td>538385734</td>\n",
       "      <td>https://www.endomondo.com/users/69/workouts/53...</td>\n",
       "      <td>69</td>\n",
       "    </tr>\n",
       "    <tr>\n",
       "      <th>503348</th>\n",
       "      <td>run</td>\n",
       "      <td>20253456</td>\n",
       "      <td>https://www.endomondo.com/users/69/workouts/20...</td>\n",
       "      <td>69</td>\n",
       "    </tr>\n",
       "  </tbody>\n",
       "</table>\n",
       "<p>503349 rows × 4 columns</p>\n",
       "</div>"
      ],
      "text/plain": [
       "                   sport         id  \\\n",
       "0                   bike  396826535   \n",
       "1                   bike  392337038   \n",
       "2                   bike  389643739   \n",
       "3                   bike  386729739   \n",
       "4       bike (transport)  383186560   \n",
       "...                  ...        ...   \n",
       "503344               run   30369221   \n",
       "503345              bike  596955589   \n",
       "503346               run   24888434   \n",
       "503347              bike  538385734   \n",
       "503348               run   20253456   \n",
       "\n",
       "                                                      url    userId  \n",
       "0       https://www.endomondo.com/users/10921915/worko...  10921915  \n",
       "1       https://www.endomondo.com/users/10921915/worko...  10921915  \n",
       "2       https://www.endomondo.com/users/10921915/worko...  10921915  \n",
       "3       https://www.endomondo.com/users/10921915/worko...  10921915  \n",
       "4       https://www.endomondo.com/users/10921915/worko...  10921915  \n",
       "...                                                   ...       ...  \n",
       "503344  https://www.endomondo.com/users/69/workouts/30...        69  \n",
       "503345  https://www.endomondo.com/users/69/workouts/59...        69  \n",
       "503346  https://www.endomondo.com/users/69/workouts/24...        69  \n",
       "503347  https://www.endomondo.com/users/69/workouts/53...        69  \n",
       "503348  https://www.endomondo.com/users/69/workouts/20...        69  \n",
       "\n",
       "[503349 rows x 4 columns]"
      ]
     },
     "execution_count": 79,
     "metadata": {},
     "output_type": "execute_result"
    }
   ],
   "source": [
    "work_out_df"
   ]
  },
  {
   "cell_type": "code",
   "execution_count": 48,
   "metadata": {},
   "outputs": [
    {
     "data": {
      "text/plain": [
       "167783"
      ]
     },
     "execution_count": 48,
     "metadata": {},
     "output_type": "execute_result"
    }
   ],
   "source": [
    "len(unique_id_values)"
   ]
  },
  {
   "cell_type": "code",
   "execution_count": 73,
   "metadata": {},
   "outputs": [
    {
     "data": {
      "text/plain": [
       "167783"
      ]
     },
     "execution_count": 73,
     "metadata": {},
     "output_type": "execute_result"
    }
   ],
   "source": [
    "len(unique_url_values)"
   ]
  },
  {
   "cell_type": "code",
   "execution_count": 36,
   "metadata": {},
   "outputs": [
    {
     "name": "stdout",
     "output_type": "stream",
     "text": [
      "{1296384, 4796418, 1009668, 4101, 7780362, 65547, 11782156, 13619220, 1601558, 1290266, 2435099, 7763998, 12726303, 4313124, 4124709, 2207788, 6369324, 11671598, 1417260, 14671923, 6946869, 8615989, 7737399, 2596923, 6113340, 4419649, 659522, 6242372, 8994885, 69, 1517642, 13693003, 3375182, 8366159, 10917968, 3088466, 5386323, 1896530, 7716949, 2336853, 434265, 2934877, 6584414, 3227742, 6873187, 1771619, 2740323, 12830822, 510054, 9760872, 8294504, 3680369, 8767606, 139383, 1468536, 2994297, 2844791, 2359422, 12783742, 1034368, 200833, 1675394, 284803, 9525377, 13305991, 954504, 3987593, 1486987, 8605838, 6080660, 458903, 2484383, 3438751, 43169, 7833767, 3082409, 2625706, 13854891, 7710890, 196781, 2484395, 2181290, 1478830, 4176041, 139442, 4675763, 1816756, 2404531, 6879414, 1958069, 2756792, 3285176, 221371, 10367164, 1609921, 6394052, 1818822, 6670535, 5097670, 1882312, 4362441, 11026632, 6176971, 6641862, 82119, 174288, 2726097, 7839953, 127185, 13310164, 407769, 2734298, 10057948, 4774109, 1878236, 8923359, 12466397, 8888545, 1493217, 80101, 4886757, 13469928, 2232554, 2461936, 12341489, 1818866, 2584821, 80118, 3655927, 1384698, 3275003, 1812737, 2232580, 3537163, 1343759, 2083091, 2795796, 7823641, 4059417, 5486878, 4634912, 3303712, 2576672, 13338915, 776483, 1986853, 2998566, 147750, 203045, 3576105, 6572322, 1593645, 848177, 4403506, 71988, 8276277, 2358, 12974391, 2033976, 3191096, 2369854, 12988738, 8378691, 8974660, 2748745, 2568526, 14039377, 4434, 12200275, 11925846, 3029335, 10027353, 790873, 6891868, 3709276, 8280412, 854368, 2247009, 2898275, 2941284, 1956196, 1853801, 13779308, 1732973, 5325166, 9613679, 10613102, 8372595, 5273972, 96628, 2853238, 1081719, 860533, 13668730, 14018941, 7313790, 6963583, 5986686, 217473, 12751232, 2390403, 10705287, 334217, 6961546, 4233611, 3432842, 16786, 1048979, 9732499, 5607830, 8993175, 1847703, 6275481, 584087, 2122136, 3377565, 14176671, 244128, 5421474, 903587, 6125990, 1481127, 2175400, 9091497, 68009, 848299, 2675116, 13832621, 10815918, 3297710, 8747440, 13840816, 2445737, 4057523, 7967148, 1655221, 993718, 6582710, 645560, 653747, 4006330, 971189, 6676926, 3301823, 2255294, 651716, 43462, 3381703, 2582984, 127432, 4852170, 5407179, 866771, 9232852, 7430612, 340439, 13099479, 3918301, 1737182, 90592, 3471841, 158177, 2183651, 141794, 9918949, 14215655, 709097, 3832297, 6162923, 9484782, 2333172, 240120, 1796601, 13265402, 8972795, 6617597, 4938238, 2587134, 3021311, 14320131, 4198916, 3559941, 11002376, 13705737, 6969866, 7723530, 12747276, 3820045, 6064655, 1290773, 12747285, 11917849, 9959962, 7123482, 1520156, 604703, 4518433, 1749538, 68129, 3545637, 10981926, 9904679, 3867177, 5358123, 7029291, 13406764, 13929011, 13564468, 4536750, 2419254, 2282039, 897592, 3324472, 1055288, 3668539, 7965241, 1356350, 195134, 1040960, 5255745, 1616449, 1342020, 14244423, 3289673, 2486861, 15481421, 6793807, 277072, 9359950, 4133458, 80466, 4868692, 1905237, 971350, 3316311, 2357848, 6216280, 891479, 8299100, 9529949, 8170078, 7619393, 8446566, 4446822, 2974312, 854633, 11606634, 13279851, 1663599, 2060912, 7178871, 2699896, 1477239, 13560443, 7197311, 4752000, 6107778, 1737346, 9335429, 4428422, 6296204, 10726030, 13859471, 12563086, 7629457, 3672721, 5032597, 1708694, 11258520, 3691161, 3558042, 11889307, 4399772, 9484963, 3664548, 11954853, 6828710, 8899244, 11215534, 260784, 4045488, 12092082, 4321971, 12694193, 7822006, 283321, 2474684, 5063358, 3351234, 5337796, 6044358, 3472071, 1063624, 1491659, 7580364, 185036, 2149070, 942798, 715469, 11555239, 4131540, 6591189, 885462, 11737814, 9937628, 367324, 336611, 1069797, 3916526, 2226932, 12309239, 5202682, 8221442, 1760006, 846598, 13165320, 12428041, 342794, 430859, 12913419, 7045897, 6361870, 10210063, 355088, 875281, 1676051, 279317, 4997910, 3736342, 9280286, 5929760, 5671712, 9691938, 3824420, 1458980, 863013, 4264744, 11330346, 1362730, 1413935, 3347250, 7957303, 1368888, 5507899, 2218816, 6400833, 5964610, 10099521, 3445572, 371523, 1739586, 3799875, 7017288, 2474825, 2171721, 9345869, 6892365, 1041230, 4905815, 7555928, 4727641, 2909018, 7099226, 1706844, 5170013, 7181149, 14052192, 6724449, 9093986, 519009, 6966117, 732008, 1530732, 3060590, 525168, 3232625, 10312573, 9313150, 2464640, 4457345, 6601602, 504709, 7998342, 1907590, 3748741, 2497422, 3517326, 3951504, 2255761, 983950, 1035156, 6396824, 1731481, 10122140, 4969375, 1682336, 150436, 6091689, 2020266, 2636715, 12753836, 9157551, 6532016, 8549297, 338866, 4350897, 2479025, 777141, 2587574, 12645302, 2237368, 977853, 10562495, 8588224, 9286593, 12202944, 3701695, 1412034, 8799177, 6505421, 8438734, 10982349, 7801809, 4264913, 1377236, 4998101, 3509206, 5346265, 10779611, 7551966, 74718, 2368480, 2071522, 56291, 9896935, 4439016, 136171, 9571309, 1956847, 5635059, 8467445, 1534965, 762872, 5000185, 2849785, 11258873, 2159610, 6716410, 8621055, 8453120, 824320, 433157, 1725447, 508935, 2595849, 56331, 10099726, 5839886, 2915343, 3021842, 9198615, 12080152, 9225240, 140314, 9815069, 2831390, 3908642, 8627235, 1598505, 7513131, 7324715, 2102320, 12362801, 13657138, 2894897, 764981, 1891382, 14185532, 14394432, 3841089, 5850177, 10183747, 8875079, 3320904, 8000584, 2661450, 556109, 7748686, 1958991, 5197, 8936532, 9882712, 519257, 6468697, 3089500, 4164701, 2155614, 14111843, 429155, 5946470, 3325031, 10888294, 11777131, 9622636, 775277, 498804, 14204020, 7302262, 5278840, 1066105, 14320047, 3738748, 5971071, 6796415, 4318337, 7228559, 14066832, 2868369, 1295505, 797841, 3069074, 1541269, 4009109, 2774168, 8670360, 9632922, 13702299, 2649245, 8582302, 11992223, 10808479, 13005985, 126114, 5252259, 4668578, 13468836, 2794662, 1676449, 58536, 5268649, 2600099, 324779, 11314348, 2016429, 9378990, 12555443, 6493363, 6069440, 4979907, 7178673, 3439813, 1670340, 13577416, 95439, 337104, 7072978, 437459, 7183572, 12049619, 5547218, 9051351, 6272219, 7285980, 1912029, 804068, 50404, 8070374, 517351, 1707239, 9991401, 1055977, 2145516, 12649708, 2594030, 838899, 7795957, 5979382, 7122167, 12074235, 10841339, 3704065, 14779650, 3362051, 4496645, 10943750, 5453063, 5242117, 3992841, 2692363, 4973835, 431375, 7892240, 4832531, 4066580, 14370069, 10568980, 2669847, 1086745, 304412, 13681949, 1428766, 5180701, 5106976, 4363552, 2692384, 6223138, 5346596, 1932580, 1049894, 6286628, 3616044, 3743021, 2719026, 4615477, 2104631, 4025656, 11326778, 13831483, 9985340, 1295675, 212295, 8107339, 419148, 14255438, 4443471, 3808596, 13653, 3091798, 982359, 3556695, 12406103, 5727574, 4390235, 8994138, 804189, 12537176, 1860957, 1483178, 13389154, 947554, 791908, 4836713, 9655659, 11709807, 4203888, 10177904, 13276532, 12911993, 478585, 1820027, 3235195, 6479229, 4535678, 9010559, 8535425, 159106, 8557955, 1340801, 9422215, 8320391, 8891785, 14544270, 5641621, 9008533, 109975, 8306072, 2076057, 7654809, 114073, 4668828, 10198429, 8349084, 7404960, 28064, 7374244, 7038373, 14214568, 5035433, 11822506, 2719148, 10423727, 8785331, 9956787, 15326644, 9356728, 7493049, 1861050, 5107134, 2209215, 13372869, 2155974, 753100, 7837132, 4584909, 10503628, 7927251, 4253141, 4476375, 280024, 34269, 1668573, 4226525, 4330976, 7382493, 10481122, 789985, 11255266, 5481957, 7996903, 1998312, 11494889, 6800874, 4177391, 3411439, 10647023, 3769844, 8369655, 9838072, 6342136, 3689976, 7284222, 4146688, 3083777, 9522694, 7734791, 1412615, 2246153, 9299466, 2248203, 2315790, 1023513, 13149722, 6725147, 3210780, 11183643, 5551642, 226851, 12854825, 1603116, 9221677, 9121329, 1842744, 6229563, 3700284, 6055485, 6919744, 7231044, 745030, 5703, 2145864, 3702346, 851531, 4161100, 14122572, 13581902, 7790158, 2487889, 12615249, 5629523, 7470676, 1939033, 7425627, 722528, 3167841, 3417701, 12254822, 12064359, 843368, 118377, 4357738, 3365457, 69228, 3327597, 13219437, 2649716, 3085942, 7743096, 4007546, 6766202, 4161148, 3317373, 1470078, 14083711, 4341373, 3268225, 1721981, 1058434, 2612870, 1367691, 9336459, 14200462, 6579857, 4564626, 738963, 681624, 1543833, 6299290, 5095069, 1582750, 5525152, 2805418, 6194859, 3905196, 7696046, 10536623, 1423027, 5072565, 4572860, 2535101, 9508545, 4003530, 7898832, 5936849, 4296404, 5844, 9481945, 5086939, 9295581, 13303518, 3808, 386784, 3725029, 4671209, 2119401, 10344170, 818925, 1586927, 22260, 6883061, 5746423, 7470845, 4054786, 3122949, 11675398, 907015, 2856716, 8281868, 3272464, 5435152, 1638160, 12175120, 6422295, 9889560, 104216, 182042, 2887449, 9484057, 1609501, 3262231, 993057, 1779490, 1314596, 171814, 12908326, 9416488, 6788906, 6539051, 1052460, 6606636, 6000431, 5852978, 501555, 12635957, 3055418, 10927933, 2717503, 3993407, 10821441, 3288898, 331586, 11394885, 4654918, 229190, 65350, 11784007, 1429328, 6946645, 843607, 751448, 81753, 2174810, 3135320, 5539676, 6721368, 9338715, 15279967, 5298016, 4583265, 857962, 6307695, 8353647, 12420980, 1367925, 1320822, 3041144, 3714939, 1038205, 5836671, 1875839, 2482049, 5164930, 757635, 11825035, 6692748, 5554061, 2344846, 1060751, 10028940, 4026257, 8662931, 10014612, 12087190, 9275291, 3477404, 538524, 1599388, 2887587, 3469220, 890789, 11884453, 4693937, 126898, 10719156, 3575734, 10921915, 8765371, 7784382, 9656255, 8632256, 3276737, 6776771, 5605316, 8484809, 1589193, 4325326, 1593295, 5306319, 2115539, 13369299, 196571, 368603, 5210077, 5173214, 5269471, 1329120, 7516129, 432096, 4595683, 2164708, 1333222, 1957863, 13088747, 2738159, 2228208, 6502384, 9107441, 11421681, 8280058, 4433918}\n",
      "43\n"
     ]
    }
   ],
   "source": [
    "print(unique_user_values)\n",
    "print(len(unique_sport_values))"
   ]
  },
  {
   "cell_type": "code",
   "execution_count": 54,
   "metadata": {},
   "outputs": [
    {
     "name": "stdout",
     "output_type": "stream",
     "text": [
      "         id\n",
      "userId     \n",
      "69       78\n",
      "2358    422\n",
      "3808    170\n",
      "4101     63\n",
      "4434    486\n",
      "           id\n",
      "userId       \n",
      "2734298  1301\n",
      "        id\n",
      "userId    \n",
      "645560   1\n",
      "100.0\n"
     ]
    }
   ],
   "source": [
    "#pd.set_option('display.max_rows', None)\n",
    "temp=(work_out_df[['userId',\"id\"]].groupby('userId').count())\n",
    "print(temp.head())\n",
    "print(temp.iloc[[temp[\"id\"].argmax()]])\n",
    "\n",
    "print(temp.iloc[[temp[\"id\"].argmin()]])\n",
    "\n",
    "print(temp[\"id\"].median())"
   ]
  },
  {
   "cell_type": "code",
   "execution_count": 57,
   "metadata": {},
   "outputs": [
    {
     "data": {
      "text/html": [
       "<div>\n",
       "<style scoped>\n",
       "    .dataframe tbody tr th:only-of-type {\n",
       "        vertical-align: middle;\n",
       "    }\n",
       "\n",
       "    .dataframe tbody tr th {\n",
       "        vertical-align: top;\n",
       "    }\n",
       "\n",
       "    .dataframe thead th {\n",
       "        text-align: right;\n",
       "    }\n",
       "</style>\n",
       "<table border=\"1\" class=\"dataframe\">\n",
       "  <thead>\n",
       "    <tr style=\"text-align: right;\">\n",
       "      <th></th>\n",
       "      <th>sport</th>\n",
       "      <th>id</th>\n",
       "      <th>userId</th>\n",
       "    </tr>\n",
       "  </thead>\n",
       "  <tbody>\n",
       "    <tr>\n",
       "      <th>72453</th>\n",
       "      <td>fitness walking</td>\n",
       "      <td>653186465</td>\n",
       "      <td>2734298</td>\n",
       "    </tr>\n",
       "    <tr>\n",
       "      <th>72454</th>\n",
       "      <td>bike</td>\n",
       "      <td>654210823</td>\n",
       "      <td>2734298</td>\n",
       "    </tr>\n",
       "    <tr>\n",
       "      <th>72455</th>\n",
       "      <td>bike</td>\n",
       "      <td>649734078</td>\n",
       "      <td>2734298</td>\n",
       "    </tr>\n",
       "    <tr>\n",
       "      <th>72456</th>\n",
       "      <td>bike</td>\n",
       "      <td>649371657</td>\n",
       "      <td>2734298</td>\n",
       "    </tr>\n",
       "    <tr>\n",
       "      <th>72457</th>\n",
       "      <td>fitness walking</td>\n",
       "      <td>649371318</td>\n",
       "      <td>2734298</td>\n",
       "    </tr>\n",
       "    <tr>\n",
       "      <th>...</th>\n",
       "      <td>...</td>\n",
       "      <td>...</td>\n",
       "      <td>...</td>\n",
       "    </tr>\n",
       "    <tr>\n",
       "      <th>73749</th>\n",
       "      <td>bike (transport)</td>\n",
       "      <td>43271109</td>\n",
       "      <td>2734298</td>\n",
       "    </tr>\n",
       "    <tr>\n",
       "      <th>73750</th>\n",
       "      <td>mountain bike</td>\n",
       "      <td>43271126</td>\n",
       "      <td>2734298</td>\n",
       "    </tr>\n",
       "    <tr>\n",
       "      <th>73751</th>\n",
       "      <td>bike (transport)</td>\n",
       "      <td>43271151</td>\n",
       "      <td>2734298</td>\n",
       "    </tr>\n",
       "    <tr>\n",
       "      <th>73752</th>\n",
       "      <td>bike (transport)</td>\n",
       "      <td>43271165</td>\n",
       "      <td>2734298</td>\n",
       "    </tr>\n",
       "    <tr>\n",
       "      <th>73753</th>\n",
       "      <td>bike (transport)</td>\n",
       "      <td>43271177</td>\n",
       "      <td>2734298</td>\n",
       "    </tr>\n",
       "  </tbody>\n",
       "</table>\n",
       "<p>1301 rows × 3 columns</p>\n",
       "</div>"
      ],
      "text/plain": [
       "                  sport         id   userId\n",
       "72453   fitness walking  653186465  2734298\n",
       "72454              bike  654210823  2734298\n",
       "72455              bike  649734078  2734298\n",
       "72456              bike  649371657  2734298\n",
       "72457   fitness walking  649371318  2734298\n",
       "...                 ...        ...      ...\n",
       "73749  bike (transport)   43271109  2734298\n",
       "73750     mountain bike   43271126  2734298\n",
       "73751  bike (transport)   43271151  2734298\n",
       "73752  bike (transport)   43271165  2734298\n",
       "73753  bike (transport)   43271177  2734298\n",
       "\n",
       "[1301 rows x 3 columns]"
      ]
     },
     "execution_count": 57,
     "metadata": {},
     "output_type": "execute_result"
    }
   ],
   "source": [
    "work_out_df.loc[work_out_df['userId'] ==2734298 ]"
   ]
  },
  {
   "cell_type": "code",
   "execution_count": 58,
   "metadata": {},
   "outputs": [
    {
     "ename": "JSONDecodeError",
     "evalue": "Expecting value: line 1 column 1 (char 0)",
     "output_type": "error",
     "traceback": [
      "\u001b[0;31m---------------------------------------------------------------------------\u001b[0m",
      "\u001b[0;31mJSONDecodeError\u001b[0m                           Traceback (most recent call last)",
      "\u001b[0;32m<ipython-input-58-86db4eaf7a10>\u001b[0m in \u001b[0;36m<module>\u001b[0;34m\u001b[0m\n\u001b[0;32m----> 1\u001b[0;31m \u001b[0mdata\u001b[0m \u001b[0;34m=\u001b[0m \u001b[0mjson\u001b[0m\u001b[0;34m.\u001b[0m\u001b[0mloads\u001b[0m\u001b[0;34m(\u001b[0m\u001b[0;34m\"Endomodo/endomondoHR_proper.json\"\u001b[0m\u001b[0;34m)\u001b[0m\u001b[0;34m\u001b[0m\u001b[0;34m\u001b[0m\u001b[0m\n\u001b[0m",
      "\u001b[0;32m/usr/lib/python3.8/json/__init__.py\u001b[0m in \u001b[0;36mloads\u001b[0;34m(s, cls, object_hook, parse_float, parse_int, parse_constant, object_pairs_hook, **kw)\u001b[0m\n\u001b[1;32m    355\u001b[0m             \u001b[0mparse_int\u001b[0m \u001b[0;32mis\u001b[0m \u001b[0;32mNone\u001b[0m \u001b[0;32mand\u001b[0m \u001b[0mparse_float\u001b[0m \u001b[0;32mis\u001b[0m \u001b[0;32mNone\u001b[0m \u001b[0;32mand\u001b[0m\u001b[0;34m\u001b[0m\u001b[0;34m\u001b[0m\u001b[0m\n\u001b[1;32m    356\u001b[0m             parse_constant is None and object_pairs_hook is None and not kw):\n\u001b[0;32m--> 357\u001b[0;31m         \u001b[0;32mreturn\u001b[0m \u001b[0m_default_decoder\u001b[0m\u001b[0;34m.\u001b[0m\u001b[0mdecode\u001b[0m\u001b[0;34m(\u001b[0m\u001b[0ms\u001b[0m\u001b[0;34m)\u001b[0m\u001b[0;34m\u001b[0m\u001b[0;34m\u001b[0m\u001b[0m\n\u001b[0m\u001b[1;32m    358\u001b[0m     \u001b[0;32mif\u001b[0m \u001b[0mcls\u001b[0m \u001b[0;32mis\u001b[0m \u001b[0;32mNone\u001b[0m\u001b[0;34m:\u001b[0m\u001b[0;34m\u001b[0m\u001b[0;34m\u001b[0m\u001b[0m\n\u001b[1;32m    359\u001b[0m         \u001b[0mcls\u001b[0m \u001b[0;34m=\u001b[0m \u001b[0mJSONDecoder\u001b[0m\u001b[0;34m\u001b[0m\u001b[0;34m\u001b[0m\u001b[0m\n",
      "\u001b[0;32m/usr/lib/python3.8/json/decoder.py\u001b[0m in \u001b[0;36mdecode\u001b[0;34m(self, s, _w)\u001b[0m\n\u001b[1;32m    335\u001b[0m \u001b[0;34m\u001b[0m\u001b[0m\n\u001b[1;32m    336\u001b[0m         \"\"\"\n\u001b[0;32m--> 337\u001b[0;31m         \u001b[0mobj\u001b[0m\u001b[0;34m,\u001b[0m \u001b[0mend\u001b[0m \u001b[0;34m=\u001b[0m \u001b[0mself\u001b[0m\u001b[0;34m.\u001b[0m\u001b[0mraw_decode\u001b[0m\u001b[0;34m(\u001b[0m\u001b[0ms\u001b[0m\u001b[0;34m,\u001b[0m \u001b[0midx\u001b[0m\u001b[0;34m=\u001b[0m\u001b[0m_w\u001b[0m\u001b[0;34m(\u001b[0m\u001b[0ms\u001b[0m\u001b[0;34m,\u001b[0m \u001b[0;36m0\u001b[0m\u001b[0;34m)\u001b[0m\u001b[0;34m.\u001b[0m\u001b[0mend\u001b[0m\u001b[0;34m(\u001b[0m\u001b[0;34m)\u001b[0m\u001b[0;34m)\u001b[0m\u001b[0;34m\u001b[0m\u001b[0;34m\u001b[0m\u001b[0m\n\u001b[0m\u001b[1;32m    338\u001b[0m         \u001b[0mend\u001b[0m \u001b[0;34m=\u001b[0m \u001b[0m_w\u001b[0m\u001b[0;34m(\u001b[0m\u001b[0ms\u001b[0m\u001b[0;34m,\u001b[0m \u001b[0mend\u001b[0m\u001b[0;34m)\u001b[0m\u001b[0;34m.\u001b[0m\u001b[0mend\u001b[0m\u001b[0;34m(\u001b[0m\u001b[0;34m)\u001b[0m\u001b[0;34m\u001b[0m\u001b[0;34m\u001b[0m\u001b[0m\n\u001b[1;32m    339\u001b[0m         \u001b[0;32mif\u001b[0m \u001b[0mend\u001b[0m \u001b[0;34m!=\u001b[0m \u001b[0mlen\u001b[0m\u001b[0;34m(\u001b[0m\u001b[0ms\u001b[0m\u001b[0;34m)\u001b[0m\u001b[0;34m:\u001b[0m\u001b[0;34m\u001b[0m\u001b[0;34m\u001b[0m\u001b[0m\n",
      "\u001b[0;32m/usr/lib/python3.8/json/decoder.py\u001b[0m in \u001b[0;36mraw_decode\u001b[0;34m(self, s, idx)\u001b[0m\n\u001b[1;32m    353\u001b[0m             \u001b[0mobj\u001b[0m\u001b[0;34m,\u001b[0m \u001b[0mend\u001b[0m \u001b[0;34m=\u001b[0m \u001b[0mself\u001b[0m\u001b[0;34m.\u001b[0m\u001b[0mscan_once\u001b[0m\u001b[0;34m(\u001b[0m\u001b[0ms\u001b[0m\u001b[0;34m,\u001b[0m \u001b[0midx\u001b[0m\u001b[0;34m)\u001b[0m\u001b[0;34m\u001b[0m\u001b[0;34m\u001b[0m\u001b[0m\n\u001b[1;32m    354\u001b[0m         \u001b[0;32mexcept\u001b[0m \u001b[0mStopIteration\u001b[0m \u001b[0;32mas\u001b[0m \u001b[0merr\u001b[0m\u001b[0;34m:\u001b[0m\u001b[0;34m\u001b[0m\u001b[0;34m\u001b[0m\u001b[0m\n\u001b[0;32m--> 355\u001b[0;31m             \u001b[0;32mraise\u001b[0m \u001b[0mJSONDecodeError\u001b[0m\u001b[0;34m(\u001b[0m\u001b[0;34m\"Expecting value\"\u001b[0m\u001b[0;34m,\u001b[0m \u001b[0ms\u001b[0m\u001b[0;34m,\u001b[0m \u001b[0merr\u001b[0m\u001b[0;34m.\u001b[0m\u001b[0mvalue\u001b[0m\u001b[0;34m)\u001b[0m \u001b[0;32mfrom\u001b[0m \u001b[0;32mNone\u001b[0m\u001b[0;34m\u001b[0m\u001b[0;34m\u001b[0m\u001b[0m\n\u001b[0m\u001b[1;32m    356\u001b[0m         \u001b[0;32mreturn\u001b[0m \u001b[0mobj\u001b[0m\u001b[0;34m,\u001b[0m \u001b[0mend\u001b[0m\u001b[0;34m\u001b[0m\u001b[0;34m\u001b[0m\u001b[0m\n",
      "\u001b[0;31mJSONDecodeError\u001b[0m: Expecting value: line 1 column 1 (char 0)"
     ]
    }
   ],
   "source": [
    "data = json.loads(\"Endomodo/endomondoHR_proper.json\")"
   ]
  },
  {
   "cell_type": "code",
   "execution_count": 12,
   "metadata": {},
   "outputs": [
    {
     "ename": "AttributeError",
     "evalue": "'list' object has no attribute 'replace'",
     "output_type": "error",
     "traceback": [
      "\u001b[0;31m---------------------------------------------------------------------------\u001b[0m",
      "\u001b[0;31mAttributeError\u001b[0m                            Traceback (most recent call last)",
      "\u001b[0;32m<ipython-input-12-ca5bcc9d1395>\u001b[0m in \u001b[0;36m<module>\u001b[0;34m\u001b[0m\n\u001b[1;32m      1\u001b[0m \u001b[0;32mwith\u001b[0m \u001b[0mopen\u001b[0m\u001b[0;34m(\u001b[0m\u001b[0;34m\"Endomodo/endomondoHR_proper.json\"\u001b[0m\u001b[0;34m,\u001b[0m\u001b[0;34m'rb'\u001b[0m\u001b[0;34m)\u001b[0m \u001b[0;32mas\u001b[0m \u001b[0mjson_file\u001b[0m\u001b[0;34m:\u001b[0m\u001b[0;34m\u001b[0m\u001b[0;34m\u001b[0m\u001b[0m\n\u001b[1;32m      2\u001b[0m     \u001b[0mdata\u001b[0m \u001b[0;34m=\u001b[0m \u001b[0mjson_file\u001b[0m\u001b[0;34m.\u001b[0m\u001b[0mreadlines\u001b[0m\u001b[0;34m(\u001b[0m\u001b[0;34m)\u001b[0m\u001b[0;34m\u001b[0m\u001b[0;34m\u001b[0m\u001b[0m\n\u001b[0;32m----> 3\u001b[0;31m     \u001b[0mdata\u001b[0m \u001b[0;34m=\u001b[0m \u001b[0mdata\u001b[0m\u001b[0;34m.\u001b[0m\u001b[0mreplace\u001b[0m\u001b[0;34m(\u001b[0m\u001b[0;34m\"\\'\"\u001b[0m\u001b[0;34m,\u001b[0m \u001b[0;34m\"\\\"\"\u001b[0m\u001b[0;34m)\u001b[0m\u001b[0;34m\u001b[0m\u001b[0;34m\u001b[0m\u001b[0m\n\u001b[0m\u001b[1;32m      4\u001b[0m     \u001b[0;31m# this line below may take at least 8-10 minutes of processing for 4-5 million rows. It converts all strings in list to actual json objects.\u001b[0m\u001b[0;34m\u001b[0m\u001b[0;34m\u001b[0m\u001b[0;34m\u001b[0m\u001b[0m\n\u001b[1;32m      5\u001b[0m     \u001b[0mprint\u001b[0m\u001b[0;34m(\u001b[0m\u001b[0mdata\u001b[0m\u001b[0;34m)\u001b[0m\u001b[0;34m\u001b[0m\u001b[0;34m\u001b[0m\u001b[0m\n",
      "\u001b[0;31mAttributeError\u001b[0m: 'list' object has no attribute 'replace'"
     ]
    }
   ],
   "source": [
    "with open(\"Endomodo/endomondoHR_proper.json\",'rb') as json_file:      \n",
    "    data = json_file.readlines()\n",
    "    data = data.replace(\"\\'\", \"\\\"\")\n",
    "    # this line below may take at least 8-10 minutes of processing for 4-5 million rows. It converts all strings in list to actual json objects.\n",
    "    print(data)\n",
    "    data = list(map(json.loads, data)) \n",
    "#data = json.load(open(\"Endomodo/processed_endomondoHR_proper.npy\", \"r\"))"
   ]
  },
  {
   "cell_type": "code",
   "execution_count": null,
   "metadata": {
    "collapsed": true
   },
   "outputs": [],
   "source": [
    "arr = np.memmap(\"Endomodo/processed_endomondoHR_proper.npy\",  mode='r'\n",
    ")"
   ]
  },
  {
   "cell_type": "code",
   "execution_count": null,
   "metadata": {
    "collapsed": true
   },
   "outputs": [],
   "source": [
    "print(arr[100])"
   ]
  },
  {
   "cell_type": "code",
   "execution_count": null,
   "metadata": {
    "collapsed": true
   },
   "outputs": [],
   "source": [
    "with open(\"Endomondo/\") as json_file:      \n",
    "    data = json_file.readlines()\n",
    "    # this line below may take at least 8-10 minutes of processing for 4-5 million rows. It converts all strings in list to actual json objects. \n",
    "    data = list(map(json.loads, data)) \n",
    "\n",
    "pd.DataFrame(data)"
   ]
  },
  {
   "cell_type": "code",
   "execution_count": null,
   "metadata": {
    "collapsed": true
   },
   "outputs": [],
   "source": [
    "df = pd.read_csv(\"\", encoding='latin1',delimiter = \"\\t\", header=None, names=[\"User ID\", \"Venue ID\", \"UTC Time\", \"Timezone offset\"])"
   ]
  },
  {
   "cell_type": "code",
   "execution_count": null,
   "metadata": {
    "collapsed": true
   },
   "outputs": [],
   "source": [
    "df"
   ]
  },
  {
   "cell_type": "code",
   "execution_count": null,
   "metadata": {
    "collapsed": true
   },
   "outputs": [],
   "source": [
    "df.dtypes"
   ]
  },
  {
   "cell_type": "code",
   "execution_count": null,
   "metadata": {
    "collapsed": true
   },
   "outputs": [],
   "source": [
    "print(df[\"Venue ID\"].unique())\n",
    "print(df[\"Venue ID\"].nunique())"
   ]
  },
  {
   "cell_type": "code",
   "execution_count": null,
   "metadata": {
    "collapsed": true
   },
   "outputs": [],
   "source": [
    "print(df[\"User ID\"].nunique())"
   ]
  },
  {
   "cell_type": "code",
   "execution_count": null,
   "metadata": {
    "collapsed": true
   },
   "outputs": [],
   "source": [
    "df['UTC Time']=pd.to_datetime(df['UTC Time'], errors=\"coerce\", infer_datetime_format=True)"
   ]
  },
  {
   "cell_type": "code",
   "execution_count": null,
   "metadata": {
    "collapsed": true
   },
   "outputs": [],
   "source": [
    "np.sort(df['User ID'].unique())"
   ]
  },
  {
   "cell_type": "code",
   "execution_count": null,
   "metadata": {
    "collapsed": true
   },
   "outputs": [],
   "source": [
    "df['User ID']"
   ]
  },
  {
   "cell_type": "code",
   "execution_count": null,
   "metadata": {
    "collapsed": true
   },
   "outputs": [],
   "source": [
    "pd.set_option('display.max_rows', None)\n",
    "temp=(df[['User ID',\"Venue ID\"]].groupby('User ID').count())\n",
    "print(temp.head())\n",
    "print(temp.iloc[[temp[\"Venue ID\"].argmax()]])\n",
    "\n",
    "print(temp.iloc[[temp[\"Venue ID\"].argmin()]])\n",
    "\n",
    "print(temp[\"Venue ID\"].median())"
   ]
  },
  {
   "cell_type": "code",
   "execution_count": null,
   "metadata": {
    "collapsed": true
   },
   "outputs": [],
   "source": [
    "temp=df[['User ID','UTC Time']]\n",
    "temp['diff']=temp.sort_values(['UTC Time']).groupby('User ID')['UTC Time'].diff()\n",
    "#diff=temp.sort_values(['UTC Time']).groupby('User ID')['UTC Time'].diff()\n",
    "#print(temp.sort_values(['UTC Time']).groupby('User ID')['UTC Time'].diff().head())\n",
    "#temp=temp['UTC Time'].diff()\n",
    "#temp.apply(print)\n",
    "#temp['UTC Time'].diff()\n",
    "temp = temp.dropna(subset=['diff'])\n",
    "#print(temp.head())\n",
    "#print(temp.shape)\n",
    "print(temp['diff'].argmin())\n",
    "print(temp['diff'].min())\n",
    "print(temp['diff'].argmax())\n",
    "print(temp['diff'].max())\n",
    "print(temp['diff'].median())\n"
   ]
  },
  {
   "cell_type": "code",
   "execution_count": null,
   "metadata": {
    "collapsed": true
   },
   "outputs": [],
   "source": [
    "for i in df[\"User ID\"].unique():\n",
    "    #print(df.loc[df.Case==i])\n",
    "    print(df.loc[df[\"User ID\"]==i][[\"Venue ID\"]].duplicated().any())"
   ]
  },
  {
   "cell_type": "code",
   "execution_count": null,
   "metadata": {
    "collapsed": true
   },
   "outputs": [],
   "source": []
  },
  {
   "cell_type": "code",
   "execution_count": null,
   "metadata": {
    "collapsed": true
   },
   "outputs": [],
   "source": []
  },
  {
   "cell_type": "code",
   "execution_count": 7,
   "metadata": {
    "collapsed": true
   },
   "outputs": [
    {
     "name": "stdout",
     "output_type": "stream",
     "text": [
      "Defaulting to user installation because normal site-packages is not writeable\n",
      "Requirement already satisfied: ijson in /home/zinat/.local/lib/python3.6/site-packages (3.1.4)\n"
     ]
    }
   ],
   "source": [
    "! pip3 install ijson"
   ]
  }
 ],
 "metadata": {
  "kernelspec": {
   "display_name": "Python 3.8.5 64-bit",
   "language": "python",
   "name": "python38564bit8e74114c351544819777b51aa88f0aa0"
  },
  "language_info": {
   "codemirror_mode": {
    "name": "ipython",
    "version": 3
   },
   "file_extension": ".py",
   "mimetype": "text/x-python",
   "name": "python",
   "nbconvert_exporter": "python",
   "pygments_lexer": "ipython3",
   "version": "3.8.8"
  }
 },
 "nbformat": 4,
 "nbformat_minor": 2
}
