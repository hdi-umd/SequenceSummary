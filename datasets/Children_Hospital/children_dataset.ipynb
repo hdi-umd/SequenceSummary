{
 "cells": [
  {
   "cell_type": "code",
   "execution_count": null,
   "metadata": {},
   "outputs": [],
   "source": [
    "import pandas as pd\n"
   ]
  },
  {
   "cell_type": "code",
   "execution_count": null,
   "metadata": {},
   "outputs": [],
   "source": [
    "#making pandas dataframe from text with added headers\n",
    "#5th column on dataset is NULL everywhere so dropping that\n",
    "df = pd.read_csv('DND-ChildrensDemo-06-26-13.txt', delimiter = \"\\t\", header=None, names=[\"Case\", \"Event name\", \"Start\", \"End\",\"unknown\"])"
   ]
  },
  {
   "cell_type": "code",
   "execution_count": null,
   "metadata": {},
   "outputs": [],
   "source": [
    "#5th column on dataset is NULL everywhere so dropping that\n",
    "df=df.dropna(axis=\"columns\", how=\"all\")"
   ]
  },
  {
   "cell_type": "code",
   "execution_count": null,
   "metadata": {},
   "outputs": [],
   "source": [
    "df"
   ]
  },
  {
   "cell_type": "code",
   "execution_count": null,
   "metadata": {},
   "outputs": [],
   "source": [
    "df[df[\"End\"].notna()]"
   ]
  },
  {
   "cell_type": "code",
   "execution_count": null,
   "metadata": {},
   "outputs": [],
   "source": [
    "pd.set_option('display.max_rows', None)\n",
    "df[df[\"End\"].isna()]\n"
   ]
  },
  {
   "cell_type": "code",
   "execution_count": null,
   "metadata": {},
   "outputs": [],
   "source": [
    "df.dtypes"
   ]
  },
  {
   "cell_type": "code",
   "execution_count": null,
   "metadata": {},
   "outputs": [],
   "source": [
    "#Number of unique events\n",
    "print(df[\"Event name\"].unique())\n",
    "print(df[\"Event name\"].nunique())"
   ]
  },
  {
   "cell_type": "code",
   "execution_count": null,
   "metadata": {},
   "outputs": [],
   "source": []
  },
  {
   "cell_type": "code",
   "execution_count": null,
   "metadata": {},
   "outputs": [],
   "source": [
    "#Number of uniique patients\n",
    "print(df[\"Case\"].nunique())\n",
    "#df[df[\"Event name\"].isin(['airwaytime'])]"
   ]
  },
  {
   "cell_type": "code",
   "execution_count": null,
   "metadata": {},
   "outputs": [],
   "source": [
    "#count max min and median seq len\n",
    "pd.set_option('display.max_rows', None)\n",
    "temp=(df[['Case',\"Event name\"]].groupby('Case').count())\n",
    "print(temp)\n",
    "print(temp.iloc[[temp[\"Event name\"].argmax()]])\n",
    "\n",
    "print(temp.iloc[[temp[\"Event name\"].argmin()]])\n",
    "\n",
    "print(temp[\"Event name\"].median())"
   ]
  },
  {
   "cell_type": "code",
   "execution_count": null,
   "metadata": {},
   "outputs": [],
   "source": [
    "# for time interval\n",
    "temp=df.dropna(axis=\"rows\", how=\"any\")\n",
    "temp.shape\n",
    "temp['Start']=pd.to_datetime(temp['Start'])\n",
    "temp['End']=pd.to_datetime(temp['End'])"
   ]
  },
  {
   "cell_type": "code",
   "execution_count": null,
   "metadata": {},
   "outputs": [],
   "source": [
    "temp.dtypes"
   ]
  },
  {
   "cell_type": "code",
   "execution_count": null,
   "metadata": {},
   "outputs": [],
   "source": [
    "temp['diff']=(temp['End']-temp['Start']).dt.seconds\n",
    "print(temp.iloc[[temp['diff'].argmax()]])\n",
    "print(temp.iloc[[temp['diff'].argmin()]])\n",
    "print(temp['diff'].median())"
   ]
  },
  {
   "cell_type": "code",
   "execution_count": null,
   "metadata": {},
   "outputs": [],
   "source": [
    "for i in range(1,df[\"Case\"].nunique()+1):\n",
    "    #df.loc[df.Case==i]\n",
    "    print(df.loc[df.Case==i][[\"Event name\"]].duplicated().any())"
   ]
  }
 ],
 "metadata": {
  "kernelspec": {
   "display_name": "Python 3.8.5 64-bit",
   "language": "python",
   "name": "python38564bit8e74114c351544819777b51aa88f0aa0"
  },
  "language_info": {
   "codemirror_mode": {
    "name": "ipython",
    "version": 3
   },
   "file_extension": ".py",
   "mimetype": "text/x-python",
   "name": "python",
   "nbconvert_exporter": "python",
   "pygments_lexer": "ipython3",
   "version": "3.8.11"
  }
 },
 "nbformat": 4,
 "nbformat_minor": 2
}
