{
 "cells": [
  {
   "cell_type": "code",
   "execution_count": 157,
   "metadata": {},
   "outputs": [],
   "source": [
    "import numpy as np\n",
    "import pandas as pd"
   ]
  },
  {
   "cell_type": "code",
   "execution_count": 158,
   "metadata": {},
   "outputs": [],
   "source": [
    "df = pd.read_csv('Lekagul Sensor Data.csv', sep = ',')"
   ]
  },
  {
   "cell_type": "code",
   "execution_count": 159,
   "metadata": {},
   "outputs": [
    {
     "data": {
      "text/html": [
       "<div>\n",
       "<style scoped>\n",
       "    .dataframe tbody tr th:only-of-type {\n",
       "        vertical-align: middle;\n",
       "    }\n",
       "\n",
       "    .dataframe tbody tr th {\n",
       "        vertical-align: top;\n",
       "    }\n",
       "\n",
       "    .dataframe thead th {\n",
       "        text-align: right;\n",
       "    }\n",
       "</style>\n",
       "<table border=\"1\" class=\"dataframe\">\n",
       "  <thead>\n",
       "    <tr style=\"text-align: right;\">\n",
       "      <th></th>\n",
       "      <th>Timestamp</th>\n",
       "      <th>car-id</th>\n",
       "      <th>car-type</th>\n",
       "      <th>gate-name</th>\n",
       "    </tr>\n",
       "  </thead>\n",
       "  <tbody>\n",
       "    <tr>\n",
       "      <th>0</th>\n",
       "      <td>2015-05-01 00:43:28</td>\n",
       "      <td>20154301124328-262</td>\n",
       "      <td>4</td>\n",
       "      <td>entrance3</td>\n",
       "    </tr>\n",
       "    <tr>\n",
       "      <th>1</th>\n",
       "      <td>2015-05-01 01:03:48</td>\n",
       "      <td>20154301124328-262</td>\n",
       "      <td>4</td>\n",
       "      <td>general-gate1</td>\n",
       "    </tr>\n",
       "    <tr>\n",
       "      <th>2</th>\n",
       "      <td>2015-05-01 01:06:24</td>\n",
       "      <td>20154301124328-262</td>\n",
       "      <td>4</td>\n",
       "      <td>ranger-stop2</td>\n",
       "    </tr>\n",
       "    <tr>\n",
       "      <th>3</th>\n",
       "      <td>2015-05-01 01:09:25</td>\n",
       "      <td>20154301124328-262</td>\n",
       "      <td>4</td>\n",
       "      <td>ranger-stop0</td>\n",
       "    </tr>\n",
       "    <tr>\n",
       "      <th>4</th>\n",
       "      <td>2015-05-01 01:12:36</td>\n",
       "      <td>20154301124328-262</td>\n",
       "      <td>4</td>\n",
       "      <td>general-gate2</td>\n",
       "    </tr>\n",
       "    <tr>\n",
       "      <th>...</th>\n",
       "      <td>...</td>\n",
       "      <td>...</td>\n",
       "      <td>...</td>\n",
       "      <td>...</td>\n",
       "    </tr>\n",
       "    <tr>\n",
       "      <th>171472</th>\n",
       "      <td>2016-05-31 23:40:13</td>\n",
       "      <td>20161031111001-854</td>\n",
       "      <td>6</td>\n",
       "      <td>ranger-stop2</td>\n",
       "    </tr>\n",
       "    <tr>\n",
       "      <th>171473</th>\n",
       "      <td>2016-05-31 23:42:08</td>\n",
       "      <td>20165831105856-579</td>\n",
       "      <td>1</td>\n",
       "      <td>general-gate4</td>\n",
       "    </tr>\n",
       "    <tr>\n",
       "      <th>171474</th>\n",
       "      <td>2016-05-31 23:43:13</td>\n",
       "      <td>20161031111001-854</td>\n",
       "      <td>6</td>\n",
       "      <td>general-gate1</td>\n",
       "    </tr>\n",
       "    <tr>\n",
       "      <th>171475</th>\n",
       "      <td>2016-05-31 23:49:45</td>\n",
       "      <td>20165831105856-579</td>\n",
       "      <td>1</td>\n",
       "      <td>general-gate7</td>\n",
       "    </tr>\n",
       "    <tr>\n",
       "      <th>171476</th>\n",
       "      <td>2016-05-31 23:56:06</td>\n",
       "      <td>20161031111001-854</td>\n",
       "      <td>6</td>\n",
       "      <td>general-gate4</td>\n",
       "    </tr>\n",
       "  </tbody>\n",
       "</table>\n",
       "<p>171477 rows × 4 columns</p>\n",
       "</div>"
      ],
      "text/plain": [
       "                  Timestamp              car-id car-type      gate-name\n",
       "0       2015-05-01 00:43:28  20154301124328-262        4      entrance3\n",
       "1       2015-05-01 01:03:48  20154301124328-262        4  general-gate1\n",
       "2       2015-05-01 01:06:24  20154301124328-262        4   ranger-stop2\n",
       "3       2015-05-01 01:09:25  20154301124328-262        4   ranger-stop0\n",
       "4       2015-05-01 01:12:36  20154301124328-262        4  general-gate2\n",
       "...                     ...                 ...      ...            ...\n",
       "171472  2016-05-31 23:40:13  20161031111001-854        6   ranger-stop2\n",
       "171473  2016-05-31 23:42:08  20165831105856-579        1  general-gate4\n",
       "171474  2016-05-31 23:43:13  20161031111001-854        6  general-gate1\n",
       "171475  2016-05-31 23:49:45  20165831105856-579        1  general-gate7\n",
       "171476  2016-05-31 23:56:06  20161031111001-854        6  general-gate4\n",
       "\n",
       "[171477 rows x 4 columns]"
      ]
     },
     "execution_count": 159,
     "metadata": {},
     "output_type": "execute_result"
    }
   ],
   "source": [
    "df"
   ]
  },
  {
   "cell_type": "code",
   "execution_count": 160,
   "metadata": {},
   "outputs": [],
   "source": [
    "df[\"gate-name\"].replace(r'(entrance\\d*)' , 'entrance', regex=True, inplace=True)\n",
    "df[\"gate-name\"].replace(r'(general-gate\\d*)' , 'general gate', regex=True, inplace=True)\n",
    "df[\"gate-name\"].replace(r'(ranger-stop\\d*)' , 'ranger-stop', regex=True, inplace=True)\n",
    "df[\"gate-name\"].replace(r'(camping\\d*)' , 'camping', regex=True, inplace=True)\n",
    "df[\"gate-name\"].replace(r'(gate\\d*)' , 'gate', regex=True, inplace=True)\n",
    "\n"
   ]
  },
  {
   "cell_type": "code",
   "execution_count": 161,
   "metadata": {},
   "outputs": [
    {
     "data": {
      "text/html": [
       "<div>\n",
       "<style scoped>\n",
       "    .dataframe tbody tr th:only-of-type {\n",
       "        vertical-align: middle;\n",
       "    }\n",
       "\n",
       "    .dataframe tbody tr th {\n",
       "        vertical-align: top;\n",
       "    }\n",
       "\n",
       "    .dataframe thead th {\n",
       "        text-align: right;\n",
       "    }\n",
       "</style>\n",
       "<table border=\"1\" class=\"dataframe\">\n",
       "  <thead>\n",
       "    <tr style=\"text-align: right;\">\n",
       "      <th></th>\n",
       "      <th>car-id</th>\n",
       "      <th>gate-name</th>\n",
       "      <th>Timestamp</th>\n",
       "      <th>car-type</th>\n",
       "    </tr>\n",
       "  </thead>\n",
       "  <tbody>\n",
       "    <tr>\n",
       "      <th>0</th>\n",
       "      <td>20154301124328-262</td>\n",
       "      <td>entrance</td>\n",
       "      <td>2015-05-01 00:43:28</td>\n",
       "      <td>4</td>\n",
       "    </tr>\n",
       "    <tr>\n",
       "      <th>1</th>\n",
       "      <td>20154301124328-262</td>\n",
       "      <td>general gate</td>\n",
       "      <td>2015-05-01 01:03:48</td>\n",
       "      <td>4</td>\n",
       "    </tr>\n",
       "    <tr>\n",
       "      <th>2</th>\n",
       "      <td>20154301124328-262</td>\n",
       "      <td>ranger-stop</td>\n",
       "      <td>2015-05-01 01:06:24</td>\n",
       "      <td>4</td>\n",
       "    </tr>\n",
       "    <tr>\n",
       "      <th>3</th>\n",
       "      <td>20154301124328-262</td>\n",
       "      <td>ranger-stop</td>\n",
       "      <td>2015-05-01 01:09:25</td>\n",
       "      <td>4</td>\n",
       "    </tr>\n",
       "    <tr>\n",
       "      <th>4</th>\n",
       "      <td>20154301124328-262</td>\n",
       "      <td>general gate</td>\n",
       "      <td>2015-05-01 01:12:36</td>\n",
       "      <td>4</td>\n",
       "    </tr>\n",
       "    <tr>\n",
       "      <th>...</th>\n",
       "      <td>...</td>\n",
       "      <td>...</td>\n",
       "      <td>...</td>\n",
       "      <td>...</td>\n",
       "    </tr>\n",
       "    <tr>\n",
       "      <th>171472</th>\n",
       "      <td>20161031111001-854</td>\n",
       "      <td>ranger-stop</td>\n",
       "      <td>2016-05-31 23:40:13</td>\n",
       "      <td>6</td>\n",
       "    </tr>\n",
       "    <tr>\n",
       "      <th>171473</th>\n",
       "      <td>20165831105856-579</td>\n",
       "      <td>general gate</td>\n",
       "      <td>2016-05-31 23:42:08</td>\n",
       "      <td>1</td>\n",
       "    </tr>\n",
       "    <tr>\n",
       "      <th>171474</th>\n",
       "      <td>20161031111001-854</td>\n",
       "      <td>general gate</td>\n",
       "      <td>2016-05-31 23:43:13</td>\n",
       "      <td>6</td>\n",
       "    </tr>\n",
       "    <tr>\n",
       "      <th>171475</th>\n",
       "      <td>20165831105856-579</td>\n",
       "      <td>general gate</td>\n",
       "      <td>2016-05-31 23:49:45</td>\n",
       "      <td>1</td>\n",
       "    </tr>\n",
       "    <tr>\n",
       "      <th>171476</th>\n",
       "      <td>20161031111001-854</td>\n",
       "      <td>general gate</td>\n",
       "      <td>2016-05-31 23:56:06</td>\n",
       "      <td>6</td>\n",
       "    </tr>\n",
       "  </tbody>\n",
       "</table>\n",
       "<p>171477 rows × 4 columns</p>\n",
       "</div>"
      ],
      "text/plain": [
       "                    car-id     gate-name            Timestamp car-type\n",
       "0       20154301124328-262      entrance  2015-05-01 00:43:28        4\n",
       "1       20154301124328-262  general gate  2015-05-01 01:03:48        4\n",
       "2       20154301124328-262   ranger-stop  2015-05-01 01:06:24        4\n",
       "3       20154301124328-262   ranger-stop  2015-05-01 01:09:25        4\n",
       "4       20154301124328-262  general gate  2015-05-01 01:12:36        4\n",
       "...                    ...           ...                  ...      ...\n",
       "171472  20161031111001-854   ranger-stop  2016-05-31 23:40:13        6\n",
       "171473  20165831105856-579  general gate  2016-05-31 23:42:08        1\n",
       "171474  20161031111001-854  general gate  2016-05-31 23:43:13        6\n",
       "171475  20165831105856-579  general gate  2016-05-31 23:49:45        1\n",
       "171476  20161031111001-854  general gate  2016-05-31 23:56:06        6\n",
       "\n",
       "[171477 rows x 4 columns]"
      ]
     },
     "execution_count": 161,
     "metadata": {},
     "output_type": "execute_result"
    }
   ],
   "source": [
    "df = df[['car-id', 'gate-name', 'Timestamp', 'car-type']]\n",
    "df"
   ]
  },
  {
   "cell_type": "code",
   "execution_count": 162,
   "metadata": {},
   "outputs": [
    {
     "name": "stdout",
     "output_type": "stream",
     "text": [
      "['entrance' 'general gate' 'ranger-stop' 'camping' 'ranger-base' 'gate']\n",
      "['4' '1' '3' '5' '2' '2P' '6']\n",
      "18708\n"
     ]
    }
   ],
   "source": [
    "print(df[\"gate-name\"].unique())\n",
    "print(df[\"car-type\"].unique())\n",
    "print(df[\"car-id\"].nunique())\n"
   ]
  },
  {
   "cell_type": "markdown",
   "metadata": {},
   "source": [
    "# insight1\n",
    "\n",
    "Approximately 3200 cars (17%) are “pass-throughs” – they drive through\n",
    "the Preserve without stopping at campsites or ranger-related places \n",
    "along the way.\n"
   ]
  },
  {
   "cell_type": "code",
   "execution_count": 163,
   "metadata": {},
   "outputs": [
    {
     "data": {
      "text/plain": [
       "3192"
      ]
     },
     "execution_count": 163,
     "metadata": {},
     "output_type": "execute_result"
    }
   ],
   "source": [
    "all_cars = df[\"car-id\"].unique()\n",
    "non_pass_through = df.loc[df['gate-name'].isin([\"ranger-stop\", \"ranger-base\", \"camping\"]), 'car-id'].unique()\n",
    "pass_through =  np.array(list(set(all_cars) - set(non_pass_through)))\n",
    "\n",
    "#new df\n",
    "df_insight1 = df.loc[df['car-id'].isin(pass_through)]\n",
    "\n",
    "#sanity-check\n",
    "df_insight1[\"car-id\"].nunique()\n",
    "\n"
   ]
  },
  {
   "cell_type": "code",
   "execution_count": 164,
   "metadata": {},
   "outputs": [
    {
     "name": "stdout",
     "output_type": "stream",
     "text": [
      "170\n"
     ]
    }
   ],
   "source": [
    "#sample\n",
    "pass_through_sample = np.random.choice(pass_through, 170, replace = False)\n",
    "print(len(pass_through_sample))\n",
    "#new df\n",
    "df_insight1_sample = df.loc[df['car-id'].isin(pass_through_sample)]"
   ]
  },
  {
   "cell_type": "markdown",
   "metadata": {},
   "source": [
    "# insight2\n",
    "\n",
    "A majority of the traffic (around 68.5%) passed by at least one ranger stop, and they may be general traffic or ranger cars.\n",
    "Approximately 1000 (5.5%) cars are ranger cars who left their bases to various gates that were not accessible to general traffic.\n"
   ]
  },
  {
   "cell_type": "code",
   "execution_count": 165,
   "metadata": {},
   "outputs": [
    {
     "name": "stdout",
     "output_type": "stream",
     "text": [
      "12808\n"
     ]
    }
   ],
   "source": [
    "all_cars = df[\"car-id\"].unique()\n",
    "taken_ranger_stops = df.loc[df['gate-name'].isin([\"ranger-stop\"]), 'car-id'].unique()\n",
    "print(len(taken_ranger_stops))\n",
    "#new df\n",
    "df_insight2 = df.loc[df['car-id'].isin(taken_ranger_stops)]\n"
   ]
  },
  {
   "cell_type": "code",
   "execution_count": 166,
   "metadata": {},
   "outputs": [
    {
     "name": "stdout",
     "output_type": "stream",
     "text": [
      "685\n"
     ]
    }
   ],
   "source": [
    "#sample\n",
    "taken_ranger_stops_sample = np.random.choice(taken_ranger_stops, 685, replace = False)\n",
    "print(len(taken_ranger_stops_sample))\n",
    "#new df\n",
    "df_insight2_sample = df.loc[df['car-id'].isin(taken_ranger_stops_sample)]\n"
   ]
  },
  {
   "cell_type": "code",
   "execution_count": 167,
   "metadata": {},
   "outputs": [
    {
     "name": "stdout",
     "output_type": "stream",
     "text": [
      "1021\n"
     ]
    }
   ],
   "source": [
    "all_cars = df[\"car-id\"].unique()\n",
    "crossed_gate = df.loc[df['gate-name'].isin([\"gate\"]), 'car-id'].unique()\n",
    "print(len(crossed_gate))\n",
    "#new df\n",
    "df_insight2a = df.loc[df['car-id'].isin(crossed_gate)]"
   ]
  },
  {
   "cell_type": "code",
   "execution_count": 168,
   "metadata": {},
   "outputs": [
    {
     "name": "stdout",
     "output_type": "stream",
     "text": [
      "55\n"
     ]
    }
   ],
   "source": [
    "#sample\n",
    "crossed_gate_sample = np.random.choice(crossed_gate, 55, replace = False)\n",
    "print(len(crossed_gate_sample))\n",
    "#new df\n",
    "df_insight2a_sample = df.loc[df['car-id'].isin(crossed_gate_sample)]\n"
   ]
  },
  {
   "cell_type": "markdown",
   "metadata": {},
   "source": [
    "# insight3\n",
    "\n",
    "Approximately 2700 (14.4%) cars are definitely campers, who entered the preserve through the entrance and went to various camp sites without stopping at any ranger stops or ranger bases."
   ]
  },
  {
   "cell_type": "code",
   "execution_count": 169,
   "metadata": {},
   "outputs": [
    {
     "name": "stdout",
     "output_type": "stream",
     "text": [
      "9660\n",
      "12827\n",
      "2689\n"
     ]
    }
   ],
   "source": [
    "# Get sequence where both entrance and camping is present\n",
    "potential_camper_entrance = df.loc[df['gate-name'].isin([\"entrance\"]), 'car-id'].unique()\n",
    "potential_camper_camping = df.loc[df['gate-name'].isin([\"camping\"]), 'car-id'].unique()\n",
    "potential_camper = np.intersect1d(potential_camper_entrance, potential_camper_camping)\n",
    "print(len(potential_camper))\n",
    "\n",
    "# Get sequence where one of ranger-stop and ranger-base is present\n",
    "stopper = df.loc[df['gate-name'].isin([\"ranger-stop\", \"ranger-base\"]), 'car-id'].unique()\n",
    "print(len(stopper))\n",
    "camper =  list(set(potential_camper) - set(stopper))\n",
    "print(len(camper))\n",
    "\n",
    "df_insight3 = df.loc[df['car-id'].isin(camper)]"
   ]
  },
  {
   "cell_type": "code",
   "execution_count": 170,
   "metadata": {},
   "outputs": [
    {
     "name": "stdout",
     "output_type": "stream",
     "text": [
      "144\n"
     ]
    }
   ],
   "source": [
    "#sample\n",
    "camper_sample = np.random.choice(camper, 144, replace = False)\n",
    "print(len(camper_sample))\n",
    "#new df\n",
    "df_insight3_sample = df.loc[df['car-id'].isin(camper_sample)]\n"
   ]
  },
  {
   "cell_type": "code",
   "execution_count": 171,
   "metadata": {},
   "outputs": [
    {
     "name": "stdout",
     "output_type": "stream",
     "text": [
      "<class 'pandas.core.frame.DataFrame'>\n",
      "RangeIndex: 10468 entries, 0 to 10467\n",
      "Data columns (total 4 columns):\n",
      " #   Column     Non-Null Count  Dtype \n",
      "---  ------     --------------  ----- \n",
      " 0   car-id     10468 non-null  object\n",
      " 1   gate-name  10468 non-null  object\n",
      " 2   Timestamp  10468 non-null  object\n",
      " 3   car-type   10468 non-null  object\n",
      "dtypes: object(4)\n",
      "memory usage: 327.2+ KB\n",
      "                   car-id     gate-name            Timestamp car-type\n",
      "0      20150802110852-346      entrance  2015-05-02 23:08:52        2\n",
      "1      20150802110852-346  general gate  2015-05-02 23:22:45        2\n",
      "2      20150802110852-346  general gate  2015-05-02 23:30:33        2\n",
      "3      20150802110852-346      entrance  2015-05-02 23:45:01        2\n",
      "4      20150903020928-497      entrance  2015-05-03 02:09:28        2\n",
      "...                   ...           ...                  ...      ...\n",
      "10463  20164228094248-123      entrance  2016-05-28 10:21:48        2\n",
      "10464  20160730070750-227      entrance  2016-05-30 07:07:50        1\n",
      "10465  20160730070750-227  general gate  2016-05-30 07:20:39        1\n",
      "10466  20160730070750-227  general gate  2016-05-30 07:27:51        1\n",
      "10467  20160730070750-227       camping  2016-05-30 07:37:53        1\n",
      "\n",
      "[10468 rows x 4 columns]\n"
     ]
    },
    {
     "data": {
      "text/plain": [
       "1051"
      ]
     },
     "execution_count": 171,
     "metadata": {},
     "output_type": "execute_result"
    }
   ],
   "source": [
    "insight_df = pd.concat([df_insight1_sample, df_insight2_sample, df_insight2a_sample, df_insight3_sample], ignore_index=True)\n",
    "insight_df.drop_duplicates(ignore_index=True, inplace=True)\n",
    "insight_df.info()\n",
    "len(insight_df)\n",
    "print(insight_df)\n",
    "#sanity-check\n",
    "insight_df[\"car-id\"].nunique()\n"
   ]
  },
  {
   "cell_type": "code",
   "execution_count": 179,
   "metadata": {},
   "outputs": [],
   "source": [
    "insight_df.to_csv('vast-eventflow-shortened.txt',index=False,header=False,sep=\"\\t\")"
   ]
  },
  {
   "cell_type": "code",
   "execution_count": 180,
   "metadata": {},
   "outputs": [],
   "source": [
    "insight_df.to_csv('vast-eventflow-shortened.csv',index=False,sep=\",\")"
   ]
  },
  {
   "cell_type": "markdown",
   "metadata": {},
   "source": [
    "# Other codes"
   ]
  },
  {
   "cell_type": "code",
   "execution_count": 106,
   "metadata": {},
   "outputs": [
    {
     "name": "stdout",
     "output_type": "stream",
     "text": [
      "18333\n",
      "12827\n",
      "5881\n"
     ]
    }
   ],
   "source": [
    "potential_camper = df.loc[df['gate-name'].isin([\"entrance\", \"camping\"]), 'car-id'].unique()\n",
    "stopper = df.loc[df['gate-name'].isin([\"ranger-stop\", \"ranger-base\"]), 'car-id'].unique()\n",
    "\n",
    "print(len(potential_camper))\n",
    "print(len(stopper))\n",
    "camper =  list(set(potential_camper) - set(stopper))#np.intersect1d(potential_camper, stopper)\n",
    "print(len(camper))"
   ]
  },
  {
   "cell_type": "code",
   "execution_count": 38,
   "metadata": {},
   "outputs": [
    {
     "data": {
      "text/html": [
       "<div>\n",
       "<style scoped>\n",
       "    .dataframe tbody tr th:only-of-type {\n",
       "        vertical-align: middle;\n",
       "    }\n",
       "\n",
       "    .dataframe tbody tr th {\n",
       "        vertical-align: top;\n",
       "    }\n",
       "\n",
       "    .dataframe thead th {\n",
       "        text-align: right;\n",
       "    }\n",
       "</style>\n",
       "<table border=\"1\" class=\"dataframe\">\n",
       "  <thead>\n",
       "    <tr style=\"text-align: right;\">\n",
       "      <th></th>\n",
       "      <th>car-id</th>\n",
       "      <th>gate-name</th>\n",
       "      <th>Timestamp</th>\n",
       "      <th>car-type</th>\n",
       "    </tr>\n",
       "  </thead>\n",
       "  <tbody>\n",
       "    <tr>\n",
       "      <th>0</th>\n",
       "      <td>20154301124328-262</td>\n",
       "      <td>entrance</td>\n",
       "      <td>2015-05-01 00:43:28</td>\n",
       "      <td>4</td>\n",
       "    </tr>\n",
       "    <tr>\n",
       "      <th>1</th>\n",
       "      <td>20154301124328-262</td>\n",
       "      <td>general gate</td>\n",
       "      <td>2015-05-01 01:03:48</td>\n",
       "      <td>4</td>\n",
       "    </tr>\n",
       "    <tr>\n",
       "      <th>4</th>\n",
       "      <td>20154301124328-262</td>\n",
       "      <td>general gate</td>\n",
       "      <td>2015-05-01 01:12:36</td>\n",
       "      <td>4</td>\n",
       "    </tr>\n",
       "    <tr>\n",
       "      <th>5</th>\n",
       "      <td>20154301124328-262</td>\n",
       "      <td>general gate</td>\n",
       "      <td>2015-05-01 01:24:02</td>\n",
       "      <td>4</td>\n",
       "    </tr>\n",
       "    <tr>\n",
       "      <th>6</th>\n",
       "      <td>20153101013141-937</td>\n",
       "      <td>entrance</td>\n",
       "      <td>2015-05-01 01:31:41</td>\n",
       "      <td>1</td>\n",
       "    </tr>\n",
       "    <tr>\n",
       "      <th>...</th>\n",
       "      <td>...</td>\n",
       "      <td>...</td>\n",
       "      <td>...</td>\n",
       "      <td>...</td>\n",
       "    </tr>\n",
       "    <tr>\n",
       "      <th>171470</th>\n",
       "      <td>20161031111001-854</td>\n",
       "      <td>general gate</td>\n",
       "      <td>2016-05-31 23:33:00</td>\n",
       "      <td>6</td>\n",
       "    </tr>\n",
       "    <tr>\n",
       "      <th>171473</th>\n",
       "      <td>20165831105856-579</td>\n",
       "      <td>general gate</td>\n",
       "      <td>2016-05-31 23:42:08</td>\n",
       "      <td>1</td>\n",
       "    </tr>\n",
       "    <tr>\n",
       "      <th>171474</th>\n",
       "      <td>20161031111001-854</td>\n",
       "      <td>general gate</td>\n",
       "      <td>2016-05-31 23:43:13</td>\n",
       "      <td>6</td>\n",
       "    </tr>\n",
       "    <tr>\n",
       "      <th>171475</th>\n",
       "      <td>20165831105856-579</td>\n",
       "      <td>general gate</td>\n",
       "      <td>2016-05-31 23:49:45</td>\n",
       "      <td>1</td>\n",
       "    </tr>\n",
       "    <tr>\n",
       "      <th>171476</th>\n",
       "      <td>20161031111001-854</td>\n",
       "      <td>general gate</td>\n",
       "      <td>2016-05-31 23:56:06</td>\n",
       "      <td>6</td>\n",
       "    </tr>\n",
       "  </tbody>\n",
       "</table>\n",
       "<p>133600 rows × 4 columns</p>\n",
       "</div>"
      ],
      "text/plain": [
       "                    car-id     gate-name            Timestamp car-type\n",
       "0       20154301124328-262      entrance  2015-05-01 00:43:28        4\n",
       "1       20154301124328-262  general gate  2015-05-01 01:03:48        4\n",
       "4       20154301124328-262  general gate  2015-05-01 01:12:36        4\n",
       "5       20154301124328-262  general gate  2015-05-01 01:24:02        4\n",
       "6       20153101013141-937      entrance  2015-05-01 01:31:41        1\n",
       "...                    ...           ...                  ...      ...\n",
       "171470  20161031111001-854  general gate  2016-05-31 23:33:00        6\n",
       "171473  20165831105856-579  general gate  2016-05-31 23:42:08        1\n",
       "171474  20161031111001-854  general gate  2016-05-31 23:43:13        6\n",
       "171475  20165831105856-579  general gate  2016-05-31 23:49:45        1\n",
       "171476  20161031111001-854  general gate  2016-05-31 23:56:06        6\n",
       "\n",
       "[133600 rows x 4 columns]"
      ]
     },
     "execution_count": 38,
     "metadata": {},
     "output_type": "execute_result"
    }
   ],
   "source": [
    "df.loc[~df['gate-name'].isin([\"ranger-stop\", \"ranger-base\"])]"
   ]
  },
  {
   "cell_type": "code",
   "execution_count": 177,
   "metadata": {},
   "outputs": [
    {
     "data": {
      "text/plain": [
       "1002"
      ]
     },
     "execution_count": 177,
     "metadata": {},
     "output_type": "execute_result"
    }
   ],
   "source": [
    "len(np.intersect1d(crossed_gate, taken_ranger_stops))"
   ]
  },
  {
   "cell_type": "code",
   "execution_count": null,
   "metadata": {},
   "outputs": [],
   "source": [
    "df[\"gate-name\"].isin()"
   ]
  },
  {
   "cell_type": "code",
   "execution_count": 34,
   "metadata": {},
   "outputs": [
    {
     "ename": "AttributeError",
     "evalue": "'DataFrame' object has no attribute 'gate'",
     "output_type": "error",
     "traceback": [
      "\u001b[0;31m---------------------------------------------------------------------------\u001b[0m",
      "\u001b[0;31mAttributeError\u001b[0m                            Traceback (most recent call last)",
      "\u001b[0;32m<ipython-input-34-7e33f07ca4ab>\u001b[0m in \u001b[0;36m<module>\u001b[0;34m\u001b[0m\n\u001b[0;32m----> 1\u001b[0;31m \u001b[0mdf\u001b[0m\u001b[0;34m[\u001b[0m\u001b[0mdf\u001b[0m\u001b[0;34m.\u001b[0m\u001b[0mgate\u001b[0m\u001b[0;34m-\u001b[0m\u001b[0mname\u001b[0m\u001b[0;34m.\u001b[0m\u001b[0mstr\u001b[0m\u001b[0;34m.\u001b[0m\u001b[0mcontains\u001b[0m\u001b[0;34m(\u001b[0m\u001b[0;34m'ranger'\u001b[0m\u001b[0;34m,\u001b[0m \u001b[0mregex\u001b[0m\u001b[0;34m=\u001b[0m \u001b[0;32mTrue\u001b[0m\u001b[0;34m,\u001b[0m \u001b[0mna\u001b[0m\u001b[0;34m=\u001b[0m\u001b[0;32mFalse\u001b[0m\u001b[0;34m)\u001b[0m\u001b[0;34m]\u001b[0m\u001b[0;34m\u001b[0m\u001b[0;34m\u001b[0m\u001b[0m\n\u001b[0m",
      "\u001b[0;32m~/anaconda/anaconda/lib/python3.7/site-packages/pandas/core/generic.py\u001b[0m in \u001b[0;36m__getattr__\u001b[0;34m(self, name)\u001b[0m\n\u001b[1;32m   5137\u001b[0m             \u001b[0;32mif\u001b[0m \u001b[0mself\u001b[0m\u001b[0;34m.\u001b[0m\u001b[0m_info_axis\u001b[0m\u001b[0;34m.\u001b[0m\u001b[0m_can_hold_identifiers_and_holds_name\u001b[0m\u001b[0;34m(\u001b[0m\u001b[0mname\u001b[0m\u001b[0;34m)\u001b[0m\u001b[0;34m:\u001b[0m\u001b[0;34m\u001b[0m\u001b[0;34m\u001b[0m\u001b[0m\n\u001b[1;32m   5138\u001b[0m                 \u001b[0;32mreturn\u001b[0m \u001b[0mself\u001b[0m\u001b[0;34m[\u001b[0m\u001b[0mname\u001b[0m\u001b[0;34m]\u001b[0m\u001b[0;34m\u001b[0m\u001b[0;34m\u001b[0m\u001b[0m\n\u001b[0;32m-> 5139\u001b[0;31m             \u001b[0;32mreturn\u001b[0m \u001b[0mobject\u001b[0m\u001b[0;34m.\u001b[0m\u001b[0m__getattribute__\u001b[0m\u001b[0;34m(\u001b[0m\u001b[0mself\u001b[0m\u001b[0;34m,\u001b[0m \u001b[0mname\u001b[0m\u001b[0;34m)\u001b[0m\u001b[0;34m\u001b[0m\u001b[0;34m\u001b[0m\u001b[0m\n\u001b[0m\u001b[1;32m   5140\u001b[0m \u001b[0;34m\u001b[0m\u001b[0m\n\u001b[1;32m   5141\u001b[0m     \u001b[0;32mdef\u001b[0m \u001b[0m__setattr__\u001b[0m\u001b[0;34m(\u001b[0m\u001b[0mself\u001b[0m\u001b[0;34m,\u001b[0m \u001b[0mname\u001b[0m\u001b[0;34m:\u001b[0m \u001b[0mstr\u001b[0m\u001b[0;34m,\u001b[0m \u001b[0mvalue\u001b[0m\u001b[0;34m)\u001b[0m \u001b[0;34m->\u001b[0m \u001b[0;32mNone\u001b[0m\u001b[0;34m:\u001b[0m\u001b[0;34m\u001b[0m\u001b[0;34m\u001b[0m\u001b[0m\n",
      "\u001b[0;31mAttributeError\u001b[0m: 'DataFrame' object has no attribute 'gate'"
     ]
    }
   ],
   "source": [
    "df[df.[\"gate-name\"].str.contains('oo', regex= True, na=False)]"
   ]
  },
  {
   "cell_type": "code",
   "execution_count": 12,
   "metadata": {},
   "outputs": [],
   "source": [
    "df.to_csv('cleaned-eventflow.txt',index=False,header=False,sep=\"\\t\")"
   ]
  },
  {
   "cell_type": "code",
   "execution_count": null,
   "metadata": {},
   "outputs": [],
   "source": []
  }
 ],
 "metadata": {
  "kernelspec": {
   "display_name": "Python 3",
   "language": "python",
   "name": "python3"
  },
  "language_info": {
   "codemirror_mode": {
    "name": "ipython",
    "version": 3
   },
   "file_extension": ".py",
   "mimetype": "text/x-python",
   "name": "python",
   "nbconvert_exporter": "python",
   "pygments_lexer": "ipython3",
   "version": "3.7.4"
  }
 },
 "nbformat": 4,
 "nbformat_minor": 4
}
