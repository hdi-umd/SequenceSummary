{
 "cells": [
  {
   "cell_type": "code",
   "execution_count": null,
   "metadata": {},
   "outputs": [],
   "source": [
    "import pandas as pd\n"
   ]
  },
  {
   "cell_type": "code",
   "execution_count": null,
   "metadata": {},
   "outputs": [],
   "source": [
    "#making pandas dataframe from text with added headers\n",
    "\n",
    "df = pd.read_csv('study_lived.txt', delimiter = \"\\t\", header=None, names=[\"Case\", \"Event name\", \"Time\", \"End\",\"Doctor/ Outcome\"])"
   ]
  },
  {
   "cell_type": "code",
   "execution_count": null,
   "metadata": {},
   "outputs": [],
   "source": [
    "df"
   ]
  },
  {
   "cell_type": "code",
   "execution_count": null,
   "metadata": {},
   "outputs": [],
   "source": [
    "df.dtypes"
   ]
  },
  {
   "cell_type": "code",
   "execution_count": null,
   "metadata": {},
   "outputs": [],
   "source": [
    "#4th column is NAN\n",
    "df=df.dropna(axis=\"columns\", how=\"all\")"
   ]
  },
  {
   "cell_type": "code",
   "execution_count": null,
   "metadata": {},
   "outputs": [],
   "source": [
    "#rows with doctor value\n",
    "df.loc[df['Doctor/ Outcome'].str.startswith(\"Doctor\", na=False)]"
   ]
  },
  {
   "cell_type": "code",
   "execution_count": null,
   "metadata": {},
   "outputs": [],
   "source": [
    "#separating doctor and outcome columns\n",
    "df[\"Doctor\"]=df['Doctor/ Outcome'].loc[df['Doctor/ Outcome'].str.startswith(\"Doctor\", na=False)]\n",
    "df[\"Outcome\"]=df['Doctor/ Outcome'].loc[df['Doctor/ Outcome'].str.startswith(\"Discharge\", na=False)]"
   ]
  },
  {
   "cell_type": "code",
   "execution_count": null,
   "metadata": {},
   "outputs": [],
   "source": [
    "#Number of unique values in Doctor/ Outcome\n",
    "print(df['Doctor/ Outcome'].unique())\n",
    "print(df['Doctor/ Outcome'].nunique())"
   ]
  },
  {
   "cell_type": "code",
   "execution_count": null,
   "metadata": {},
   "outputs": [],
   "source": [
    "print(df['Case'].unique())\n",
    "print(df['Case'].nunique())"
   ]
  },
  {
   "cell_type": "code",
   "execution_count": null,
   "metadata": {},
   "outputs": [],
   "source": [
    "#remove prefix from Doctor and Discharge\n",
    "df[\"Doctor\"]=df[\"Doctor\"].str.replace(\"Doctor=\",\"\")\n",
    "df[\"Outcome\"]=df[\"Outcome\"].str.replace(\"Discharge=\",\"\")"
   ]
  },
  {
   "cell_type": "code",
   "execution_count": null,
   "metadata": {},
   "outputs": [],
   "source": [
    "#does hyphen mean multiple visits?\n",
    "df['Case'].str.extract(r'(\\d+)').iloc[:,0].unique()\n",
    "df['Case'].str.extract(r'(\\d+)').iloc[:,0].nunique()"
   ]
  },
  {
   "cell_type": "code",
   "execution_count": null,
   "metadata": {},
   "outputs": [],
   "source": [
    "#Number of unique events\n",
    "print(df[\"Event name\"].unique())\n",
    "print(df[\"Event name\"].nunique())"
   ]
  },
  {
   "cell_type": "code",
   "execution_count": null,
   "metadata": {},
   "outputs": [],
   "source": [
    "#count max min and median seq len\n",
    "pd.set_option('display.max_rows', None)\n",
    "temp=(df[['Case',\"Event name\"]].groupby('Case').count())\n",
    "print(temp)\n",
    "print(temp.iloc[[temp[\"Event name\"].argmax()]])\n",
    "\n",
    "print(temp.iloc[[temp[\"Event name\"].argmin()]])\n",
    "\n",
    "print(temp[\"Event name\"].median())"
   ]
  },
  {
   "cell_type": "code",
   "execution_count": null,
   "metadata": {},
   "outputs": [],
   "source": [
    "# check for duplicate events\n",
    "for i in range(1,df[\"Case\"].nunique()+1):\n",
    "    #df.loc[df.Case==i]\n",
    "    print(df.loc[df.Case==i][[\"Event name\"]].duplicated().any())"
   ]
  },
  {
   "cell_type": "code",
   "execution_count": null,
   "metadata": {},
   "outputs": [],
   "source": [
    "# for time interval\n",
    "df['Time'] = pd.to_datetime(df['Time'])\n",
    "temp=(df.groupby('Case')['Time'].diff())#transform(lambda x: x.diff()))\n",
    "print(temp)\n",
    "print(temp.argmin())\n",
    "print(temp.min())\n",
    "print(temp.argmax())\n",
    "print(temp.max())\n",
    "print(temp.median())\n"
   ]
  }
 ],
 "metadata": {
  "kernelspec": {
   "display_name": "Python 3.8.5 64-bit",
   "language": "python",
   "name": "python38564bit8e74114c351544819777b51aa88f0aa0"
  },
  "language_info": {
   "codemirror_mode": {
    "name": "ipython",
    "version": 3
   },
   "file_extension": ".py",
   "mimetype": "text/x-python",
   "name": "python",
   "nbconvert_exporter": "python",
   "pygments_lexer": "ipython3",
   "version": "3.8.11"
  }
 },
 "nbformat": 4,
 "nbformat_minor": 2
}
